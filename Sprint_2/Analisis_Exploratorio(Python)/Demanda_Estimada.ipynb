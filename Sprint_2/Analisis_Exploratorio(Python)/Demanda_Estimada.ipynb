{
 "cells": [
  {
   "cell_type": "markdown",
   "id": "7293bc75",
   "metadata": {},
   "source": [
    "## Determinar demanda mensual para proyectar inventario"
   ]
  },
  {
   "cell_type": "markdown",
   "id": "41feb5a4",
   "metadata": {},
   "source": [
    "Tabla Resumen "
   ]
  },
  {
   "cell_type": "markdown",
   "id": "231fe646",
   "metadata": {},
   "source": [
    "                Objetivo: Determinar demanda mensual para proyectar inventario"
   ]
  },
  {
   "cell_type": "code",
   "execution_count": 2,
   "id": "77af4af7",
   "metadata": {},
   "outputs": [],
   "source": [
    "import pandas as pd"
   ]
  },
  {
   "cell_type": "code",
   "execution_count": 3,
   "id": "c5b697c9",
   "metadata": {},
   "outputs": [
    {
     "data": {
      "application/vnd.microsoft.datawrangler.viewer.v0+json": {
       "columns": [
        {
         "name": "index",
         "rawType": "int64",
         "type": "integer"
        },
        {
         "name": "CompraDetalle_ID",
         "rawType": "object",
         "type": "string"
        },
        {
         "name": "Inventario_ID",
         "rawType": "object",
         "type": "string"
        },
        {
         "name": "Tienda_ID",
         "rawType": "int64",
         "type": "integer"
        },
        {
         "name": "Producto_ID",
         "rawType": "int64",
         "type": "integer"
        },
        {
         "name": "Nombre_Producto",
         "rawType": "object",
         "type": "string"
        },
        {
         "name": "Tamaño",
         "rawType": "object",
         "type": "string"
        },
        {
         "name": "Proveedor_ID",
         "rawType": "int64",
         "type": "integer"
        },
        {
         "name": "Nombre_Proveedor",
         "rawType": "object",
         "type": "string"
        },
        {
         "name": "Compra_ID",
         "rawType": "int64",
         "type": "integer"
        },
        {
         "name": "Fecha_Compra",
         "rawType": "object",
         "type": "string"
        },
        {
         "name": "Fecha_Ingreso",
         "rawType": "object",
         "type": "string"
        },
        {
         "name": "Fecha_Factura",
         "rawType": "object",
         "type": "string"
        },
        {
         "name": "Fecha_Pago",
         "rawType": "object",
         "type": "string"
        },
        {
         "name": "Costo_Unitario",
         "rawType": "float64",
         "type": "float"
        },
        {
         "name": "Cantidad",
         "rawType": "int64",
         "type": "integer"
        },
        {
         "name": "Costo_Total",
         "rawType": "float64",
         "type": "float"
        },
        {
         "name": "Clasificacion",
         "rawType": "int64",
         "type": "integer"
        }
       ],
       "ref": "13e8d3da-342e-4022-b2e0-c2ff5be62b5b",
       "rows": [
        [
         "0",
         "PO_0001",
         "69_MOUNTMEND_8412",
         "69",
         "8412",
         "TEQUILA OCHO PLATA FRESNO",
         "750ML",
         "105",
         "ALTAMAR BRANDS LLC",
         "8124",
         "2015-12-21",
         "2016-01-02",
         "2016-01-04",
         "2016-02-16",
         "35.71",
         "6",
         "214.26",
         "1"
        ],
        [
         "1",
         "PO_0002",
         "30_CULCHETH_5255",
         "30",
         "5255",
         "TGI FRIDAYS ULTIMTE MUDSLIDE",
         "1.75L",
         "4466",
         "AMERICAN VINTAGE BEVERAGE",
         "8137",
         "2015-12-22",
         "2016-01-01",
         "2016-01-07",
         "2016-02-21",
         "9.35",
         "4",
         "37.4",
         "1"
        ],
        [
         "2",
         "PO_0003",
         "34_PITMERDEN_5215",
         "34",
         "5215",
         "TGI FRIDAYS LONG ISLAND ICED",
         "1.75L",
         "4466",
         "AMERICAN VINTAGE BEVERAGE",
         "8137",
         "2015-12-22",
         "2016-01-02",
         "2016-01-07",
         "2016-02-21",
         "9.41",
         "5",
         "47.05",
         "1"
        ],
        [
         "3",
         "PO_0004",
         "1_HARDERSFIELD_5255",
         "1",
         "5255",
         "TGI FRIDAYS ULTIMTE MUDSLIDE",
         "1.75L",
         "4466",
         "AMERICAN VINTAGE BEVERAGE",
         "8137",
         "2015-12-22",
         "2016-01-01",
         "2016-01-07",
         "2016-02-21",
         "9.35",
         "6",
         "56.1",
         "1"
        ],
        [
         "4",
         "PO_0005",
         "76_DONCASTER_2034",
         "76",
         "2034",
         "GLENDALOUGH DOUBLE BARREL",
         "750ML",
         "388",
         "ATLANTIC IMPORTING COMPANY",
         "8169",
         "2015-12-24",
         "2016-01-02",
         "2016-01-09",
         "2016-02-16",
         "21.32",
         "5",
         "106.6",
         "1"
        ]
       ],
       "shape": {
        "columns": 17,
        "rows": 5
       }
      },
      "text/html": [
       "<div>\n",
       "<style scoped>\n",
       "    .dataframe tbody tr th:only-of-type {\n",
       "        vertical-align: middle;\n",
       "    }\n",
       "\n",
       "    .dataframe tbody tr th {\n",
       "        vertical-align: top;\n",
       "    }\n",
       "\n",
       "    .dataframe thead th {\n",
       "        text-align: right;\n",
       "    }\n",
       "</style>\n",
       "<table border=\"1\" class=\"dataframe\">\n",
       "  <thead>\n",
       "    <tr style=\"text-align: right;\">\n",
       "      <th></th>\n",
       "      <th>CompraDetalle_ID</th>\n",
       "      <th>Inventario_ID</th>\n",
       "      <th>Tienda_ID</th>\n",
       "      <th>Producto_ID</th>\n",
       "      <th>Nombre_Producto</th>\n",
       "      <th>Tamaño</th>\n",
       "      <th>Proveedor_ID</th>\n",
       "      <th>Nombre_Proveedor</th>\n",
       "      <th>Compra_ID</th>\n",
       "      <th>Fecha_Compra</th>\n",
       "      <th>Fecha_Ingreso</th>\n",
       "      <th>Fecha_Factura</th>\n",
       "      <th>Fecha_Pago</th>\n",
       "      <th>Costo_Unitario</th>\n",
       "      <th>Cantidad</th>\n",
       "      <th>Costo_Total</th>\n",
       "      <th>Clasificacion</th>\n",
       "    </tr>\n",
       "  </thead>\n",
       "  <tbody>\n",
       "    <tr>\n",
       "      <th>0</th>\n",
       "      <td>PO_0001</td>\n",
       "      <td>69_MOUNTMEND_8412</td>\n",
       "      <td>69</td>\n",
       "      <td>8412</td>\n",
       "      <td>TEQUILA OCHO PLATA FRESNO</td>\n",
       "      <td>750ML</td>\n",
       "      <td>105</td>\n",
       "      <td>ALTAMAR BRANDS LLC</td>\n",
       "      <td>8124</td>\n",
       "      <td>2015-12-21</td>\n",
       "      <td>2016-01-02</td>\n",
       "      <td>2016-01-04</td>\n",
       "      <td>2016-02-16</td>\n",
       "      <td>35.71</td>\n",
       "      <td>6</td>\n",
       "      <td>214.26</td>\n",
       "      <td>1</td>\n",
       "    </tr>\n",
       "    <tr>\n",
       "      <th>1</th>\n",
       "      <td>PO_0002</td>\n",
       "      <td>30_CULCHETH_5255</td>\n",
       "      <td>30</td>\n",
       "      <td>5255</td>\n",
       "      <td>TGI FRIDAYS ULTIMTE MUDSLIDE</td>\n",
       "      <td>1.75L</td>\n",
       "      <td>4466</td>\n",
       "      <td>AMERICAN VINTAGE BEVERAGE</td>\n",
       "      <td>8137</td>\n",
       "      <td>2015-12-22</td>\n",
       "      <td>2016-01-01</td>\n",
       "      <td>2016-01-07</td>\n",
       "      <td>2016-02-21</td>\n",
       "      <td>9.35</td>\n",
       "      <td>4</td>\n",
       "      <td>37.40</td>\n",
       "      <td>1</td>\n",
       "    </tr>\n",
       "    <tr>\n",
       "      <th>2</th>\n",
       "      <td>PO_0003</td>\n",
       "      <td>34_PITMERDEN_5215</td>\n",
       "      <td>34</td>\n",
       "      <td>5215</td>\n",
       "      <td>TGI FRIDAYS LONG ISLAND ICED</td>\n",
       "      <td>1.75L</td>\n",
       "      <td>4466</td>\n",
       "      <td>AMERICAN VINTAGE BEVERAGE</td>\n",
       "      <td>8137</td>\n",
       "      <td>2015-12-22</td>\n",
       "      <td>2016-01-02</td>\n",
       "      <td>2016-01-07</td>\n",
       "      <td>2016-02-21</td>\n",
       "      <td>9.41</td>\n",
       "      <td>5</td>\n",
       "      <td>47.05</td>\n",
       "      <td>1</td>\n",
       "    </tr>\n",
       "    <tr>\n",
       "      <th>3</th>\n",
       "      <td>PO_0004</td>\n",
       "      <td>1_HARDERSFIELD_5255</td>\n",
       "      <td>1</td>\n",
       "      <td>5255</td>\n",
       "      <td>TGI FRIDAYS ULTIMTE MUDSLIDE</td>\n",
       "      <td>1.75L</td>\n",
       "      <td>4466</td>\n",
       "      <td>AMERICAN VINTAGE BEVERAGE</td>\n",
       "      <td>8137</td>\n",
       "      <td>2015-12-22</td>\n",
       "      <td>2016-01-01</td>\n",
       "      <td>2016-01-07</td>\n",
       "      <td>2016-02-21</td>\n",
       "      <td>9.35</td>\n",
       "      <td>6</td>\n",
       "      <td>56.10</td>\n",
       "      <td>1</td>\n",
       "    </tr>\n",
       "    <tr>\n",
       "      <th>4</th>\n",
       "      <td>PO_0005</td>\n",
       "      <td>76_DONCASTER_2034</td>\n",
       "      <td>76</td>\n",
       "      <td>2034</td>\n",
       "      <td>GLENDALOUGH DOUBLE BARREL</td>\n",
       "      <td>750ML</td>\n",
       "      <td>388</td>\n",
       "      <td>ATLANTIC IMPORTING COMPANY</td>\n",
       "      <td>8169</td>\n",
       "      <td>2015-12-24</td>\n",
       "      <td>2016-01-02</td>\n",
       "      <td>2016-01-09</td>\n",
       "      <td>2016-02-16</td>\n",
       "      <td>21.32</td>\n",
       "      <td>5</td>\n",
       "      <td>106.60</td>\n",
       "      <td>1</td>\n",
       "    </tr>\n",
       "  </tbody>\n",
       "</table>\n",
       "</div>"
      ],
      "text/plain": [
       "  CompraDetalle_ID        Inventario_ID  Tienda_ID  Producto_ID  \\\n",
       "0          PO_0001    69_MOUNTMEND_8412         69         8412   \n",
       "1          PO_0002     30_CULCHETH_5255         30         5255   \n",
       "2          PO_0003    34_PITMERDEN_5215         34         5215   \n",
       "3          PO_0004  1_HARDERSFIELD_5255          1         5255   \n",
       "4          PO_0005    76_DONCASTER_2034         76         2034   \n",
       "\n",
       "                Nombre_Producto Tamaño  Proveedor_ID  \\\n",
       "0     TEQUILA OCHO PLATA FRESNO  750ML           105   \n",
       "1  TGI FRIDAYS ULTIMTE MUDSLIDE  1.75L          4466   \n",
       "2  TGI FRIDAYS LONG ISLAND ICED  1.75L          4466   \n",
       "3  TGI FRIDAYS ULTIMTE MUDSLIDE  1.75L          4466   \n",
       "4     GLENDALOUGH DOUBLE BARREL  750ML           388   \n",
       "\n",
       "             Nombre_Proveedor  Compra_ID Fecha_Compra Fecha_Ingreso  \\\n",
       "0          ALTAMAR BRANDS LLC       8124   2015-12-21    2016-01-02   \n",
       "1   AMERICAN VINTAGE BEVERAGE       8137   2015-12-22    2016-01-01   \n",
       "2   AMERICAN VINTAGE BEVERAGE       8137   2015-12-22    2016-01-02   \n",
       "3   AMERICAN VINTAGE BEVERAGE       8137   2015-12-22    2016-01-01   \n",
       "4  ATLANTIC IMPORTING COMPANY       8169   2015-12-24    2016-01-02   \n",
       "\n",
       "  Fecha_Factura  Fecha_Pago  Costo_Unitario  Cantidad  Costo_Total  \\\n",
       "0    2016-01-04  2016-02-16           35.71         6       214.26   \n",
       "1    2016-01-07  2016-02-21            9.35         4        37.40   \n",
       "2    2016-01-07  2016-02-21            9.41         5        47.05   \n",
       "3    2016-01-07  2016-02-21            9.35         6        56.10   \n",
       "4    2016-01-09  2016-02-16           21.32         5       106.60   \n",
       "\n",
       "   Clasificacion  \n",
       "0              1  \n",
       "1              1  \n",
       "2              1  \n",
       "3              1  \n",
       "4              1  "
      ]
     },
     "execution_count": 3,
     "metadata": {},
     "output_type": "execute_result"
    }
   ],
   "source": [
    "dt_detalles = pd.read_csv('C:/Users/sagua/OneDrive/Escritorio/DATA HENRY/Proyecto Final/Versiones/v3/detalles_compras_limpio.csv') \n",
    "dt_detalles.head()"
   ]
  },
  {
   "cell_type": "code",
   "execution_count": 4,
   "id": "47b511f7",
   "metadata": {},
   "outputs": [
    {
     "data": {
      "application/vnd.microsoft.datawrangler.viewer.v0+json": {
       "columns": [
        {
         "name": "index",
         "rawType": "int64",
         "type": "integer"
        },
        {
         "name": "Inventario_ID",
         "rawType": "object",
         "type": "string"
        },
        {
         "name": "Tienda_ID",
         "rawType": "int64",
         "type": "integer"
        },
        {
         "name": "Ciudad",
         "rawType": "object",
         "type": "string"
        },
        {
         "name": "Producto_ID",
         "rawType": "int64",
         "type": "integer"
        },
        {
         "name": "Nombre_Producto",
         "rawType": "object",
         "type": "string"
        },
        {
         "name": "Tamaño",
         "rawType": "object",
         "type": "string"
        },
        {
         "name": "Existencia_Inicial",
         "rawType": "float64",
         "type": "float"
        },
        {
         "name": "Existencia_Final",
         "rawType": "float64",
         "type": "float"
        },
        {
         "name": "Precio_Venta_Inicial",
         "rawType": "float64",
         "type": "float"
        },
        {
         "name": "Precio_Venta_Final",
         "rawType": "float64",
         "type": "float"
        },
        {
         "name": "Fecha_Cierre",
         "rawType": "object",
         "type": "string"
        }
       ],
       "ref": "744c3899-bf34-4405-97da-a7d1de0d3ca0",
       "rows": [
        [
         "0",
         "10_HORNSEY_1000",
         "10",
         "HORNSEY",
         "1000",
         "GOSLINGS DARK'N STORMY VAP",
         "750ML",
         "1.0",
         "0.0",
         "14.99",
         "0.0",
         "2016-12-31"
        ],
        [
         "1",
         "10_HORNSEY_1001",
         "10",
         "HORNSEY",
         "1001",
         "BAILEYS 50ML 4 PACK",
         "50ML 4 PK",
         "11.0",
         "0.0",
         "5.99",
         "5.99",
         "2016-12-31"
        ],
        [
         "2",
         "10_HORNSEY_1003",
         "10",
         "HORNSEY",
         "1003",
         "CROWN ROYAL VAP GLASS+COASTR",
         "750ML",
         "0.0",
         "73.0",
         "0.0",
         "22.99",
         "2016-12-31"
        ],
        [
         "3",
         "10_HORNSEY_1005",
         "10",
         "HORNSEY",
         "1005",
         "MAKER'S MARK COMBO PACK",
         "375ML 2 PK",
         "18.0",
         "0.0",
         "34.99",
         "0.0",
         "2016-12-31"
        ],
        [
         "4",
         "10_HORNSEY_10058",
         "10",
         "HORNSEY",
         "10058",
         "F COPPOLA DMD IVRY CAB SVGN",
         "750ML",
         "52.0",
         "24.0",
         "14.99",
         "14.99",
         "2016-12-31"
        ]
       ],
       "shape": {
        "columns": 11,
        "rows": 5
       }
      },
      "text/html": [
       "<div>\n",
       "<style scoped>\n",
       "    .dataframe tbody tr th:only-of-type {\n",
       "        vertical-align: middle;\n",
       "    }\n",
       "\n",
       "    .dataframe tbody tr th {\n",
       "        vertical-align: top;\n",
       "    }\n",
       "\n",
       "    .dataframe thead th {\n",
       "        text-align: right;\n",
       "    }\n",
       "</style>\n",
       "<table border=\"1\" class=\"dataframe\">\n",
       "  <thead>\n",
       "    <tr style=\"text-align: right;\">\n",
       "      <th></th>\n",
       "      <th>Inventario_ID</th>\n",
       "      <th>Tienda_ID</th>\n",
       "      <th>Ciudad</th>\n",
       "      <th>Producto_ID</th>\n",
       "      <th>Nombre_Producto</th>\n",
       "      <th>Tamaño</th>\n",
       "      <th>Existencia_Inicial</th>\n",
       "      <th>Existencia_Final</th>\n",
       "      <th>Precio_Venta_Inicial</th>\n",
       "      <th>Precio_Venta_Final</th>\n",
       "      <th>Fecha_Cierre</th>\n",
       "    </tr>\n",
       "  </thead>\n",
       "  <tbody>\n",
       "    <tr>\n",
       "      <th>0</th>\n",
       "      <td>10_HORNSEY_1000</td>\n",
       "      <td>10</td>\n",
       "      <td>HORNSEY</td>\n",
       "      <td>1000</td>\n",
       "      <td>GOSLINGS DARK'N STORMY VAP</td>\n",
       "      <td>750ML</td>\n",
       "      <td>1.0</td>\n",
       "      <td>0.0</td>\n",
       "      <td>14.99</td>\n",
       "      <td>0.00</td>\n",
       "      <td>2016-12-31</td>\n",
       "    </tr>\n",
       "    <tr>\n",
       "      <th>1</th>\n",
       "      <td>10_HORNSEY_1001</td>\n",
       "      <td>10</td>\n",
       "      <td>HORNSEY</td>\n",
       "      <td>1001</td>\n",
       "      <td>BAILEYS 50ML 4 PACK</td>\n",
       "      <td>50ML 4 PK</td>\n",
       "      <td>11.0</td>\n",
       "      <td>0.0</td>\n",
       "      <td>5.99</td>\n",
       "      <td>5.99</td>\n",
       "      <td>2016-12-31</td>\n",
       "    </tr>\n",
       "    <tr>\n",
       "      <th>2</th>\n",
       "      <td>10_HORNSEY_1003</td>\n",
       "      <td>10</td>\n",
       "      <td>HORNSEY</td>\n",
       "      <td>1003</td>\n",
       "      <td>CROWN ROYAL VAP GLASS+COASTR</td>\n",
       "      <td>750ML</td>\n",
       "      <td>0.0</td>\n",
       "      <td>73.0</td>\n",
       "      <td>0.00</td>\n",
       "      <td>22.99</td>\n",
       "      <td>2016-12-31</td>\n",
       "    </tr>\n",
       "    <tr>\n",
       "      <th>3</th>\n",
       "      <td>10_HORNSEY_1005</td>\n",
       "      <td>10</td>\n",
       "      <td>HORNSEY</td>\n",
       "      <td>1005</td>\n",
       "      <td>MAKER'S MARK COMBO PACK</td>\n",
       "      <td>375ML 2 PK</td>\n",
       "      <td>18.0</td>\n",
       "      <td>0.0</td>\n",
       "      <td>34.99</td>\n",
       "      <td>0.00</td>\n",
       "      <td>2016-12-31</td>\n",
       "    </tr>\n",
       "    <tr>\n",
       "      <th>4</th>\n",
       "      <td>10_HORNSEY_10058</td>\n",
       "      <td>10</td>\n",
       "      <td>HORNSEY</td>\n",
       "      <td>10058</td>\n",
       "      <td>F COPPOLA DMD IVRY CAB SVGN</td>\n",
       "      <td>750ML</td>\n",
       "      <td>52.0</td>\n",
       "      <td>24.0</td>\n",
       "      <td>14.99</td>\n",
       "      <td>14.99</td>\n",
       "      <td>2016-12-31</td>\n",
       "    </tr>\n",
       "  </tbody>\n",
       "</table>\n",
       "</div>"
      ],
      "text/plain": [
       "      Inventario_ID  Tienda_ID   Ciudad  Producto_ID  \\\n",
       "0   10_HORNSEY_1000         10  HORNSEY         1000   \n",
       "1   10_HORNSEY_1001         10  HORNSEY         1001   \n",
       "2   10_HORNSEY_1003         10  HORNSEY         1003   \n",
       "3   10_HORNSEY_1005         10  HORNSEY         1005   \n",
       "4  10_HORNSEY_10058         10  HORNSEY        10058   \n",
       "\n",
       "                Nombre_Producto      Tamaño  Existencia_Inicial  \\\n",
       "0    GOSLINGS DARK'N STORMY VAP       750ML                 1.0   \n",
       "1           BAILEYS 50ML 4 PACK   50ML 4 PK                11.0   \n",
       "2  CROWN ROYAL VAP GLASS+COASTR       750ML                 0.0   \n",
       "3       MAKER'S MARK COMBO PACK  375ML 2 PK                18.0   \n",
       "4   F COPPOLA DMD IVRY CAB SVGN       750ML                52.0   \n",
       "\n",
       "   Existencia_Final  Precio_Venta_Inicial  Precio_Venta_Final Fecha_Cierre  \n",
       "0               0.0                 14.99                0.00   2016-12-31  \n",
       "1               0.0                  5.99                5.99   2016-12-31  \n",
       "2              73.0                  0.00               22.99   2016-12-31  \n",
       "3               0.0                 34.99                0.00   2016-12-31  \n",
       "4              24.0                 14.99               14.99   2016-12-31  "
      ]
     },
     "execution_count": 4,
     "metadata": {},
     "output_type": "execute_result"
    }
   ],
   "source": [
    "dt_inventario = pd.read_csv('C:/Users/sagua/OneDrive/Escritorio/DATA HENRY/Proyecto Final/Versiones/v3/Inventario_Gral.csv') \n",
    "dt_inventario.head()"
   ]
  },
  {
   "cell_type": "code",
   "execution_count": 5,
   "id": "99f35d5c",
   "metadata": {},
   "outputs": [
    {
     "data": {
      "application/vnd.microsoft.datawrangler.viewer.v0+json": {
       "columns": [
        {
         "name": "index",
         "rawType": "int64",
         "type": "integer"
        },
        {
         "name": "Producto_ID",
         "rawType": "int64",
         "type": "integer"
        },
        {
         "name": "Nombre_Producto",
         "rawType": "object",
         "type": "string"
        },
        {
         "name": "Tamaño",
         "rawType": "object",
         "type": "string"
        },
        {
         "name": "Existencia_Inicial",
         "rawType": "float64",
         "type": "float"
        },
        {
         "name": "Existencia_Final",
         "rawType": "float64",
         "type": "float"
        },
        {
         "name": "Precio_Venta_Inicial",
         "rawType": "float64",
         "type": "float"
        },
        {
         "name": "Precio_Venta_Final",
         "rawType": "float64",
         "type": "float"
        }
       ],
       "ref": "fa1a2080-e537-4a78-91e3-ff3e8f9ca1ca",
       "rows": [
        [
         "0",
         "58",
         "GEKKEIKAN BLACK & GOLD SAKE",
         "750ML",
         "281.0",
         "385.0",
         "10.825000000000001",
         "12.680714285714286"
        ],
        [
         "1",
         "60",
         "CANADIAN CLUB 1858 VAP",
         "750ML",
         "288.0",
         "146.0",
         "10.025964912280703",
         "3.0849122807017544"
        ],
        [
         "2",
         "61",
         "MARGARITAVILLE SILVER",
         "750ML",
         "12.0",
         "12.0",
         "13.99",
         "13.99"
        ],
        [
         "3",
         "62",
         "HERRADURA SILVER TEQUILA",
         "750ML",
         "384.0",
         "459.0",
         "35.99027027027027",
         "36.490135135135134"
        ],
        [
         "4",
         "63",
         "HERRADURA REPOSADO TEQUILA",
         "750ML",
         "365.0",
         "442.0",
         "36.82388888888889",
         "37.90694444444445"
        ]
       ],
       "shape": {
        "columns": 7,
        "rows": 5
       }
      },
      "text/html": [
       "<div>\n",
       "<style scoped>\n",
       "    .dataframe tbody tr th:only-of-type {\n",
       "        vertical-align: middle;\n",
       "    }\n",
       "\n",
       "    .dataframe tbody tr th {\n",
       "        vertical-align: top;\n",
       "    }\n",
       "\n",
       "    .dataframe thead th {\n",
       "        text-align: right;\n",
       "    }\n",
       "</style>\n",
       "<table border=\"1\" class=\"dataframe\">\n",
       "  <thead>\n",
       "    <tr style=\"text-align: right;\">\n",
       "      <th></th>\n",
       "      <th>Producto_ID</th>\n",
       "      <th>Nombre_Producto</th>\n",
       "      <th>Tamaño</th>\n",
       "      <th>Existencia_Inicial</th>\n",
       "      <th>Existencia_Final</th>\n",
       "      <th>Precio_Venta_Inicial</th>\n",
       "      <th>Precio_Venta_Final</th>\n",
       "    </tr>\n",
       "  </thead>\n",
       "  <tbody>\n",
       "    <tr>\n",
       "      <th>0</th>\n",
       "      <td>58</td>\n",
       "      <td>GEKKEIKAN BLACK &amp; GOLD SAKE</td>\n",
       "      <td>750ML</td>\n",
       "      <td>281.0</td>\n",
       "      <td>385.0</td>\n",
       "      <td>10.825000</td>\n",
       "      <td>12.680714</td>\n",
       "    </tr>\n",
       "    <tr>\n",
       "      <th>1</th>\n",
       "      <td>60</td>\n",
       "      <td>CANADIAN CLUB 1858 VAP</td>\n",
       "      <td>750ML</td>\n",
       "      <td>288.0</td>\n",
       "      <td>146.0</td>\n",
       "      <td>10.025965</td>\n",
       "      <td>3.084912</td>\n",
       "    </tr>\n",
       "    <tr>\n",
       "      <th>2</th>\n",
       "      <td>61</td>\n",
       "      <td>MARGARITAVILLE SILVER</td>\n",
       "      <td>750ML</td>\n",
       "      <td>12.0</td>\n",
       "      <td>12.0</td>\n",
       "      <td>13.990000</td>\n",
       "      <td>13.990000</td>\n",
       "    </tr>\n",
       "    <tr>\n",
       "      <th>3</th>\n",
       "      <td>62</td>\n",
       "      <td>HERRADURA SILVER TEQUILA</td>\n",
       "      <td>750ML</td>\n",
       "      <td>384.0</td>\n",
       "      <td>459.0</td>\n",
       "      <td>35.990270</td>\n",
       "      <td>36.490135</td>\n",
       "    </tr>\n",
       "    <tr>\n",
       "      <th>4</th>\n",
       "      <td>63</td>\n",
       "      <td>HERRADURA REPOSADO TEQUILA</td>\n",
       "      <td>750ML</td>\n",
       "      <td>365.0</td>\n",
       "      <td>442.0</td>\n",
       "      <td>36.823889</td>\n",
       "      <td>37.906944</td>\n",
       "    </tr>\n",
       "  </tbody>\n",
       "</table>\n",
       "</div>"
      ],
      "text/plain": [
       "   Producto_ID              Nombre_Producto Tamaño  Existencia_Inicial  \\\n",
       "0           58  GEKKEIKAN BLACK & GOLD SAKE  750ML               281.0   \n",
       "1           60       CANADIAN CLUB 1858 VAP  750ML               288.0   \n",
       "2           61        MARGARITAVILLE SILVER  750ML                12.0   \n",
       "3           62     HERRADURA SILVER TEQUILA  750ML               384.0   \n",
       "4           63   HERRADURA REPOSADO TEQUILA  750ML               365.0   \n",
       "\n",
       "   Existencia_Final  Precio_Venta_Inicial  Precio_Venta_Final  \n",
       "0             385.0             10.825000           12.680714  \n",
       "1             146.0             10.025965            3.084912  \n",
       "2              12.0             13.990000           13.990000  \n",
       "3             459.0             35.990270           36.490135  \n",
       "4             442.0             36.823889           37.906944  "
      ]
     },
     "execution_count": 5,
     "metadata": {},
     "output_type": "execute_result"
    }
   ],
   "source": [
    "inventario_por_producto = dt_inventario.groupby(['Producto_ID', 'Nombre_Producto', 'Tamaño'], as_index=False).agg({\n",
    "    'Existencia_Inicial': 'sum',\n",
    "    'Existencia_Final': 'sum',\n",
    "    'Precio_Venta_Inicial': 'mean',\n",
    "    'Precio_Venta_Final': 'mean'\n",
    "})\n",
    "inventario_por_producto.head()"
   ]
  },
  {
   "cell_type": "code",
   "execution_count": 6,
   "id": "414aef62",
   "metadata": {},
   "outputs": [
    {
     "data": {
      "application/vnd.microsoft.datawrangler.viewer.v0+json": {
       "columns": [
        {
         "name": "index",
         "rawType": "int64",
         "type": "integer"
        },
        {
         "name": "Producto_ID",
         "rawType": "int64",
         "type": "integer"
        },
        {
         "name": "Nombre_Producto",
         "rawType": "object",
         "type": "string"
        },
        {
         "name": "Tamaño",
         "rawType": "object",
         "type": "string"
        },
        {
         "name": "Existencia_Inicial",
         "rawType": "float64",
         "type": "float"
        },
        {
         "name": "Existencia_Final",
         "rawType": "float64",
         "type": "float"
        },
        {
         "name": "Precio_Venta_Inicial",
         "rawType": "float64",
         "type": "float"
        },
        {
         "name": "Precio_Venta_Final",
         "rawType": "float64",
         "type": "float"
        }
       ],
       "ref": "4399198e-7d52-4335-850f-af823edd8101",
       "rows": [
        [
         "0",
         "58",
         "GEKKEIKAN BLACK & GOLD SAKE",
         "750ML",
         "281.0",
         "385.0",
         "10.82",
         "12.68"
        ],
        [
         "1",
         "60",
         "CANADIAN CLUB 1858 VAP",
         "750ML",
         "288.0",
         "146.0",
         "10.03",
         "3.08"
        ],
        [
         "2",
         "61",
         "MARGARITAVILLE SILVER",
         "750ML",
         "12.0",
         "12.0",
         "13.99",
         "13.99"
        ],
        [
         "3",
         "62",
         "HERRADURA SILVER TEQUILA",
         "750ML",
         "384.0",
         "459.0",
         "35.99",
         "36.49"
        ],
        [
         "4",
         "63",
         "HERRADURA REPOSADO TEQUILA",
         "750ML",
         "365.0",
         "442.0",
         "36.82",
         "37.91"
        ]
       ],
       "shape": {
        "columns": 7,
        "rows": 5
       }
      },
      "text/html": [
       "<div>\n",
       "<style scoped>\n",
       "    .dataframe tbody tr th:only-of-type {\n",
       "        vertical-align: middle;\n",
       "    }\n",
       "\n",
       "    .dataframe tbody tr th {\n",
       "        vertical-align: top;\n",
       "    }\n",
       "\n",
       "    .dataframe thead th {\n",
       "        text-align: right;\n",
       "    }\n",
       "</style>\n",
       "<table border=\"1\" class=\"dataframe\">\n",
       "  <thead>\n",
       "    <tr style=\"text-align: right;\">\n",
       "      <th></th>\n",
       "      <th>Producto_ID</th>\n",
       "      <th>Nombre_Producto</th>\n",
       "      <th>Tamaño</th>\n",
       "      <th>Existencia_Inicial</th>\n",
       "      <th>Existencia_Final</th>\n",
       "      <th>Precio_Venta_Inicial</th>\n",
       "      <th>Precio_Venta_Final</th>\n",
       "    </tr>\n",
       "  </thead>\n",
       "  <tbody>\n",
       "    <tr>\n",
       "      <th>0</th>\n",
       "      <td>58</td>\n",
       "      <td>GEKKEIKAN BLACK &amp; GOLD SAKE</td>\n",
       "      <td>750ML</td>\n",
       "      <td>281.0</td>\n",
       "      <td>385.0</td>\n",
       "      <td>10.82</td>\n",
       "      <td>12.68</td>\n",
       "    </tr>\n",
       "    <tr>\n",
       "      <th>1</th>\n",
       "      <td>60</td>\n",
       "      <td>CANADIAN CLUB 1858 VAP</td>\n",
       "      <td>750ML</td>\n",
       "      <td>288.0</td>\n",
       "      <td>146.0</td>\n",
       "      <td>10.03</td>\n",
       "      <td>3.08</td>\n",
       "    </tr>\n",
       "    <tr>\n",
       "      <th>2</th>\n",
       "      <td>61</td>\n",
       "      <td>MARGARITAVILLE SILVER</td>\n",
       "      <td>750ML</td>\n",
       "      <td>12.0</td>\n",
       "      <td>12.0</td>\n",
       "      <td>13.99</td>\n",
       "      <td>13.99</td>\n",
       "    </tr>\n",
       "    <tr>\n",
       "      <th>3</th>\n",
       "      <td>62</td>\n",
       "      <td>HERRADURA SILVER TEQUILA</td>\n",
       "      <td>750ML</td>\n",
       "      <td>384.0</td>\n",
       "      <td>459.0</td>\n",
       "      <td>35.99</td>\n",
       "      <td>36.49</td>\n",
       "    </tr>\n",
       "    <tr>\n",
       "      <th>4</th>\n",
       "      <td>63</td>\n",
       "      <td>HERRADURA REPOSADO TEQUILA</td>\n",
       "      <td>750ML</td>\n",
       "      <td>365.0</td>\n",
       "      <td>442.0</td>\n",
       "      <td>36.82</td>\n",
       "      <td>37.91</td>\n",
       "    </tr>\n",
       "  </tbody>\n",
       "</table>\n",
       "</div>"
      ],
      "text/plain": [
       "   Producto_ID              Nombre_Producto Tamaño  Existencia_Inicial  \\\n",
       "0           58  GEKKEIKAN BLACK & GOLD SAKE  750ML               281.0   \n",
       "1           60       CANADIAN CLUB 1858 VAP  750ML               288.0   \n",
       "2           61        MARGARITAVILLE SILVER  750ML                12.0   \n",
       "3           62     HERRADURA SILVER TEQUILA  750ML               384.0   \n",
       "4           63   HERRADURA REPOSADO TEQUILA  750ML               365.0   \n",
       "\n",
       "   Existencia_Final  Precio_Venta_Inicial  Precio_Venta_Final  \n",
       "0             385.0                 10.82               12.68  \n",
       "1             146.0                 10.03                3.08  \n",
       "2              12.0                 13.99               13.99  \n",
       "3             459.0                 35.99               36.49  \n",
       "4             442.0                 36.82               37.91  "
      ]
     },
     "execution_count": 6,
     "metadata": {},
     "output_type": "execute_result"
    }
   ],
   "source": [
    "inventario_por_producto['Precio_Venta_Inicial'] = inventario_por_producto['Precio_Venta_Inicial'].round(2)\n",
    "inventario_por_producto['Precio_Venta_Final'] = inventario_por_producto['Precio_Venta_Final'].round(2)\n",
    "inventario_por_producto.head()"
   ]
  },
  {
   "cell_type": "markdown",
   "id": "b0333ed6",
   "metadata": {},
   "source": [
    "Se consolidan las compras anuales por producto sin distinguir entre tiendas físicas, con el fin de modelar la demanda total para el canal e-commerce, que requiere una planificación centralizada del stock."
   ]
  },
  {
   "cell_type": "code",
   "execution_count": 7,
   "id": "d01a82f4",
   "metadata": {},
   "outputs": [],
   "source": [
    "compras_resumen = dt_detalles.groupby('Producto_ID')['Cantidad'].sum().reset_index()\n",
    "compras_resumen.rename(columns={'Cantidad': 'Compras_Año'}, inplace=True)"
   ]
  },
  {
   "cell_type": "markdown",
   "id": "42f811a7",
   "metadata": {},
   "source": [
    "Seleccionando las columnas de Existencia Inicial y FInal para generar el rsumen"
   ]
  },
  {
   "cell_type": "code",
   "execution_count": 8,
   "id": "7441c6e9",
   "metadata": {},
   "outputs": [],
   "source": [
    "inventario_reducido = dt_inventario.groupby(['Producto_ID', 'Nombre_Producto'], as_index=False).agg({\n",
    "    'Existencia_Inicial': 'sum',\n",
    "    'Existencia_Final': 'sum'\n",
    "})\n"
   ]
  },
  {
   "cell_type": "code",
   "execution_count": 9,
   "id": "223ab46a",
   "metadata": {},
   "outputs": [],
   "source": [
    "resumen = inventario_reducido.merge(compras_resumen, on='Producto_ID', how='left')"
   ]
  },
  {
   "cell_type": "markdown",
   "id": "a6da000d",
   "metadata": {},
   "source": [
    "Rellenar posibles compras nulas con 0"
   ]
  },
  {
   "cell_type": "code",
   "execution_count": 10,
   "id": "c39c7446",
   "metadata": {},
   "outputs": [],
   "source": [
    "resumen['Compras_Año'] = resumen['Compras_Año'].fillna(0)\n"
   ]
  },
  {
   "cell_type": "markdown",
   "id": "38b07dd8",
   "metadata": {},
   "source": [
    "Calculo de la Demanda Estimada"
   ]
  },
  {
   "cell_type": "code",
   "execution_count": 11,
   "id": "de8c89c3",
   "metadata": {},
   "outputs": [
    {
     "data": {
      "application/vnd.microsoft.datawrangler.viewer.v0+json": {
       "columns": [
        {
         "name": "index",
         "rawType": "int64",
         "type": "integer"
        },
        {
         "name": "Producto_ID",
         "rawType": "int64",
         "type": "integer"
        },
        {
         "name": "Nombre_Producto",
         "rawType": "object",
         "type": "string"
        },
        {
         "name": "Existencia_Inicial",
         "rawType": "float64",
         "type": "float"
        },
        {
         "name": "Existencia_Final",
         "rawType": "float64",
         "type": "float"
        },
        {
         "name": "Compras_Año",
         "rawType": "float64",
         "type": "float"
        },
        {
         "name": "Demanda_Estimada",
         "rawType": "float64",
         "type": "float"
        }
       ],
       "ref": "09bbf7ad-8d8b-400b-84ce-2355aff3612b",
       "rows": [
        [
         "0",
         "58",
         "GEKKEIKAN BLACK & GOLD SAKE",
         "281.0",
         "385.0",
         "3550.0",
         "3446.0"
        ],
        [
         "1",
         "60",
         "CANADIAN CLUB 1858 VAP",
         "288.0",
         "146.0",
         "1633.0",
         "1775.0"
        ],
        [
         "2",
         "61",
         "MARGARITAVILLE SILVER",
         "12.0",
         "12.0",
         "312.0",
         "312.0"
        ],
        [
         "3",
         "62",
         "HERRADURA SILVER TEQUILA",
         "384.0",
         "459.0",
         "3200.0",
         "3125.0"
        ],
        [
         "4",
         "63",
         "HERRADURA REPOSADO TEQUILA",
         "365.0",
         "442.0",
         "2855.0",
         "2778.0"
        ]
       ],
       "shape": {
        "columns": 6,
        "rows": 5
       }
      },
      "text/html": [
       "<div>\n",
       "<style scoped>\n",
       "    .dataframe tbody tr th:only-of-type {\n",
       "        vertical-align: middle;\n",
       "    }\n",
       "\n",
       "    .dataframe tbody tr th {\n",
       "        vertical-align: top;\n",
       "    }\n",
       "\n",
       "    .dataframe thead th {\n",
       "        text-align: right;\n",
       "    }\n",
       "</style>\n",
       "<table border=\"1\" class=\"dataframe\">\n",
       "  <thead>\n",
       "    <tr style=\"text-align: right;\">\n",
       "      <th></th>\n",
       "      <th>Producto_ID</th>\n",
       "      <th>Nombre_Producto</th>\n",
       "      <th>Existencia_Inicial</th>\n",
       "      <th>Existencia_Final</th>\n",
       "      <th>Compras_Año</th>\n",
       "      <th>Demanda_Estimada</th>\n",
       "    </tr>\n",
       "  </thead>\n",
       "  <tbody>\n",
       "    <tr>\n",
       "      <th>0</th>\n",
       "      <td>58</td>\n",
       "      <td>GEKKEIKAN BLACK &amp; GOLD SAKE</td>\n",
       "      <td>281.0</td>\n",
       "      <td>385.0</td>\n",
       "      <td>3550.0</td>\n",
       "      <td>3446.0</td>\n",
       "    </tr>\n",
       "    <tr>\n",
       "      <th>1</th>\n",
       "      <td>60</td>\n",
       "      <td>CANADIAN CLUB 1858 VAP</td>\n",
       "      <td>288.0</td>\n",
       "      <td>146.0</td>\n",
       "      <td>1633.0</td>\n",
       "      <td>1775.0</td>\n",
       "    </tr>\n",
       "    <tr>\n",
       "      <th>2</th>\n",
       "      <td>61</td>\n",
       "      <td>MARGARITAVILLE SILVER</td>\n",
       "      <td>12.0</td>\n",
       "      <td>12.0</td>\n",
       "      <td>312.0</td>\n",
       "      <td>312.0</td>\n",
       "    </tr>\n",
       "    <tr>\n",
       "      <th>3</th>\n",
       "      <td>62</td>\n",
       "      <td>HERRADURA SILVER TEQUILA</td>\n",
       "      <td>384.0</td>\n",
       "      <td>459.0</td>\n",
       "      <td>3200.0</td>\n",
       "      <td>3125.0</td>\n",
       "    </tr>\n",
       "    <tr>\n",
       "      <th>4</th>\n",
       "      <td>63</td>\n",
       "      <td>HERRADURA REPOSADO TEQUILA</td>\n",
       "      <td>365.0</td>\n",
       "      <td>442.0</td>\n",
       "      <td>2855.0</td>\n",
       "      <td>2778.0</td>\n",
       "    </tr>\n",
       "  </tbody>\n",
       "</table>\n",
       "</div>"
      ],
      "text/plain": [
       "   Producto_ID              Nombre_Producto  Existencia_Inicial  \\\n",
       "0           58  GEKKEIKAN BLACK & GOLD SAKE               281.0   \n",
       "1           60       CANADIAN CLUB 1858 VAP               288.0   \n",
       "2           61        MARGARITAVILLE SILVER                12.0   \n",
       "3           62     HERRADURA SILVER TEQUILA               384.0   \n",
       "4           63   HERRADURA REPOSADO TEQUILA               365.0   \n",
       "\n",
       "   Existencia_Final  Compras_Año  Demanda_Estimada  \n",
       "0             385.0       3550.0            3446.0  \n",
       "1             146.0       1633.0            1775.0  \n",
       "2              12.0        312.0             312.0  \n",
       "3             459.0       3200.0            3125.0  \n",
       "4             442.0       2855.0            2778.0  "
      ]
     },
     "execution_count": 11,
     "metadata": {},
     "output_type": "execute_result"
    }
   ],
   "source": [
    "resumen['Demanda_Estimada'] = resumen['Existencia_Inicial'] + resumen['Compras_Año'] - resumen['Existencia_Final']\n",
    "resumen.head()"
   ]
  },
  {
   "cell_type": "markdown",
   "id": "575de10d",
   "metadata": {},
   "source": [
    "## Demanda promedio mensual y su desviación estándar"
   ]
  },
  {
   "cell_type": "markdown",
   "id": "fa3736f0",
   "metadata": {},
   "source": [
    "        Como no se tienen ventas registradas para todo el año, asumiremos una demanda uniforme para estimar la variación mensual, más adelante si la tienda proporciona nuevos datos podríamos afinarlo "
   ]
  },
  {
   "cell_type": "markdown",
   "id": "5b76ee8e",
   "metadata": {},
   "source": [
    "Calculo de la demanda mensual promedio"
   ]
  },
  {
   "cell_type": "code",
   "execution_count": 12,
   "id": "019e0b7a",
   "metadata": {},
   "outputs": [],
   "source": [
    "resumen['Demanda_Mensual_Promedio'] = resumen['Demanda_Estimada'] / 12\n",
    "\n",
    "# Asumimos una desviación estándar aproximada del 25% de la demanda mensual, esto se puede reemplazar si después modelamos con datos reales\n",
    "resumen['Desviacion_Estandar'] = resumen['Demanda_Mensual_Promedio'] * 0.25"
   ]
  },
  {
   "cell_type": "markdown",
   "id": "be44438e",
   "metadata": {},
   "source": [
    "Calculo de Stock de Seguridad y Stock Óptimo"
   ]
  },
  {
   "cell_type": "markdown",
   "id": "b93bd05d",
   "metadata": {},
   "source": [
    "        Se utilizó un nivel de servicio del 95% para garantizar una alta disponibilidad de productos en el canal e-commerce, minimizando quiebres de stock sin incurrir en costos excesivos por sobreabastecimiento. El valor Z=1.65 representa el punto de corte de la distribución normal estándar para este nivel de servicio, y se aplica como multiplicador de la desviación estándar estimada de la demanda mensual."
   ]
  },
  {
   "cell_type": "code",
   "execution_count": 13,
   "id": "01ab1dda",
   "metadata": {},
   "outputs": [
    {
     "data": {
      "application/vnd.microsoft.datawrangler.viewer.v0+json": {
       "columns": [
        {
         "name": "index",
         "rawType": "int64",
         "type": "integer"
        },
        {
         "name": "Producto_ID",
         "rawType": "int64",
         "type": "integer"
        },
        {
         "name": "Nombre_Producto",
         "rawType": "object",
         "type": "string"
        },
        {
         "name": "Existencia_Inicial",
         "rawType": "float64",
         "type": "float"
        },
        {
         "name": "Existencia_Final",
         "rawType": "float64",
         "type": "float"
        },
        {
         "name": "Compras_Año",
         "rawType": "float64",
         "type": "float"
        },
        {
         "name": "Demanda_Estimada",
         "rawType": "float64",
         "type": "float"
        },
        {
         "name": "Demanda_Mensual_Promedio",
         "rawType": "float64",
         "type": "float"
        },
        {
         "name": "Desviacion_Estandar",
         "rawType": "float64",
         "type": "float"
        },
        {
         "name": "Stock_Seguridad",
         "rawType": "float64",
         "type": "float"
        },
        {
         "name": "Stock_Optimo_Mensual",
         "rawType": "float64",
         "type": "float"
        }
       ],
       "ref": "6aba7f82-42c7-42d2-811f-54057c4cff6c",
       "rows": [
        [
         "0",
         "58",
         "GEKKEIKAN BLACK & GOLD SAKE",
         "281.0",
         "385.0",
         "3550.0",
         "3446.0",
         "287.1666666666667",
         "71.79166666666667",
         "118.45625",
         "405.6229166666667"
        ],
        [
         "1",
         "60",
         "CANADIAN CLUB 1858 VAP",
         "288.0",
         "146.0",
         "1633.0",
         "1775.0",
         "147.91666666666666",
         "36.979166666666664",
         "61.01562499999999",
         "208.93229166666666"
        ],
        [
         "2",
         "61",
         "MARGARITAVILLE SILVER",
         "12.0",
         "12.0",
         "312.0",
         "312.0",
         "26.0",
         "6.5",
         "10.725",
         "36.725"
        ],
        [
         "3",
         "62",
         "HERRADURA SILVER TEQUILA",
         "384.0",
         "459.0",
         "3200.0",
         "3125.0",
         "260.4166666666667",
         "65.10416666666667",
         "107.421875",
         "367.8385416666667"
        ],
        [
         "4",
         "63",
         "HERRADURA REPOSADO TEQUILA",
         "365.0",
         "442.0",
         "2855.0",
         "2778.0",
         "231.5",
         "57.875",
         "95.49374999999999",
         "326.99375"
        ]
       ],
       "shape": {
        "columns": 10,
        "rows": 5
       }
      },
      "text/html": [
       "<div>\n",
       "<style scoped>\n",
       "    .dataframe tbody tr th:only-of-type {\n",
       "        vertical-align: middle;\n",
       "    }\n",
       "\n",
       "    .dataframe tbody tr th {\n",
       "        vertical-align: top;\n",
       "    }\n",
       "\n",
       "    .dataframe thead th {\n",
       "        text-align: right;\n",
       "    }\n",
       "</style>\n",
       "<table border=\"1\" class=\"dataframe\">\n",
       "  <thead>\n",
       "    <tr style=\"text-align: right;\">\n",
       "      <th></th>\n",
       "      <th>Producto_ID</th>\n",
       "      <th>Nombre_Producto</th>\n",
       "      <th>Existencia_Inicial</th>\n",
       "      <th>Existencia_Final</th>\n",
       "      <th>Compras_Año</th>\n",
       "      <th>Demanda_Estimada</th>\n",
       "      <th>Demanda_Mensual_Promedio</th>\n",
       "      <th>Desviacion_Estandar</th>\n",
       "      <th>Stock_Seguridad</th>\n",
       "      <th>Stock_Optimo_Mensual</th>\n",
       "    </tr>\n",
       "  </thead>\n",
       "  <tbody>\n",
       "    <tr>\n",
       "      <th>0</th>\n",
       "      <td>58</td>\n",
       "      <td>GEKKEIKAN BLACK &amp; GOLD SAKE</td>\n",
       "      <td>281.0</td>\n",
       "      <td>385.0</td>\n",
       "      <td>3550.0</td>\n",
       "      <td>3446.0</td>\n",
       "      <td>287.166667</td>\n",
       "      <td>71.791667</td>\n",
       "      <td>118.456250</td>\n",
       "      <td>405.622917</td>\n",
       "    </tr>\n",
       "    <tr>\n",
       "      <th>1</th>\n",
       "      <td>60</td>\n",
       "      <td>CANADIAN CLUB 1858 VAP</td>\n",
       "      <td>288.0</td>\n",
       "      <td>146.0</td>\n",
       "      <td>1633.0</td>\n",
       "      <td>1775.0</td>\n",
       "      <td>147.916667</td>\n",
       "      <td>36.979167</td>\n",
       "      <td>61.015625</td>\n",
       "      <td>208.932292</td>\n",
       "    </tr>\n",
       "    <tr>\n",
       "      <th>2</th>\n",
       "      <td>61</td>\n",
       "      <td>MARGARITAVILLE SILVER</td>\n",
       "      <td>12.0</td>\n",
       "      <td>12.0</td>\n",
       "      <td>312.0</td>\n",
       "      <td>312.0</td>\n",
       "      <td>26.000000</td>\n",
       "      <td>6.500000</td>\n",
       "      <td>10.725000</td>\n",
       "      <td>36.725000</td>\n",
       "    </tr>\n",
       "    <tr>\n",
       "      <th>3</th>\n",
       "      <td>62</td>\n",
       "      <td>HERRADURA SILVER TEQUILA</td>\n",
       "      <td>384.0</td>\n",
       "      <td>459.0</td>\n",
       "      <td>3200.0</td>\n",
       "      <td>3125.0</td>\n",
       "      <td>260.416667</td>\n",
       "      <td>65.104167</td>\n",
       "      <td>107.421875</td>\n",
       "      <td>367.838542</td>\n",
       "    </tr>\n",
       "    <tr>\n",
       "      <th>4</th>\n",
       "      <td>63</td>\n",
       "      <td>HERRADURA REPOSADO TEQUILA</td>\n",
       "      <td>365.0</td>\n",
       "      <td>442.0</td>\n",
       "      <td>2855.0</td>\n",
       "      <td>2778.0</td>\n",
       "      <td>231.500000</td>\n",
       "      <td>57.875000</td>\n",
       "      <td>95.493750</td>\n",
       "      <td>326.993750</td>\n",
       "    </tr>\n",
       "  </tbody>\n",
       "</table>\n",
       "</div>"
      ],
      "text/plain": [
       "   Producto_ID              Nombre_Producto  Existencia_Inicial  \\\n",
       "0           58  GEKKEIKAN BLACK & GOLD SAKE               281.0   \n",
       "1           60       CANADIAN CLUB 1858 VAP               288.0   \n",
       "2           61        MARGARITAVILLE SILVER                12.0   \n",
       "3           62     HERRADURA SILVER TEQUILA               384.0   \n",
       "4           63   HERRADURA REPOSADO TEQUILA               365.0   \n",
       "\n",
       "   Existencia_Final  Compras_Año  Demanda_Estimada  Demanda_Mensual_Promedio  \\\n",
       "0             385.0       3550.0            3446.0                287.166667   \n",
       "1             146.0       1633.0            1775.0                147.916667   \n",
       "2              12.0        312.0             312.0                 26.000000   \n",
       "3             459.0       3200.0            3125.0                260.416667   \n",
       "4             442.0       2855.0            2778.0                231.500000   \n",
       "\n",
       "   Desviacion_Estandar  Stock_Seguridad  Stock_Optimo_Mensual  \n",
       "0            71.791667       118.456250            405.622917  \n",
       "1            36.979167        61.015625            208.932292  \n",
       "2             6.500000        10.725000             36.725000  \n",
       "3            65.104167       107.421875            367.838542  \n",
       "4            57.875000        95.493750            326.993750  "
      ]
     },
     "execution_count": 13,
     "metadata": {},
     "output_type": "execute_result"
    }
   ],
   "source": [
    "# Nivel de servicio Z (95%)\n",
    "z = 1.65\n",
    "\n",
    "# Stock de Seguridad\n",
    "resumen['Stock_Seguridad'] = z * resumen['Desviacion_Estandar']\n",
    "\n",
    "# Stock Óptimo Mensual (demanda promedio + stock de seguridad)\n",
    "resumen['Stock_Optimo_Mensual'] = resumen['Demanda_Mensual_Promedio'] + resumen['Stock_Seguridad']\n",
    "\n",
    "resumen.head()"
   ]
  },
  {
   "cell_type": "markdown",
   "id": "07c8fa6b",
   "metadata": {},
   "source": [
    "        Debido a que los productos se gestionan como piezas (inidades no divisibles), todos los valores calculados relacionados con demanda, stock de seguridad y stock óptimo mensual se redondean al número entero más cercano. Esto asegura una planificación realista y ejecutable para el equipo de logística y compras."
   ]
  },
  {
   "cell_type": "code",
   "execution_count": 14,
   "id": "0f78cae9",
   "metadata": {},
   "outputs": [
    {
     "data": {
      "application/vnd.microsoft.datawrangler.viewer.v0+json": {
       "columns": [
        {
         "name": "index",
         "rawType": "int64",
         "type": "integer"
        },
        {
         "name": "Producto_ID",
         "rawType": "int64",
         "type": "integer"
        },
        {
         "name": "Nombre_Producto",
         "rawType": "object",
         "type": "string"
        },
        {
         "name": "Existencia_Inicial",
         "rawType": "float64",
         "type": "float"
        },
        {
         "name": "Existencia_Final",
         "rawType": "float64",
         "type": "float"
        },
        {
         "name": "Compras_Año",
         "rawType": "float64",
         "type": "float"
        },
        {
         "name": "Demanda_Estimada",
         "rawType": "int64",
         "type": "integer"
        },
        {
         "name": "Demanda_Mensual_Promedio",
         "rawType": "int64",
         "type": "integer"
        },
        {
         "name": "Desviacion_Estandar",
         "rawType": "int64",
         "type": "integer"
        },
        {
         "name": "Stock_Seguridad",
         "rawType": "int64",
         "type": "integer"
        },
        {
         "name": "Stock_Optimo_Mensual",
         "rawType": "int64",
         "type": "integer"
        }
       ],
       "ref": "f0d6dcfb-ee66-4590-b6d0-cefa08a07d79",
       "rows": [
        [
         "0",
         "58",
         "GEKKEIKAN BLACK & GOLD SAKE",
         "281.0",
         "385.0",
         "3550.0",
         "3446",
         "287",
         "72",
         "118",
         "406"
        ],
        [
         "1",
         "60",
         "CANADIAN CLUB 1858 VAP",
         "288.0",
         "146.0",
         "1633.0",
         "1775",
         "148",
         "37",
         "61",
         "209"
        ],
        [
         "2",
         "61",
         "MARGARITAVILLE SILVER",
         "12.0",
         "12.0",
         "312.0",
         "312",
         "26",
         "6",
         "11",
         "37"
        ],
        [
         "3",
         "62",
         "HERRADURA SILVER TEQUILA",
         "384.0",
         "459.0",
         "3200.0",
         "3125",
         "260",
         "65",
         "107",
         "368"
        ],
        [
         "4",
         "63",
         "HERRADURA REPOSADO TEQUILA",
         "365.0",
         "442.0",
         "2855.0",
         "2778",
         "232",
         "58",
         "95",
         "327"
        ]
       ],
       "shape": {
        "columns": 10,
        "rows": 5
       }
      },
      "text/html": [
       "<div>\n",
       "<style scoped>\n",
       "    .dataframe tbody tr th:only-of-type {\n",
       "        vertical-align: middle;\n",
       "    }\n",
       "\n",
       "    .dataframe tbody tr th {\n",
       "        vertical-align: top;\n",
       "    }\n",
       "\n",
       "    .dataframe thead th {\n",
       "        text-align: right;\n",
       "    }\n",
       "</style>\n",
       "<table border=\"1\" class=\"dataframe\">\n",
       "  <thead>\n",
       "    <tr style=\"text-align: right;\">\n",
       "      <th></th>\n",
       "      <th>Producto_ID</th>\n",
       "      <th>Nombre_Producto</th>\n",
       "      <th>Existencia_Inicial</th>\n",
       "      <th>Existencia_Final</th>\n",
       "      <th>Compras_Año</th>\n",
       "      <th>Demanda_Estimada</th>\n",
       "      <th>Demanda_Mensual_Promedio</th>\n",
       "      <th>Desviacion_Estandar</th>\n",
       "      <th>Stock_Seguridad</th>\n",
       "      <th>Stock_Optimo_Mensual</th>\n",
       "    </tr>\n",
       "  </thead>\n",
       "  <tbody>\n",
       "    <tr>\n",
       "      <th>0</th>\n",
       "      <td>58</td>\n",
       "      <td>GEKKEIKAN BLACK &amp; GOLD SAKE</td>\n",
       "      <td>281.0</td>\n",
       "      <td>385.0</td>\n",
       "      <td>3550.0</td>\n",
       "      <td>3446</td>\n",
       "      <td>287</td>\n",
       "      <td>72</td>\n",
       "      <td>118</td>\n",
       "      <td>406</td>\n",
       "    </tr>\n",
       "    <tr>\n",
       "      <th>1</th>\n",
       "      <td>60</td>\n",
       "      <td>CANADIAN CLUB 1858 VAP</td>\n",
       "      <td>288.0</td>\n",
       "      <td>146.0</td>\n",
       "      <td>1633.0</td>\n",
       "      <td>1775</td>\n",
       "      <td>148</td>\n",
       "      <td>37</td>\n",
       "      <td>61</td>\n",
       "      <td>209</td>\n",
       "    </tr>\n",
       "    <tr>\n",
       "      <th>2</th>\n",
       "      <td>61</td>\n",
       "      <td>MARGARITAVILLE SILVER</td>\n",
       "      <td>12.0</td>\n",
       "      <td>12.0</td>\n",
       "      <td>312.0</td>\n",
       "      <td>312</td>\n",
       "      <td>26</td>\n",
       "      <td>6</td>\n",
       "      <td>11</td>\n",
       "      <td>37</td>\n",
       "    </tr>\n",
       "    <tr>\n",
       "      <th>3</th>\n",
       "      <td>62</td>\n",
       "      <td>HERRADURA SILVER TEQUILA</td>\n",
       "      <td>384.0</td>\n",
       "      <td>459.0</td>\n",
       "      <td>3200.0</td>\n",
       "      <td>3125</td>\n",
       "      <td>260</td>\n",
       "      <td>65</td>\n",
       "      <td>107</td>\n",
       "      <td>368</td>\n",
       "    </tr>\n",
       "    <tr>\n",
       "      <th>4</th>\n",
       "      <td>63</td>\n",
       "      <td>HERRADURA REPOSADO TEQUILA</td>\n",
       "      <td>365.0</td>\n",
       "      <td>442.0</td>\n",
       "      <td>2855.0</td>\n",
       "      <td>2778</td>\n",
       "      <td>232</td>\n",
       "      <td>58</td>\n",
       "      <td>95</td>\n",
       "      <td>327</td>\n",
       "    </tr>\n",
       "  </tbody>\n",
       "</table>\n",
       "</div>"
      ],
      "text/plain": [
       "   Producto_ID              Nombre_Producto  Existencia_Inicial  \\\n",
       "0           58  GEKKEIKAN BLACK & GOLD SAKE               281.0   \n",
       "1           60       CANADIAN CLUB 1858 VAP               288.0   \n",
       "2           61        MARGARITAVILLE SILVER                12.0   \n",
       "3           62     HERRADURA SILVER TEQUILA               384.0   \n",
       "4           63   HERRADURA REPOSADO TEQUILA               365.0   \n",
       "\n",
       "   Existencia_Final  Compras_Año  Demanda_Estimada  Demanda_Mensual_Promedio  \\\n",
       "0             385.0       3550.0              3446                       287   \n",
       "1             146.0       1633.0              1775                       148   \n",
       "2              12.0        312.0               312                        26   \n",
       "3             459.0       3200.0              3125                       260   \n",
       "4             442.0       2855.0              2778                       232   \n",
       "\n",
       "   Desviacion_Estandar  Stock_Seguridad  Stock_Optimo_Mensual  \n",
       "0                   72              118                   406  \n",
       "1                   37               61                   209  \n",
       "2                    6               11                    37  \n",
       "3                   65              107                   368  \n",
       "4                   58               95                   327  "
      ]
     },
     "execution_count": 14,
     "metadata": {},
     "output_type": "execute_result"
    }
   ],
   "source": [
    "columnas_a_redondear = ['Demanda_Estimada', 'Demanda_Mensual_Promedio','Desviacion_Estandar', 'Stock_Seguridad', 'Stock_Optimo_Mensual']\n",
    "resumen[columnas_a_redondear] = resumen[columnas_a_redondear].round().astype(int)\n",
    "resumen.head()"
   ]
  },
  {
   "cell_type": "markdown",
   "id": "74d9ab36",
   "metadata": {},
   "source": [
    "## Productos con demanda nula o muy baja"
   ]
  },
  {
   "cell_type": "markdown",
   "id": "e405536c",
   "metadata": {},
   "source": [
    "        Eliminar del análisis aquellos productos que no tuvieron movimiento significativo durante el año, ya que no requieren planificación activa de inventario o podrían tratarse de errores de registro."
   ]
  },
  {
   "cell_type": "markdown",
   "id": "3dee53c6",
   "metadata": {},
   "source": [
    "Productos con demanda estimada menor a 0"
   ]
  },
  {
   "cell_type": "code",
   "execution_count": 15,
   "id": "1624a009",
   "metadata": {},
   "outputs": [
    {
     "data": {
      "application/vnd.microsoft.datawrangler.viewer.v0+json": {
       "columns": [
        {
         "name": "index",
         "rawType": "int64",
         "type": "integer"
        },
        {
         "name": "Producto_ID",
         "rawType": "int64",
         "type": "integer"
        },
        {
         "name": "Nombre_Producto",
         "rawType": "object",
         "type": "string"
        },
        {
         "name": "Existencia_Inicial",
         "rawType": "float64",
         "type": "float"
        },
        {
         "name": "Existencia_Final",
         "rawType": "float64",
         "type": "float"
        },
        {
         "name": "Compras_Año",
         "rawType": "float64",
         "type": "float"
        },
        {
         "name": "Demanda_Estimada",
         "rawType": "int64",
         "type": "integer"
        },
        {
         "name": "Demanda_Mensual_Promedio",
         "rawType": "int64",
         "type": "integer"
        },
        {
         "name": "Desviacion_Estandar",
         "rawType": "int64",
         "type": "integer"
        },
        {
         "name": "Stock_Seguridad",
         "rawType": "int64",
         "type": "integer"
        },
        {
         "name": "Stock_Optimo_Mensual",
         "rawType": "int64",
         "type": "integer"
        }
       ],
       "ref": "d0186251-d2ff-4191-8de2-b238ef08a4c6",
       "rows": [
        [
         "0",
         "58",
         "GEKKEIKAN BLACK & GOLD SAKE",
         "281.0",
         "385.0",
         "3550.0",
         "3446",
         "287",
         "72",
         "118",
         "406"
        ],
        [
         "1",
         "60",
         "CANADIAN CLUB 1858 VAP",
         "288.0",
         "146.0",
         "1633.0",
         "1775",
         "148",
         "37",
         "61",
         "209"
        ],
        [
         "2",
         "61",
         "MARGARITAVILLE SILVER",
         "12.0",
         "12.0",
         "312.0",
         "312",
         "26",
         "6",
         "11",
         "37"
        ],
        [
         "3",
         "62",
         "HERRADURA SILVER TEQUILA",
         "384.0",
         "459.0",
         "3200.0",
         "3125",
         "260",
         "65",
         "107",
         "368"
        ],
        [
         "4",
         "63",
         "HERRADURA REPOSADO TEQUILA",
         "365.0",
         "442.0",
         "2855.0",
         "2778",
         "232",
         "58",
         "95",
         "327"
        ]
       ],
       "shape": {
        "columns": 10,
        "rows": 5
       }
      },
      "text/html": [
       "<div>\n",
       "<style scoped>\n",
       "    .dataframe tbody tr th:only-of-type {\n",
       "        vertical-align: middle;\n",
       "    }\n",
       "\n",
       "    .dataframe tbody tr th {\n",
       "        vertical-align: top;\n",
       "    }\n",
       "\n",
       "    .dataframe thead th {\n",
       "        text-align: right;\n",
       "    }\n",
       "</style>\n",
       "<table border=\"1\" class=\"dataframe\">\n",
       "  <thead>\n",
       "    <tr style=\"text-align: right;\">\n",
       "      <th></th>\n",
       "      <th>Producto_ID</th>\n",
       "      <th>Nombre_Producto</th>\n",
       "      <th>Existencia_Inicial</th>\n",
       "      <th>Existencia_Final</th>\n",
       "      <th>Compras_Año</th>\n",
       "      <th>Demanda_Estimada</th>\n",
       "      <th>Demanda_Mensual_Promedio</th>\n",
       "      <th>Desviacion_Estandar</th>\n",
       "      <th>Stock_Seguridad</th>\n",
       "      <th>Stock_Optimo_Mensual</th>\n",
       "    </tr>\n",
       "  </thead>\n",
       "  <tbody>\n",
       "    <tr>\n",
       "      <th>0</th>\n",
       "      <td>58</td>\n",
       "      <td>GEKKEIKAN BLACK &amp; GOLD SAKE</td>\n",
       "      <td>281.0</td>\n",
       "      <td>385.0</td>\n",
       "      <td>3550.0</td>\n",
       "      <td>3446</td>\n",
       "      <td>287</td>\n",
       "      <td>72</td>\n",
       "      <td>118</td>\n",
       "      <td>406</td>\n",
       "    </tr>\n",
       "    <tr>\n",
       "      <th>1</th>\n",
       "      <td>60</td>\n",
       "      <td>CANADIAN CLUB 1858 VAP</td>\n",
       "      <td>288.0</td>\n",
       "      <td>146.0</td>\n",
       "      <td>1633.0</td>\n",
       "      <td>1775</td>\n",
       "      <td>148</td>\n",
       "      <td>37</td>\n",
       "      <td>61</td>\n",
       "      <td>209</td>\n",
       "    </tr>\n",
       "    <tr>\n",
       "      <th>2</th>\n",
       "      <td>61</td>\n",
       "      <td>MARGARITAVILLE SILVER</td>\n",
       "      <td>12.0</td>\n",
       "      <td>12.0</td>\n",
       "      <td>312.0</td>\n",
       "      <td>312</td>\n",
       "      <td>26</td>\n",
       "      <td>6</td>\n",
       "      <td>11</td>\n",
       "      <td>37</td>\n",
       "    </tr>\n",
       "    <tr>\n",
       "      <th>3</th>\n",
       "      <td>62</td>\n",
       "      <td>HERRADURA SILVER TEQUILA</td>\n",
       "      <td>384.0</td>\n",
       "      <td>459.0</td>\n",
       "      <td>3200.0</td>\n",
       "      <td>3125</td>\n",
       "      <td>260</td>\n",
       "      <td>65</td>\n",
       "      <td>107</td>\n",
       "      <td>368</td>\n",
       "    </tr>\n",
       "    <tr>\n",
       "      <th>4</th>\n",
       "      <td>63</td>\n",
       "      <td>HERRADURA REPOSADO TEQUILA</td>\n",
       "      <td>365.0</td>\n",
       "      <td>442.0</td>\n",
       "      <td>2855.0</td>\n",
       "      <td>2778</td>\n",
       "      <td>232</td>\n",
       "      <td>58</td>\n",
       "      <td>95</td>\n",
       "      <td>327</td>\n",
       "    </tr>\n",
       "  </tbody>\n",
       "</table>\n",
       "</div>"
      ],
      "text/plain": [
       "   Producto_ID              Nombre_Producto  Existencia_Inicial  \\\n",
       "0           58  GEKKEIKAN BLACK & GOLD SAKE               281.0   \n",
       "1           60       CANADIAN CLUB 1858 VAP               288.0   \n",
       "2           61        MARGARITAVILLE SILVER                12.0   \n",
       "3           62     HERRADURA SILVER TEQUILA               384.0   \n",
       "4           63   HERRADURA REPOSADO TEQUILA               365.0   \n",
       "\n",
       "   Existencia_Final  Compras_Año  Demanda_Estimada  Demanda_Mensual_Promedio  \\\n",
       "0             385.0       3550.0              3446                       287   \n",
       "1             146.0       1633.0              1775                       148   \n",
       "2              12.0        312.0               312                        26   \n",
       "3             459.0       3200.0              3125                       260   \n",
       "4             442.0       2855.0              2778                       232   \n",
       "\n",
       "   Desviacion_Estandar  Stock_Seguridad  Stock_Optimo_Mensual  \n",
       "0                   72              118                   406  \n",
       "1                   37               61                   209  \n",
       "2                    6               11                    37  \n",
       "3                   65              107                   368  \n",
       "4                   58               95                   327  "
      ]
     },
     "execution_count": 15,
     "metadata": {},
     "output_type": "execute_result"
    }
   ],
   "source": [
    "resumen_filtrado = resumen[resumen['Demanda_Estimada'] > 0].copy()\n",
    "resumen_filtrado.head()"
   ]
  },
  {
   "cell_type": "markdown",
   "id": "f68337f6",
   "metadata": {},
   "source": [
    "Productos críticos o de alta rotación"
   ]
  },
  {
   "cell_type": "markdown",
   "id": "18e994d4",
   "metadata": {},
   "source": [
    "        Identificar gráficamente los productos con mayor demanda estimada, para priorizar su control y planeación dentro del inventario de la tienda virtual."
   ]
  },
  {
   "cell_type": "code",
   "execution_count": 16,
   "id": "3d915eb3",
   "metadata": {},
   "outputs": [
    {
     "data": {
      "application/vnd.microsoft.datawrangler.viewer.v0+json": {
       "columns": [
        {
         "name": "Nombre_Producto",
         "rawType": "object",
         "type": "string"
        },
        {
         "name": "Demanda_Estimada",
         "rawType": "int64",
         "type": "integer"
        }
       ],
       "ref": "3da21526-a610-4008-a027-781c95104fb6",
       "rows": [
        [
         "SMIRNOFF 80 PROOF",
         "477926"
        ],
        [
         "CAPT MORGAN SPICED RUM",
         "385838"
        ],
        [
         "TITO'S HANDMADE VODKA",
         "358288"
        ],
        [
         "ABSOLUT 80 PROOF",
         "341297"
        ],
        [
         "JACK DANIELS NO 7 BLACK",
         "334824"
        ]
       ],
       "shape": {
        "columns": 1,
        "rows": 5
       }
      },
      "text/plain": [
       "Nombre_Producto\n",
       "SMIRNOFF 80 PROOF          477926\n",
       "CAPT MORGAN SPICED RUM     385838\n",
       "TITO'S HANDMADE VODKA      358288\n",
       "ABSOLUT 80 PROOF           341297\n",
       "JACK DANIELS NO 7 BLACK    334824\n",
       "Name: Demanda_Estimada, dtype: int64"
      ]
     },
     "execution_count": 16,
     "metadata": {},
     "output_type": "execute_result"
    }
   ],
   "source": [
    "import matplotlib.pyplot as plt\n",
    "import seaborn as sns\n",
    "\n",
    "top10 = resumen_filtrado.groupby('Nombre_Producto')['Demanda_Estimada'].sum().sort_values(ascending=False).head(10)\n",
    "top10.head()"
   ]
  },
  {
   "cell_type": "markdown",
   "id": "1f74101c",
   "metadata": {},
   "source": [
    "Se genera una visualización de los 10 productos con mayor demanda estimada durante el año, permitiendo identificar los ítems de mayor rotación."
   ]
  },
  {
   "cell_type": "code",
   "execution_count": 17,
   "id": "c41de7b2",
   "metadata": {},
   "outputs": [
    {
     "name": "stderr",
     "output_type": "stream",
     "text": [
      "C:\\Users\\sagua\\AppData\\Local\\Temp\\ipykernel_10680\\3787450704.py:2: FutureWarning: \n",
      "\n",
      "Passing `palette` without assigning `hue` is deprecated and will be removed in v0.14.0. Assign the `y` variable to `hue` and set `legend=False` for the same effect.\n",
      "\n",
      "  sns.barplot(x=top10.values, y=top10.index, palette='viridis')\n"
     ]
    },
    {
     "data": {
      "image/png": "[encoded data removed]",
      "text/plain": [
       "<Figure size 1000x600 with 1 Axes>"
      ]
     },
     "metadata": {},
     "output_type": "display_data"
    }
   ],
   "source": [
    "plt.figure(figsize=(10, 6))\n",
    "sns.barplot(x=top10.values, y=top10.index, palette='viridis')\n",
    "plt.title('Top 10 Productos por Demanda Estimada Anual')\n",
    "plt.xlabel('Demanda Estimada (Unidades)')\n",
    "plt.ylabel('Nombre del Producto')\n",
    "plt.tight_layout()\n",
    "plt.show()"
   ]
  },
  {
   "cell_type": "code",
   "execution_count": 18,
   "id": "cb31d77a",
   "metadata": {},
   "outputs": [],
   "source": [
    "import numpy as np\n"
   ]
  },
  {
   "cell_type": "markdown",
   "id": "1c654232",
   "metadata": {},
   "source": [
    " Comparación Existencia Inicial vs. Final por producto"
   ]
  },
  {
   "cell_type": "code",
   "execution_count": 19,
   "id": "09558b84",
   "metadata": {},
   "outputs": [
    {
     "data": {
      "image/png": "[encoded data removed]",
      "text/plain": [
       "<Figure size 1500x600 with 1 Axes>"
      ]
     },
     "metadata": {},
     "output_type": "display_data"
    }
   ],
   "source": [
    "sample = resumen.sort_values(by='Demanda_Estimada', ascending=False).head(10)\n",
    "\n",
    "x = np.arange(len(sample))\n",
    "width = 0.35\n",
    "\n",
    "plt.figure(figsize=(15, 6))\n",
    "plt.bar(x - width/2, sample['Existencia_Inicial'], width, label='Inicial')\n",
    "plt.bar(x + width/2, sample['Existencia_Final'], width, label='Final')\n",
    "plt.xticks(x, sample['Nombre_Producto'], rotation=45, ha='right')\n",
    "plt.title('Comparación de Inventario Inicial vs Final (Top 10 por Demanda)')\n",
    "plt.ylabel('Existencias')\n",
    "plt.legend()\n",
    "plt.tight_layout()\n",
    "plt.show()\n"
   ]
  },
  {
   "cell_type": "markdown",
   "id": "53b65536",
   "metadata": {},
   "source": [
    "Distribución general de la demanda estimada"
   ]
  },
  {
   "cell_type": "code",
   "execution_count": 20,
   "id": "b8a3a326",
   "metadata": {},
   "outputs": [
    {
     "data": {
      "image/png": "[encoded data removed]",
      "text/plain": [
       "<Figure size 1200x600 with 1 Axes>"
      ]
     },
     "metadata": {},
     "output_type": "display_data"
    }
   ],
   "source": [
    "plt.figure(figsize=(12, 6))\n",
    "plt.hist(resumen[resumen['Demanda_Estimada'] < 10000]['Demanda_Estimada'], \n",
    "         bins=30, color='mediumseagreen', edgecolor='black')\n",
    "plt.title('Distribución de la Demanda Estimada (<10,000 unidades)')\n",
    "plt.xlabel('Demanda Estimada (unidades)')\n",
    "plt.ylabel('Frecuencia')\n",
    "plt.tight_layout()\n",
    "plt.show()\n"
   ]
  },
  {
   "cell_type": "code",
   "execution_count": 21,
   "id": "9a2bc7a3",
   "metadata": {},
   "outputs": [
    {
     "name": "stderr",
     "output_type": "stream",
     "text": [
      "c:\\Users\\sagua\\AppData\\Local\\Programs\\Python\\Python313\\Lib\\site-packages\\pandas\\core\\nanops.py:1016: RuntimeWarning: invalid value encountered in subtract\n",
      "  sqr = _ensure_numeric((avg - values) ** 2)\n"
     ]
    },
    {
     "data": {
      "image/png": "[encoded data removed]",
      "text/plain": [
       "<Figure size 1200x600 with 1 Axes>"
      ]
     },
     "metadata": {},
     "output_type": "display_data"
    }
   ],
   "source": [
    "import seaborn as sns\n",
    "\n",
    "plt.figure(figsize=(12, 6))\n",
    "sns.histplot(resumen['Demanda_Estimada'], bins=30, color='mediumseagreen', kde=True, log_scale=(True, False))\n",
    "plt.title('Distribución de la Demanda Estimada (escala log en x)')\n",
    "plt.xlabel('Demanda Estimada (unidades)')\n",
    "plt.ylabel('Frecuencia')\n",
    "plt.tight_layout()\n",
    "plt.show()\n"
   ]
  },
  {
   "cell_type": "markdown",
   "id": "663be532",
   "metadata": {},
   "source": [
    "## Costo // Utilidad"
   ]
  },
  {
   "cell_type": "markdown",
   "id": "5348412a",
   "metadata": {},
   "source": [
    "        Se integró la información de costos y precios de venta para analizar la rentabilidad de cada producto en función de su demanda estimada. Esto permitió identificar los productos con mayor utilidad proyectada, así como oportunidades para optimizar la mezcla de inventario en función de su impacto económico.\n",
    "\n"
   ]
  },
  {
   "cell_type": "code",
   "execution_count": 22,
   "id": "56d02587",
   "metadata": {},
   "outputs": [
    {
     "data": {
      "application/vnd.microsoft.datawrangler.viewer.v0+json": {
       "columns": [
        {
         "name": "index",
         "rawType": "int64",
         "type": "integer"
        },
        {
         "name": "Producto_ID",
         "rawType": "int64",
         "type": "integer"
        },
        {
         "name": "Nombre_Producto",
         "rawType": "object",
         "type": "string"
        },
        {
         "name": "Precio_Venta",
         "rawType": "float64",
         "type": "float"
        },
        {
         "name": "Tamaño",
         "rawType": "object",
         "type": "string"
        },
        {
         "name": "Volumen",
         "rawType": "int64",
         "type": "integer"
        },
        {
         "name": "Clasificacion",
         "rawType": "int64",
         "type": "integer"
        },
        {
         "name": "Costo_Unitario",
         "rawType": "float64",
         "type": "float"
        },
        {
         "name": "Proveedor_ID",
         "rawType": "int64",
         "type": "integer"
        },
        {
         "name": "Nombre_Proveedor",
         "rawType": "object",
         "type": "string"
        }
       ],
       "ref": "ae38e43b-4607-44e5-ac3e-3ab797a6c453",
       "rows": [
        [
         "0",
         "58",
         "GEKKEIKAN BLACK & GOLD SAKE",
         "12.99",
         "750ML",
         "750",
         "1",
         "9.28",
         "8320",
         "SHAW ROSS INT L IMP LTD"
        ],
        [
         "1",
         "62",
         "HERRADURA SILVER TEQUILA",
         "36.99",
         "750ML",
         "750",
         "1",
         "28.67",
         "1128",
         "BROWN-FORMAN CORP"
        ],
        [
         "2",
         "63",
         "HERRADURA REPOSADO TEQUILA",
         "38.99",
         "750ML",
         "750",
         "1",
         "30.46",
         "1128",
         "BROWN-FORMAN CORP"
        ],
        [
         "3",
         "72",
         "NO. 3 LONDON DRY GIN",
         "34.99",
         "750ML",
         "750",
         "1",
         "26.11",
         "9165",
         "ULTRA BEVERAGE COMPANY LLP"
        ],
        [
         "4",
         "75",
         "THREE OLIVES TOMATO VODKA",
         "14.99",
         "750ML",
         "750",
         "1",
         "10.94",
         "7245",
         "PROXIMO SPIRITS INC"
        ]
       ],
       "shape": {
        "columns": 9,
        "rows": 5
       }
      },
      "text/html": [
       "<div>\n",
       "<style scoped>\n",
       "    .dataframe tbody tr th:only-of-type {\n",
       "        vertical-align: middle;\n",
       "    }\n",
       "\n",
       "    .dataframe tbody tr th {\n",
       "        vertical-align: top;\n",
       "    }\n",
       "\n",
       "    .dataframe thead th {\n",
       "        text-align: right;\n",
       "    }\n",
       "</style>\n",
       "<table border=\"1\" class=\"dataframe\">\n",
       "  <thead>\n",
       "    <tr style=\"text-align: right;\">\n",
       "      <th></th>\n",
       "      <th>Producto_ID</th>\n",
       "      <th>Nombre_Producto</th>\n",
       "      <th>Precio_Venta</th>\n",
       "      <th>Tamaño</th>\n",
       "      <th>Volumen</th>\n",
       "      <th>Clasificacion</th>\n",
       "      <th>Costo_Unitario</th>\n",
       "      <th>Proveedor_ID</th>\n",
       "      <th>Nombre_Proveedor</th>\n",
       "    </tr>\n",
       "  </thead>\n",
       "  <tbody>\n",
       "    <tr>\n",
       "      <th>0</th>\n",
       "      <td>58</td>\n",
       "      <td>GEKKEIKAN BLACK &amp; GOLD SAKE</td>\n",
       "      <td>12.99</td>\n",
       "      <td>750ML</td>\n",
       "      <td>750</td>\n",
       "      <td>1</td>\n",
       "      <td>9.28</td>\n",
       "      <td>8320</td>\n",
       "      <td>SHAW ROSS INT L IMP LTD</td>\n",
       "    </tr>\n",
       "    <tr>\n",
       "      <th>1</th>\n",
       "      <td>62</td>\n",
       "      <td>HERRADURA SILVER TEQUILA</td>\n",
       "      <td>36.99</td>\n",
       "      <td>750ML</td>\n",
       "      <td>750</td>\n",
       "      <td>1</td>\n",
       "      <td>28.67</td>\n",
       "      <td>1128</td>\n",
       "      <td>BROWN-FORMAN CORP</td>\n",
       "    </tr>\n",
       "    <tr>\n",
       "      <th>2</th>\n",
       "      <td>63</td>\n",
       "      <td>HERRADURA REPOSADO TEQUILA</td>\n",
       "      <td>38.99</td>\n",
       "      <td>750ML</td>\n",
       "      <td>750</td>\n",
       "      <td>1</td>\n",
       "      <td>30.46</td>\n",
       "      <td>1128</td>\n",
       "      <td>BROWN-FORMAN CORP</td>\n",
       "    </tr>\n",
       "    <tr>\n",
       "      <th>3</th>\n",
       "      <td>72</td>\n",
       "      <td>NO. 3 LONDON DRY GIN</td>\n",
       "      <td>34.99</td>\n",
       "      <td>750ML</td>\n",
       "      <td>750</td>\n",
       "      <td>1</td>\n",
       "      <td>26.11</td>\n",
       "      <td>9165</td>\n",
       "      <td>ULTRA BEVERAGE COMPANY LLP</td>\n",
       "    </tr>\n",
       "    <tr>\n",
       "      <th>4</th>\n",
       "      <td>75</td>\n",
       "      <td>THREE OLIVES TOMATO VODKA</td>\n",
       "      <td>14.99</td>\n",
       "      <td>750ML</td>\n",
       "      <td>750</td>\n",
       "      <td>1</td>\n",
       "      <td>10.94</td>\n",
       "      <td>7245</td>\n",
       "      <td>PROXIMO SPIRITS INC</td>\n",
       "    </tr>\n",
       "  </tbody>\n",
       "</table>\n",
       "</div>"
      ],
      "text/plain": [
       "   Producto_ID              Nombre_Producto  Precio_Venta Tamaño  Volumen  \\\n",
       "0           58  GEKKEIKAN BLACK & GOLD SAKE         12.99  750ML      750   \n",
       "1           62     HERRADURA SILVER TEQUILA         36.99  750ML      750   \n",
       "2           63   HERRADURA REPOSADO TEQUILA         38.99  750ML      750   \n",
       "3           72         NO. 3 LONDON DRY GIN         34.99  750ML      750   \n",
       "4           75    THREE OLIVES TOMATO VODKA         14.99  750ML      750   \n",
       "\n",
       "   Clasificacion  Costo_Unitario  Proveedor_ID            Nombre_Proveedor  \n",
       "0              1            9.28          8320     SHAW ROSS INT L IMP LTD  \n",
       "1              1           28.67          1128           BROWN-FORMAN CORP  \n",
       "2              1           30.46          1128           BROWN-FORMAN CORP  \n",
       "3              1           26.11          9165  ULTRA BEVERAGE COMPANY LLP  \n",
       "4              1           10.94          7245         PROXIMO SPIRITS INC  "
      ]
     },
     "execution_count": 22,
     "metadata": {},
     "output_type": "execute_result"
    }
   ],
   "source": [
    "df_productos = pd.read_csv('C:/Users/sagua/OneDrive/Escritorio/DATA HENRY/Proyecto Final/Versiones/v3/productos_Limpio.csv')\n",
    "df_productos.head()\n",
    "\n"
   ]
  },
  {
   "cell_type": "markdown",
   "id": "6ed28e59",
   "metadata": {},
   "source": [
    "Resumen Enriquecido con datos de los productos para calculo de costos y utilidad"
   ]
  },
  {
   "cell_type": "code",
   "execution_count": 23,
   "id": "94f65f0b",
   "metadata": {},
   "outputs": [],
   "source": [
    "df_productos = df_productos[['Producto_ID', 'Precio_Venta', 'Costo_Unitario', 'Clasificacion']]\n",
    "resumen_enriquecido = resumen_filtrado.merge(df_productos, on='Producto_ID', how='left')"
   ]
  },
  {
   "cell_type": "markdown",
   "id": "0e88a5c3",
   "metadata": {},
   "source": [
    "Calculo de utilidad unitaria y total"
   ]
  },
  {
   "cell_type": "code",
   "execution_count": 24,
   "id": "727ff4ba",
   "metadata": {},
   "outputs": [],
   "source": [
    "resumen_enriquecido['Utilidad_Unit'] = resumen_enriquecido['Precio_Venta'] - resumen_enriquecido['Costo_Unitario']\n",
    "\n",
    "resumen_enriquecido['Utilidad_Total'] = resumen_enriquecido['Demanda_Estimada'] * resumen_enriquecido['Utilidad_Unit']"
   ]
  },
  {
   "cell_type": "markdown",
   "id": "37bcfbff",
   "metadata": {},
   "source": [
    "Top productos por utilidad total estimada"
   ]
  },
  {
   "cell_type": "code",
   "execution_count": 25,
   "id": "22a32739",
   "metadata": {},
   "outputs": [
    {
     "name": "stderr",
     "output_type": "stream",
     "text": [
      "C:\\Users\\sagua\\AppData\\Local\\Temp\\ipykernel_10680\\3426400424.py:4: FutureWarning: \n",
      "\n",
      "Passing `palette` without assigning `hue` is deprecated and will be removed in v0.14.0. Assign the `y` variable to `hue` and set `legend=False` for the same effect.\n",
      "\n",
      "  sns.barplot(x=top_utilidad.values, y=top_utilidad.index, palette='crest')\n"
     ]
    },
    {
     "data": {
      "image/png": "[encoded data removed]",
      "text/plain": [
       "<Figure size 1000x600 with 1 Axes>"
      ]
     },
     "metadata": {},
     "output_type": "display_data"
    }
   ],
   "source": [
    "top_utilidad = resumen_enriquecido.groupby('Nombre_Producto')['Utilidad_Total'].sum().sort_values(ascending=False).head(10)\n",
    "\n",
    "plt.figure(figsize=(10, 6))\n",
    "sns.barplot(x=top_utilidad.values, y=top_utilidad.index, palette='crest')\n",
    "plt.title('Top 10 Productos por Utilidad Estimada Anual')\n",
    "plt.xlabel('Utilidad Total (EURO)')\n",
    "plt.ylabel('Producto')\n",
    "plt.tight_layout()\n",
    "plt.show()\n"
   ]
  },
  {
   "cell_type": "markdown",
   "id": "130a97fe",
   "metadata": {},
   "source": [
    "Relación entre costo y utilidad total"
   ]
  },
  {
   "cell_type": "code",
   "execution_count": 26,
   "id": "628e671b",
   "metadata": {},
   "outputs": [
    {
     "name": "stdout",
     "output_type": "stream",
     "text": [
      "Costo_Unitario    0\n",
      "Utilidad_Total    0\n",
      "Clasificacion     0\n",
      "dtype: int64\n"
     ]
    }
   ],
   "source": [
    "print(resumen_enriquecido[['Costo_Unitario', 'Utilidad_Total', 'Clasificacion']].isnull().sum())\n"
   ]
  },
  {
   "cell_type": "code",
   "execution_count": 27,
   "id": "fdee04f1",
   "metadata": {},
   "outputs": [
    {
     "data": {
      "image/png": "[encoded data removed]",
      "text/plain": [
       "<Figure size 800x600 with 1 Axes>"
      ]
     },
     "metadata": {},
     "output_type": "display_data"
    }
   ],
   "source": [
    "plt.figure(figsize=(8, 6))\n",
    "sns.scatterplot(data=resumen_enriquecido, x='Costo_Unitario', y='Utilidad_Total', hue='Clasificacion')\n",
    "plt.title('Costo Unitario vs. Utilidad Total por Producto')\n",
    "plt.xlabel('Costo Unitario (EURO)')\n",
    "plt.ylabel('Utilidad Total Estimada (EURO)')\n",
    "plt.tight_layout()\n",
    "plt.show()\n"
   ]
  },
  {
   "cell_type": "markdown",
   "id": "87630a42",
   "metadata": {},
   "source": [
    "        El análisis muestra que la mayoría de los productos con mayor rentabilidad total pertenecen al segmento de bajo costo unitario, lo cual sugiere una estrategia centrada en volumen y eficiencia operativa. Por el contrario, productos de alto costo unitario no están contribuyendo significativamente a la utilidad total, por lo que deben ser reevaluados en términos de rotación, precio o incluso permanencia en el catálogo de productos "
   ]
  },
  {
   "cell_type": "markdown",
   "id": "f0ee28ca",
   "metadata": {},
   "source": [
    "## Implementacion de la IA"
   ]
  },
  {
   "cell_type": "markdown",
   "id": "8f7f437a",
   "metadata": {},
   "source": [
    "Segmentación ABC"
   ]
  },
  {
   "cell_type": "code",
   "execution_count": 28,
   "id": "7239f63a",
   "metadata": {},
   "outputs": [],
   "source": [
    "# Paso 1: Ordenar por Utilidad Total descendente\n",
    "resumen_enriquecido = resumen_enriquecido.sort_values(by='Utilidad_Total', ascending=False)\n",
    "\n",
    "# Paso 2: Calcular el porcentaje de contribución\n",
    "resumen_enriquecido['Porcentaje_Utilidad'] = resumen_enriquecido['Utilidad_Total'] / resumen_enriquecido['Utilidad_Total'].sum()\n",
    "\n",
    "# Paso 3: Calcular el acumulado del porcentaje\n",
    "resumen_enriquecido['Porcentaje_Acumulado'] = resumen_enriquecido['Porcentaje_Utilidad'].cumsum()\n",
    "\n",
    "# Paso 4: Clasificar en A, B o C según regla 80/15/5\n",
    "def clasificar_abc(porcentaje):\n",
    "    if porcentaje <= 0.80:\n",
    "        return 'A'\n",
    "    elif porcentaje <= 0.95:\n",
    "        return 'B'\n",
    "    else:\n",
    "        return 'C'\n",
    "\n",
    "resumen_enriquecido['Clasificacion_ABC'] = resumen_enriquecido['Porcentaje_Acumulado'].apply(clasificar_abc)\n"
   ]
  },
  {
   "cell_type": "code",
   "execution_count": 29,
   "id": "57a7aa6c",
   "metadata": {},
   "outputs": [
    {
     "name": "stdout",
     "output_type": "stream",
     "text": [
      "Clasificacion_ABC\n",
      "C    6807\n",
      "B    2116\n",
      "A    1667\n",
      "Name: count, dtype: int64\n"
     ]
    }
   ],
   "source": [
    "print(resumen_enriquecido['Clasificacion_ABC'].value_counts())\n"
   ]
  },
  {
   "cell_type": "code",
   "execution_count": 30,
   "id": "6ef6791b",
   "metadata": {},
   "outputs": [
    {
     "data": {
      "image/png": "[encoded data removed]",
      "text/plain": [
       "<Figure size 1000x600 with 1 Axes>"
      ]
     },
     "metadata": {},
     "output_type": "display_data"
    }
   ],
   "source": [
    "plt.figure(figsize=(10, 6))\n",
    "sns.scatterplot(data=resumen_enriquecido, x='Costo_Unitario', y='Utilidad_Total', hue='Clasificacion_ABC', palette='Set1')\n",
    "plt.title('Segmentación ABC - Costo vs Utilidad')\n",
    "plt.xlabel('Costo Unitario (EURO)')\n",
    "plt.ylabel('Utilidad Total Estimada (EURO)')\n",
    "plt.legend(title='Clasificación ABC')\n",
    "plt.tight_layout()\n",
    "plt.show()\n"
   ]
  },
  {
   "cell_type": "markdown",
   "id": "4634685d",
   "metadata": {},
   "source": [
    "-- Priorizar productos A para stock, precios agresivos, promociones.\n",
    "\n",
    "-- Tener control sobre los productos B, mantenerlos saludables.\n",
    "\n",
    "-- Evaluar productos C para:\n",
    "\n",
    "        descontinuar\n",
    "\n",
    "        cambiar su estrategia\n",
    "\n",
    "        convertir en venta cruzada\n",
    "\n"
   ]
  },
  {
   "cell_type": "markdown",
   "id": "ba51213b",
   "metadata": {},
   "source": [
    "Matriz de Prioridad: Alta demanda / Alta utilidad"
   ]
  },
  {
   "cell_type": "code",
   "execution_count": 31,
   "id": "792ea787",
   "metadata": {},
   "outputs": [
    {
     "data": {
      "image/png": "[encoded data removed]",
      "text/plain": [
       "<Figure size 800x600 with 1 Axes>"
      ]
     },
     "metadata": {},
     "output_type": "display_data"
    }
   ],
   "source": [
    "plt.figure(figsize=(8, 6))\n",
    "sns.scatterplot(data=resumen_enriquecido, x='Demanda_Estimada', y='Utilidad_Total')\n",
    "plt.axvline(resumen_enriquecido['Demanda_Estimada'].median(), color='red', linestyle='--')\n",
    "plt.axhline(resumen_enriquecido['Utilidad_Total'].median(), color='red', linestyle='--')\n",
    "plt.title('Matriz de Rentabilidad: Demanda vs Utilidad Total')\n",
    "plt.xlabel('Demanda Estimada Anual')\n",
    "plt.ylabel('Utilidad Total Estimada')\n",
    "plt.tight_layout()\n",
    "plt.show()\n"
   ]
  },
  {
   "cell_type": "markdown",
   "id": "e7fa14f7",
   "metadata": {},
   "source": [
    "                   ↑ Utilidad Alta\n",
    "       ┌────────────┬────────────┐\n",
    "       │   Estrellas│  Rentables │\n",
    "       │   (A1)     │   (A2)     │\n",
    "       └────────────┴────────────┘\n",
    "       │   Esfuerzo │  Ineficientes\n",
    "       │   perdido  │   (C2)     │\n",
    "       └────────────┴────────────┘\n",
    "             ← Baja Demanda →\n"
   ]
  },
  {
   "cell_type": "markdown",
   "id": "2bc7daec",
   "metadata": {},
   "source": [
    "1. 🔝 Cuadrante superior derecho (Alta demanda, alta utilidad) → \"Productos Estrella\"\n",
    "Alta rotación y alta rentabilidad.\n",
    "\n",
    "Máxima prioridad en abastecimiento, promociones, mantenimiento de stock.\n",
    "\n",
    "Generalmente tus productos tipo A y B.\n",
    "\n",
    "2. 📈 Cuadrante superior izquierdo (Baja demanda, alta utilidad) → \"Rentables de nicho\"\n",
    "Margen alto, pero se venden poco.\n",
    "\n",
    "Mantener, pero con control de inventario.\n",
    "\n",
    "Buen candidato a estrategias de marketing personalizadas o premium.\n",
    "\n",
    "3. 📉 Cuadrante inferior derecho (Alta demanda, baja utilidad) → \"Mucho esfuerzo, poco margen\"\n",
    "Se venden mucho, pero dejan poco margen.\n",
    "\n",
    "Tal vez debas revisar precios o costos.\n",
    "\n",
    "Candidatos para renegociar con proveedores o ajustar estrategia de precios.\n",
    "\n",
    "4. 🪓 Cuadrante inferior izquierdo (Baja demanda, baja utilidad) → \"Ineficientes o prescindibles\"\n",
    "Bajos ingresos y baja rotación.\n",
    "\n",
    "Aquí viven los productos que podrías:\n",
    "\n",
    "descontinuar,\n",
    "\n",
    "liquidar,\n",
    "\n",
    "sustituir o\n",
    "\n",
    "usar como venta cruzada agresiva."
   ]
  },
  {
   "cell_type": "code",
   "execution_count": 32,
   "id": "4ad91c3a",
   "metadata": {},
   "outputs": [],
   "source": [
    "# Calcular medianas\n",
    "mediana_demanda = resumen_enriquecido['Demanda_Estimada'].median()\n",
    "mediana_utilidad = resumen_enriquecido['Utilidad_Total'].median()\n",
    "\n",
    "# Función de clasificación\n",
    "def clasificar_producto(fila):\n",
    "    if fila['Demanda_Estimada'] >= mediana_demanda and fila['Utilidad_Total'] >= mediana_utilidad:\n",
    "        return 'Estrella'\n",
    "    elif fila['Demanda_Estimada'] < mediana_demanda and fila['Utilidad_Total'] >= mediana_utilidad:\n",
    "        return 'Rentable de Nicho'\n",
    "    elif fila['Demanda_Estimada'] >= mediana_demanda and fila['Utilidad_Total'] < mediana_utilidad:\n",
    "        return 'Volumen Bajo Margen'\n",
    "    else:\n",
    "        return 'Prescindible'\n",
    "\n",
    "# Aplicar la clasificación\n",
    "resumen_enriquecido['Segmento_Rentabilidad'] = resumen_enriquecido.apply(clasificar_producto, axis=1)\n"
   ]
  },
  {
   "cell_type": "code",
   "execution_count": 33,
   "id": "5df1310d",
   "metadata": {},
   "outputs": [
    {
     "data": {
      "image/png": "[encoded data removed]",
      "text/plain": [
       "<Figure size 640x480 with 1 Axes>"
      ]
     },
     "metadata": {},
     "output_type": "display_data"
    }
   ],
   "source": [
    "sns.scatterplot(data=resumen_enriquecido, \n",
    "                x='Demanda_Estimada', \n",
    "                y='Utilidad_Total', \n",
    "                hue='Segmento_Rentabilidad',\n",
    "                palette='Set2')\n",
    "plt.axvline(mediana_demanda, color='red', linestyle='--')\n",
    "plt.axhline(mediana_utilidad, color='red', linestyle='--')\n",
    "plt.title('Matriz de Rentabilidad con Segmentación Estratégica')\n",
    "plt.xlabel('Demanda Estimada Anual')\n",
    "plt.ylabel('Utilidad Total Estimada')\n",
    "plt.legend(title='Segmento')\n",
    "plt.tight_layout()\n",
    "plt.show()\n"
   ]
  },
  {
   "cell_type": "code",
   "execution_count": 34,
   "id": "c1747b54",
   "metadata": {},
   "outputs": [
    {
     "data": {
      "application/vnd.microsoft.datawrangler.viewer.v0+json": {
       "columns": [
        {
         "name": "index",
         "rawType": "int64",
         "type": "integer"
        },
        {
         "name": "Producto_ID",
         "rawType": "int64",
         "type": "integer"
        },
        {
         "name": "Nombre_Producto",
         "rawType": "object",
         "type": "string"
        },
        {
         "name": "Demanda_Estimada",
         "rawType": "int64",
         "type": "integer"
        },
        {
         "name": "Utilidad_Total",
         "rawType": "float64",
         "type": "float"
        }
       ],
       "ref": "b29c6c28-566e-4828-93cb-77b220a90453",
       "rows": [],
       "shape": {
        "columns": 4,
        "rows": 0
       }
      },
      "text/html": [
       "<div>\n",
       "<style scoped>\n",
       "    .dataframe tbody tr th:only-of-type {\n",
       "        vertical-align: middle;\n",
       "    }\n",
       "\n",
       "    .dataframe tbody tr th {\n",
       "        vertical-align: top;\n",
       "    }\n",
       "\n",
       "    .dataframe thead th {\n",
       "        text-align: right;\n",
       "    }\n",
       "</style>\n",
       "<table border=\"1\" class=\"dataframe\">\n",
       "  <thead>\n",
       "    <tr style=\"text-align: right;\">\n",
       "      <th></th>\n",
       "      <th>Producto_ID</th>\n",
       "      <th>Nombre_Producto</th>\n",
       "      <th>Demanda_Estimada</th>\n",
       "      <th>Utilidad_Total</th>\n",
       "    </tr>\n",
       "  </thead>\n",
       "  <tbody>\n",
       "  </tbody>\n",
       "</table>\n",
       "</div>"
      ],
      "text/plain": [
       "Empty DataFrame\n",
       "Columns: [Producto_ID, Nombre_Producto, Demanda_Estimada, Utilidad_Total]\n",
       "Index: []"
      ]
     },
     "execution_count": 34,
     "metadata": {},
     "output_type": "execute_result"
    }
   ],
   "source": [
    "# Filtrar productos del segmento prescindible con baja demanda y baja utilidad\n",
    "productos_a_eliminar = resumen_enriquecido[\n",
    "    (resumen_enriquecido['Segmento_Rentabilidad'] == 'Prescindible') &\n",
    "    (resumen_enriquecido['Utilidad_Total'] <= 0)\n",
    "]\n",
    "\n",
    "# Ver algunos ejemplos\n",
    "productos_a_eliminar[['Producto_ID', 'Nombre_Producto', 'Demanda_Estimada', 'Utilidad_Total']]\n"
   ]
  },
  {
   "cell_type": "code",
   "execution_count": 35,
   "id": "7873bc34",
   "metadata": {},
   "outputs": [
    {
     "data": {
      "application/vnd.microsoft.datawrangler.viewer.v0+json": {
       "columns": [
        {
         "name": "index",
         "rawType": "int64",
         "type": "integer"
        },
        {
         "name": "0",
         "rawType": "bool",
         "type": "boolean"
        }
       ],
       "ref": "7de8c7d6-61a8-4dca-9632-c27aef93674c",
       "rows": [
        [
         "570",
         "False"
        ],
        [
         "2143",
         "False"
        ],
        [
         "3181",
         "False"
        ],
        [
         "1719",
         "False"
        ],
        [
         "1632",
         "False"
        ],
        [
         "2903",
         "False"
        ],
        [
         "1927",
         "False"
        ],
        [
         "3189",
         "False"
        ],
        [
         "1461",
         "False"
        ],
        [
         "31",
         "False"
        ],
        [
         "1686",
         "False"
        ],
        [
         "1125",
         "False"
        ],
        [
         "1785",
         "False"
        ],
        [
         "631",
         "False"
        ],
        [
         "1176",
         "False"
        ],
        [
         "1122",
         "False"
        ],
        [
         "10054",
         "False"
        ],
        [
         "3443",
         "False"
        ],
        [
         "1699",
         "False"
        ],
        [
         "2933",
         "False"
        ],
        [
         "1237",
         "False"
        ],
        [
         "885",
         "False"
        ],
        [
         "1592",
         "False"
        ],
        [
         "1234",
         "False"
        ],
        [
         "2127",
         "False"
        ],
        [
         "2142",
         "False"
        ],
        [
         "4195",
         "False"
        ],
        [
         "1896",
         "False"
        ],
        [
         "2533",
         "False"
        ],
        [
         "3732",
         "False"
        ],
        [
         "1938",
         "False"
        ],
        [
         "1926",
         "False"
        ],
        [
         "3376",
         "False"
        ],
        [
         "3011",
         "False"
        ],
        [
         "569",
         "False"
        ],
        [
         "2661",
         "False"
        ],
        [
         "1693",
         "False"
        ],
        [
         "3225",
         "False"
        ],
        [
         "9717",
         "False"
        ],
        [
         "3203",
         "False"
        ],
        [
         "3731",
         "False"
        ],
        [
         "332",
         "False"
        ],
        [
         "9698",
         "False"
        ],
        [
         "2940",
         "False"
        ],
        [
         "2418",
         "False"
        ],
        [
         "4322",
         "False"
        ],
        [
         "2116",
         "False"
        ],
        [
         "3001",
         "False"
        ],
        [
         "717",
         "False"
        ],
        [
         "891",
         "False"
        ]
       ],
       "shape": {
        "columns": 1,
        "rows": 10590
       }
      },
      "text/plain": [
       "570     False\n",
       "2143    False\n",
       "3181    False\n",
       "1719    False\n",
       "1632    False\n",
       "        ...  \n",
       "1977    False\n",
       "1766    False\n",
       "1247    False\n",
       "2499    False\n",
       "921     False\n",
       "Length: 10590, dtype: bool"
      ]
     },
     "execution_count": 35,
     "metadata": {},
     "output_type": "execute_result"
    }
   ],
   "source": [
    "(resumen_enriquecido['Segmento_Rentabilidad'] == 'Prescindible') & (resumen_enriquecido['Utilidad_Total'] <= 0)\n"
   ]
  },
  {
   "cell_type": "code",
   "execution_count": 36,
   "id": "2aa76fae",
   "metadata": {},
   "outputs": [
    {
     "data": {
      "application/vnd.microsoft.datawrangler.viewer.v0+json": {
       "columns": [
        {
         "name": "Segmento_Rentabilidad",
         "rawType": "object",
         "type": "string"
        },
        {
         "name": "count",
         "rawType": "int64",
         "type": "integer"
        }
       ],
       "ref": "c1299aa0-01ba-44f4-8c8a-c72c770c6bd4",
       "rows": [
        [
         "Estrella",
         "4866"
        ],
        [
         "Prescindible",
         "4865"
        ],
        [
         "Volumen Bajo Margen",
         "430"
        ],
        [
         "Rentable de Nicho",
         "429"
        ]
       ],
       "shape": {
        "columns": 1,
        "rows": 4
       }
      },
      "text/plain": [
       "Segmento_Rentabilidad\n",
       "Estrella               4866\n",
       "Prescindible           4865\n",
       "Volumen Bajo Margen     430\n",
       "Rentable de Nicho       429\n",
       "Name: count, dtype: int64"
      ]
     },
     "execution_count": 36,
     "metadata": {},
     "output_type": "execute_result"
    }
   ],
   "source": [
    "resumen_enriquecido['Segmento_Rentabilidad'].value_counts()\n"
   ]
  },
  {
   "cell_type": "code",
   "execution_count": 37,
   "id": "eeb091fb",
   "metadata": {},
   "outputs": [
    {
     "data": {
      "text/plain": [
       "np.int64(1)"
      ]
     },
     "execution_count": 37,
     "metadata": {},
     "output_type": "execute_result"
    }
   ],
   "source": [
    "(resumen_enriquecido['Utilidad_Total'] <= 0).sum()\n"
   ]
  },
  {
   "cell_type": "code",
   "execution_count": 38,
   "id": "496b8ae4",
   "metadata": {},
   "outputs": [
    {
     "data": {
      "application/vnd.microsoft.datawrangler.viewer.v0+json": {
       "columns": [
        {
         "name": "index",
         "rawType": "int64",
         "type": "integer"
        },
        {
         "name": "Producto_ID",
         "rawType": "int64",
         "type": "integer"
        },
        {
         "name": "Nombre_Producto",
         "rawType": "object",
         "type": "string"
        },
        {
         "name": "Existencia_Inicial",
         "rawType": "float64",
         "type": "float"
        },
        {
         "name": "Existencia_Final",
         "rawType": "float64",
         "type": "float"
        },
        {
         "name": "Compras_Año",
         "rawType": "float64",
         "type": "float"
        },
        {
         "name": "Demanda_Estimada",
         "rawType": "int64",
         "type": "integer"
        },
        {
         "name": "Demanda_Mensual_Promedio",
         "rawType": "int64",
         "type": "integer"
        },
        {
         "name": "Desviacion_Estandar",
         "rawType": "int64",
         "type": "integer"
        },
        {
         "name": "Stock_Seguridad",
         "rawType": "int64",
         "type": "integer"
        },
        {
         "name": "Stock_Optimo_Mensual",
         "rawType": "int64",
         "type": "integer"
        },
        {
         "name": "Precio_Venta",
         "rawType": "float64",
         "type": "float"
        },
        {
         "name": "Costo_Unitario",
         "rawType": "float64",
         "type": "float"
        },
        {
         "name": "Clasificacion",
         "rawType": "int64",
         "type": "integer"
        },
        {
         "name": "Utilidad_Unit",
         "rawType": "float64",
         "type": "float"
        },
        {
         "name": "Utilidad_Total",
         "rawType": "float64",
         "type": "float"
        },
        {
         "name": "Porcentaje_Utilidad",
         "rawType": "float64",
         "type": "float"
        },
        {
         "name": "Porcentaje_Acumulado",
         "rawType": "float64",
         "type": "float"
        },
        {
         "name": "Clasificacion_ABC",
         "rawType": "object",
         "type": "string"
        },
        {
         "name": "Segmento_Rentabilidad",
         "rawType": "object",
         "type": "string"
        }
       ],
       "ref": "13f2f5a1-58f2-45cf-8ec3-94e540144658",
       "rows": [
        [
         "2499",
         "5287",
         "DR MCGILLICUDDY'S VANILLA",
         "2.0",
         "0.0",
         "0.0",
         "2",
         "0",
         "0",
         "0",
         "0",
         "0.49",
         "0.38",
         "1",
         "0.10999999999999999",
         "0.21999999999999997",
         "1.5296093853797136e-09",
         "1.0000000000000029",
         "C",
         "Prescindible"
        ],
        [
         "1247",
         "2773",
         "REVEL STOKE ROASTED PECAN",
         "1.0",
         "0.0",
         "0.0",
         "1",
         "0",
         "0",
         "0",
         "0",
         "0.99",
         "0.72",
         "1",
         "0.27",
         "0.27",
         "1.877247882056922e-09",
         "0.9999999984703934",
         "C",
         "Prescindible"
        ],
        [
         "1977",
         "3933",
         "NEW AMSTERDAM VODKA",
         "2.0",
         "0.0",
         "0.0",
         "2",
         "0",
         "0",
         "0",
         "0",
         "0.99",
         "0.73",
         "1",
         "0.26",
         "0.52",
         "3.61544036544296e-09",
         "0.9999999929777051",
         "C",
         "Prescindible"
        ],
        [
         "1766",
         "3623",
         "SPUD POTATO VODKA",
         "2.0",
         "0.0",
         "0.0",
         "2",
         "0",
         "0",
         "0",
         "0",
         "0.99",
         "0.73",
         "1",
         "0.26",
         "0.52",
         "3.61544036544296e-09",
         "0.9999999965931455",
         "C",
         "Prescindible"
        ],
        [
         "896",
         "2134",
         "CANADIAN LTD",
         "1.0",
         "0.0",
         "0.0",
         "1",
         "0",
         "0",
         "0",
         "0",
         "2.49",
         "1.93",
         "1",
         "0.5600000000000003",
         "0.5600000000000003",
         "3.893551162784728e-09",
         "0.9999999893622648",
         "C",
         "Prescindible"
        ],
        [
         "1634",
         "3407",
         "UV SRIRACHA VODKA",
         "3.0",
         "0.0",
         "0.0",
         "3",
         "0",
         "0",
         "0",
         "0",
         "0.99",
         "0.73",
         "1",
         "0.26",
         "0.78",
         "5.423160548164441e-09",
         "0.9999999854687136",
         "C",
         "Prescindible"
        ],
        [
         "2522",
         "5341",
         "DR MCGILLICUDDY'S CHERRY",
         "11.0",
         "0.0",
         "0.0",
         "11",
         "1",
         "0",
         "0",
         "1",
         "0.49",
         "0.39",
         "1",
         "0.09999999999999998",
         "1.0999999999999996",
         "7.648046926898567e-09",
         "0.999999980045553",
         "C",
         "Prescindible"
        ],
        [
         "15",
         "105",
         "MR BOSTON BUTTERSCOTCH",
         "10.0",
         "9.0",
         "0.0",
         "1",
         "0",
         "0",
         "0",
         "0",
         "4.49",
         "3.35",
         "1",
         "1.1400000000000001",
         "1.1400000000000001",
         "7.926157724240336e-09",
         "0.999999972397506",
         "C",
         "Prescindible"
        ],
        [
         "295",
         "746",
         "ALLEN'S MELON LIQUEUR",
         "0.0",
         "11.0",
         "12.0",
         "1",
         "0",
         "0",
         "0",
         "0",
         "5.99",
         "4.61",
         "1",
         "1.38",
         "1.38",
         "9.594822508290933e-09",
         "0.9999999644713483",
         "C",
         "Prescindible"
        ],
        [
         "3465",
         "8729",
         "SMIRNOFF LIGHT STRAWBERRY",
         "2.0",
         "0.0",
         "4.0",
         "6",
         "0",
         "0",
         "0",
         "1",
         "0.99",
         "0.74",
         "1",
         "0.25",
         "1.5",
         "1.0429154900316231e-08",
         "0.9999999548765258",
         "C",
         "Prescindible"
        ],
        [
         "1440",
         "3053",
         "THREE OLIVES CHERRY VODKA",
         "8.0",
         "0.0",
         "0.0",
         "8",
         "1",
         "0",
         "0",
         "1",
         "0.99",
         "0.79",
         "1",
         "0.19999999999999996",
         "1.5999999999999996",
         "1.1124431893670643e-08",
         "0.999999944447371",
         "C",
         "Prescindible"
        ],
        [
         "3494",
         "8872",
         "KRU PEACH MANGO VODKA",
         "8.0",
         "0.0",
         "0.0",
         "8",
         "1",
         "0",
         "0",
         "1",
         "0.99",
         "0.78",
         "1",
         "0.20999999999999996",
         "1.6799999999999997",
         "1.1680653488354176e-08",
         "0.999999933322939",
         "C",
         "Prescindible"
        ],
        [
         "5030",
         "17576",
         "BENEFACTOR CELLARS CAB SVGN",
         "1.0",
         "0.0",
         "0.0",
         "1",
         "0",
         "0",
         "0",
         "0",
         "5.49",
         "3.79",
         "2",
         "1.7000000000000002",
         "1.7000000000000002",
         "1.1819708887025064e-08",
         "0.9999999216422856",
         "C",
         "Prescindible"
        ],
        [
         "5620",
         "19580",
         "VIN PARFAIT CHARD",
         "1.0",
         "0.0",
         "0.0",
         "1",
         "0",
         "0",
         "0",
         "0",
         "5.99",
         "3.99",
         "2",
         "2.0",
         "2.0",
         "1.3905539867088308e-08",
         "0.9999999098225767",
         "C",
         "Prescindible"
        ],
        [
         "5052",
         "17789",
         "PONTI SWEET VERMOUTH",
         "1.0",
         "0.0",
         "0.0",
         "1",
         "0",
         "0",
         "0",
         "0",
         "5.79",
         "3.76",
         "2",
         "2.0300000000000002",
         "2.0300000000000002",
         "1.4114122965094635e-08",
         "0.9999998959170369",
         "C",
         "Prescindible"
        ],
        [
         "1416",
         "3002",
         "PINNACLE RED LIQUORICE",
         "1.0",
         "0.0",
         "0.0",
         "1",
         "0",
         "0",
         "0",
         "0",
         "9.99",
         "7.8",
         "1",
         "2.1900000000000004",
         "2.1900000000000004",
         "1.52265661544617e-08",
         "0.9999998818029139",
         "C",
         "Prescindible"
        ],
        [
         "1481",
         "3144",
         "GREY GOOSE CHERRY NOIR",
         "12.0",
         "0.0",
         "0.0",
         "12",
         "1",
         "0",
         "0",
         "1",
         "0.99",
         "0.78",
         "1",
         "0.20999999999999996",
         "2.5199999999999996",
         "1.7520980232531265e-08",
         "0.9999998665763478",
         "C",
         "Prescindible"
        ],
        [
         "5810",
         "20019",
         "CAMELOT CHARD",
         "0.0",
         "11.0",
         "12.0",
         "1",
         "0",
         "0",
         "0",
         "0",
         "7.99",
         "5.44",
         "2",
         "2.55",
         "2.55",
         "1.772956333053759e-08",
         "0.9999998490553675",
         "C",
         "Prescindible"
        ],
        [
         "9950",
         "41169",
         "VENDANGE CAB SVGN",
         "0.0",
         "31.0",
         "33.0",
         "2",
         "0",
         "0",
         "0",
         "0",
         "3.99",
         "2.68",
         "2",
         "1.31",
         "2.62",
         "1.8216257225885686e-08",
         "0.9999998313258042",
         "C",
         "Prescindible"
        ],
        [
         "361",
         "850",
         "BOLS RED STINGER HOT CINNAM",
         "1.0",
         "0.0",
         "0.0",
         "1",
         "0",
         "0",
         "0",
         "0",
         "9.99",
         "7.35",
         "1",
         "2.6400000000000006",
         "2.6400000000000006",
         "1.8355312624556572e-08",
         "0.9999998131095469",
         "C",
         "Prescindible"
        ],
        [
         "4166",
         "13890",
         "VISTAMAR SEPIA PNT NR",
         "1.0",
         "0.0",
         "0.0",
         "1",
         "0",
         "0",
         "0",
         "0",
         "8.29",
         "5.64",
         "2",
         "2.6499999999999995",
         "2.6499999999999995",
         "1.8424840323892005e-08",
         "0.9999997947542343",
         "C",
         "Prescindible"
        ],
        [
         "1804",
         "3678",
         "STOLICHNAYA OHRANJ",
         "8.0",
         "4.0",
         "0.0",
         "4",
         "0",
         "0",
         "0",
         "0",
         "2.49",
         "1.82",
         "1",
         "0.6700000000000002",
         "2.6800000000000006",
         "1.8633423421898338e-08",
         "0.999999776329394",
         "C",
         "Prescindible"
        ],
        [
         "8528",
         "26562",
         "ZARDETTO PRIVATE CUVEE GLARA",
         "0.0",
         "46.0",
         "48.0",
         "2",
         "0",
         "0",
         "0",
         "0",
         "3.99",
         "2.64",
         "2",
         "1.35",
         "2.7",
         "1.8772478820569217e-08",
         "0.9999997576959705",
         "C",
         "Prescindible"
        ],
        [
         "2427",
         "5116",
         "DEKUYPER KAMIKAZE RTD",
         "1.0",
         "0.0",
         "0.0",
         "1",
         "0",
         "0",
         "0",
         "0",
         "10.99",
         "8.26",
         "1",
         "2.7300000000000004",
         "2.7300000000000004",
         "1.8981061918575543e-08",
         "0.9999997389234917",
         "C",
         "Prescindible"
        ],
        [
         "7350",
         "23970",
         "LA FIERA MONTPLCIANO D'ABRUZ",
         "1.0",
         "0.0",
         "0.0",
         "1",
         "0",
         "0",
         "0",
         "0",
         "8.49",
         "5.74",
         "2",
         "2.75",
         "2.75",
         "1.9120117317246422e-08",
         "0.9999997008223125",
         "C",
         "Prescindible"
        ],
        [
         "7417",
         "24103",
         "FILON GARNACHA CALATAYUD",
         "0.0",
         "23.0",
         "24.0",
         "1",
         "0",
         "0",
         "0",
         "0",
         "8.49",
         "5.74",
         "2",
         "2.75",
         "2.75",
         "1.9120117317246422e-08",
         "0.9999997199424298",
         "C",
         "Prescindible"
        ],
        [
         "2932",
         "6652",
         "FRANZIA CLSC BURGUNDY",
         "1.0",
         "0.0",
         "0.0",
         "1",
         "0",
         "0",
         "0",
         "0",
         "7.99",
         "5.15",
         "2",
         "2.84",
         "2.84",
         "1.9745866611265397e-08",
         "0.9999996619563286",
         "C",
         "Prescindible"
        ],
        [
         "9733",
         "38728",
         "RANCHO ZABACO SVGN BL DANCG",
         "0.0",
         "23.0",
         "24.0",
         "1",
         "0",
         "0",
         "0",
         "0",
         "7.99",
         "5.15",
         "2",
         "2.84",
         "2.84",
         "1.9745866611265397e-08",
         "0.9999996817021952",
         "C",
         "Prescindible"
        ],
        [
         "265",
         "665",
         "MCCORMICK GRAPE VODKA",
         "32.0",
         "30.0",
         "0.0",
         "2",
         "0",
         "0",
         "0",
         "0",
         "6.99",
         "5.55",
         "1",
         "1.4400000000000004",
         "2.880000000000001",
         "2.002397740860717e-08",
         "0.999999642210462",
         "C",
         "Prescindible"
        ],
        [
         "5847",
         "20134",
         "FANCY PANTS CHARD",
         "0.0",
         "11.0",
         "12.0",
         "1",
         "0",
         "0",
         "0",
         "0",
         "8.99",
         "6.07",
         "2",
         "2.92",
         "2.92",
         "2.030208820594893e-08",
         "0.9999996221864846",
         "C",
         "Prescindible"
        ],
        [
         "7755",
         "24773",
         "ACTUM SINISTER",
         "0.0",
         "23.0",
         "24.0",
         "1",
         "0",
         "0",
         "0",
         "0",
         "8.99",
         "6.03",
         "2",
         "2.96",
         "2.96",
         "2.0580199003290697e-08",
         "0.9999996018843964",
         "C",
         "Prescindible"
        ],
        [
         "3058",
         "7294",
         "LLORD'S COFFEE LIQUEUR",
         "2.0",
         "0.0",
         "0.0",
         "2",
         "0",
         "0",
         "0",
         "0",
         "6.99",
         "5.5",
         "1",
         "1.4900000000000002",
         "2.9800000000000004",
         "2.0719254401961583e-08",
         "0.9999995813041974",
         "C",
         "Prescindible"
        ],
        [
         "9166",
         "31972",
         "TRINCHERO MAIN ST CHARD",
         "1.0",
         "0.0",
         "0.0",
         "1",
         "0",
         "0",
         "0",
         "0",
         "8.99",
         "5.88",
         "2",
         "3.1100000000000003",
         "3.1100000000000003",
         "2.1623114493322323e-08",
         "0.999999560584943",
         "C",
         "Prescindible"
        ],
        [
         "1552",
         "3277",
         "SKYY INFUSIONS GEORGIA PEACH",
         "1.0",
         "0.0",
         "0.0",
         "1",
         "0",
         "0",
         "0",
         "0",
         "11.99",
         "8.82",
         "1",
         "3.17",
         "3.17",
         "2.2040280689334968e-08",
         "0.9999995389618285",
         "C",
         "Prescindible"
        ],
        [
         "1924",
         "3853",
         "SKYY INFUSIONS MOSCATO GRAPE",
         "1.0",
         "0.0",
         "0.0",
         "1",
         "0",
         "0",
         "0",
         "0",
         "11.99",
         "8.82",
         "1",
         "3.17",
         "3.17",
         "2.2040280689334968e-08",
         "0.9999995169215478",
         "C",
         "Prescindible"
        ],
        [
         "5200",
         "18382",
         "2 COPAS SPAIN RED",
         "0.0",
         "23.0",
         "24.0",
         "1",
         "0",
         "0",
         "0",
         "0",
         "9.99",
         "6.8",
         "2",
         "3.1900000000000004",
         "3.1900000000000004",
         "2.2179336088005854e-08",
         "0.999999494881267",
         "C",
         "Prescindible"
        ],
        [
         "10398",
         "45480",
         "TAPENA GARNACHA",
         "1.0",
         "0.0",
         "0.0",
         "1",
         "0",
         "0",
         "0",
         "0",
         "9.99",
         "6.8",
         "2",
         "3.1900000000000004",
         "3.1900000000000004",
         "2.2179336088005854e-08",
         "0.999999472701931",
         "C",
         "Prescindible"
        ],
        [
         "5752",
         "19861",
         "REX GOLIATH PNT GRI",
         "0.0",
         "22.0",
         "24.0",
         "2",
         "0",
         "0",
         "0",
         "0",
         "4.99",
         "3.39",
         "2",
         "1.6",
         "3.2",
         "2.2248863787341294e-08",
         "0.999999450522595",
         "C",
         "Prescindible"
        ],
        [
         "5462",
         "19138",
         "GERARD BERTRAND ORGANIC ROSE",
         "2.0",
         "1.0",
         "0.0",
         "1",
         "0",
         "0",
         "0",
         "0",
         "9.99",
         "6.71",
         "2",
         "3.2800000000000002",
         "3.2800000000000002",
         "2.2805085382024828e-08",
         "0.9999994282737312",
         "C",
         "Prescindible"
        ],
        [
         "1443",
         "3057",
         "PINNACLE MARSHMALLOW VODKA",
         "1.0",
         "0.0",
         "0.0",
         "1",
         "0",
         "0",
         "0",
         "0",
         "12.99",
         "9.69",
         "1",
         "3.3000000000000007",
         "3.3000000000000007",
         "2.2944140780695714e-08",
         "0.9999994054686459",
         "C",
         "Prescindible"
        ],
        [
         "284",
         "714",
         "ALLEN'S PEACH SCHNAPPS",
         "0.0",
         "11.0",
         "13.0",
         "2",
         "0",
         "0",
         "0",
         "0",
         "5.99",
         "4.31",
         "1",
         "1.6800000000000006",
         "3.360000000000001",
         "2.3361306976708366e-08",
         "0.999999382524505",
         "C",
         "Prescindible"
        ],
        [
         "124",
         "330",
         "FINLANDIA RASPBERRY VODKA",
         "1.0",
         "0.0",
         "0.0",
         "1",
         "0",
         "0",
         "0",
         "0",
         "16.99",
         "13.59",
         "1",
         "3.3999999999999986",
         "3.3999999999999986",
         "2.3639417774050115e-08",
         "0.9999993355237803",
         "C",
         "Prescindible"
        ],
        [
         "202",
         "535",
         "MALIBU MELON RUM",
         "1.0",
         "0.0",
         "0.0",
         "1",
         "0",
         "0",
         "0",
         "0",
         "16.99",
         "13.59",
         "1",
         "3.3999999999999986",
         "3.3999999999999986",
         "2.3639417774050115e-08",
         "0.999999359163198",
         "C",
         "Prescindible"
        ],
        [
         "4964",
         "17331",
         "SEAN MINOR FOUR BEARS SVGN B",
         "0.0",
         "23.0",
         "24.0",
         "1",
         "0",
         "0",
         "0",
         "0",
         "10.99",
         "7.58",
         "2",
         "3.41",
         "3.41",
         "2.3708945473385568e-08",
         "0.9999993118843625",
         "C",
         "Prescindible"
        ],
        [
         "3797",
         "11769",
         "CARPENE MALVOLTI PROSECCO",
         "0.0",
         "46.0",
         "48.0",
         "2",
         "0",
         "0",
         "0",
         "0",
         "5.29",
         "3.53",
         "2",
         "1.7600000000000002",
         "3.5200000000000005",
         "2.4473750166075425e-08",
         "0.9999992881754171",
         "C",
         "Prescindible"
        ],
        [
         "5754",
         "19863",
         "REX GOLIATH CAB SVGN",
         "0.0",
         "22.0",
         "24.0",
         "2",
         "0",
         "0",
         "0",
         "0",
         "4.99",
         "3.22",
         "2",
         "1.77",
         "3.54",
         "2.4612805564746304e-08",
         "0.9999992637016669",
         "C",
         "Prescindible"
        ],
        [
         "39",
         "150",
         "SMIRNOFF STRAWBERRY VODKA",
         "10.0",
         "9.0",
         "0.0",
         "1",
         "0",
         "0",
         "0",
         "0",
         "14.49",
         "10.81",
         "1",
         "3.6799999999999997",
         "3.6799999999999997",
         "2.5586193355442484e-08",
         "0.9999992390888613",
         "C",
         "Prescindible"
        ],
        [
         "4157",
         "13835",
         "DOWN UNDER CELLARS SHIRAZ",
         "0.0",
         "11.0",
         "12.0",
         "1",
         "0",
         "0",
         "0",
         "0",
         "11.99",
         "8.21",
         "2",
         "3.7799999999999994",
         "3.7799999999999994",
         "2.6281470348796898e-08",
         "0.999999213502668",
         "C",
         "Prescindible"
        ],
        [
         "493",
         "1043",
         "JIM BEAM GIFT PAK",
         "1.0",
         "0.0",
         "0.0",
         "1",
         "0",
         "0",
         "0",
         "0",
         "16.49",
         "12.59",
         "1",
         "3.8999999999999986",
         "3.8999999999999986",
         "2.711580274082219e-08",
         "0.9999991872211976",
         "C",
         "Prescindible"
        ],
        [
         "4863",
         "16950",
         "REX GOLIATH WHITE",
         "0.0",
         "22.0",
         "24.0",
         "2",
         "0",
         "0",
         "0",
         "0",
         "5.99",
         "4.02",
         "2",
         "1.9700000000000006",
         "3.9400000000000013",
         "2.7393913538163977e-08",
         "0.9999991601053949",
         "C",
         "Prescindible"
        ]
       ],
       "shape": {
        "columns": 19,
        "rows": 4865
       }
      },
      "text/html": [
       "<div>\n",
       "<style scoped>\n",
       "    .dataframe tbody tr th:only-of-type {\n",
       "        vertical-align: middle;\n",
       "    }\n",
       "\n",
       "    .dataframe tbody tr th {\n",
       "        vertical-align: top;\n",
       "    }\n",
       "\n",
       "    .dataframe thead th {\n",
       "        text-align: right;\n",
       "    }\n",
       "</style>\n",
       "<table border=\"1\" class=\"dataframe\">\n",
       "  <thead>\n",
       "    <tr style=\"text-align: right;\">\n",
       "      <th></th>\n",
       "      <th>Producto_ID</th>\n",
       "      <th>Nombre_Producto</th>\n",
       "      <th>Existencia_Inicial</th>\n",
       "      <th>Existencia_Final</th>\n",
       "      <th>Compras_Año</th>\n",
       "      <th>Demanda_Estimada</th>\n",
       "      <th>Demanda_Mensual_Promedio</th>\n",
       "      <th>Desviacion_Estandar</th>\n",
       "      <th>Stock_Seguridad</th>\n",
       "      <th>Stock_Optimo_Mensual</th>\n",
       "      <th>Precio_Venta</th>\n",
       "      <th>Costo_Unitario</th>\n",
       "      <th>Clasificacion</th>\n",
       "      <th>Utilidad_Unit</th>\n",
       "      <th>Utilidad_Total</th>\n",
       "      <th>Porcentaje_Utilidad</th>\n",
       "      <th>Porcentaje_Acumulado</th>\n",
       "      <th>Clasificacion_ABC</th>\n",
       "      <th>Segmento_Rentabilidad</th>\n",
       "    </tr>\n",
       "  </thead>\n",
       "  <tbody>\n",
       "    <tr>\n",
       "      <th>2499</th>\n",
       "      <td>5287</td>\n",
       "      <td>DR MCGILLICUDDY'S VANILLA</td>\n",
       "      <td>2.0</td>\n",
       "      <td>0.0</td>\n",
       "      <td>0.0</td>\n",
       "      <td>2</td>\n",
       "      <td>0</td>\n",
       "      <td>0</td>\n",
       "      <td>0</td>\n",
       "      <td>0</td>\n",
       "      <td>0.49</td>\n",
       "      <td>0.38</td>\n",
       "      <td>1</td>\n",
       "      <td>0.11</td>\n",
       "      <td>0.22</td>\n",
       "      <td>1.529609e-09</td>\n",
       "      <td>1.000000</td>\n",
       "      <td>C</td>\n",
       "      <td>Prescindible</td>\n",
       "    </tr>\n",
       "    <tr>\n",
       "      <th>1247</th>\n",
       "      <td>2773</td>\n",
       "      <td>REVEL STOKE ROASTED PECAN</td>\n",
       "      <td>1.0</td>\n",
       "      <td>0.0</td>\n",
       "      <td>0.0</td>\n",
       "      <td>1</td>\n",
       "      <td>0</td>\n",
       "      <td>0</td>\n",
       "      <td>0</td>\n",
       "      <td>0</td>\n",
       "      <td>0.99</td>\n",
       "      <td>0.72</td>\n",
       "      <td>1</td>\n",
       "      <td>0.27</td>\n",
       "      <td>0.27</td>\n",
       "      <td>1.877248e-09</td>\n",
       "      <td>1.000000</td>\n",
       "      <td>C</td>\n",
       "      <td>Prescindible</td>\n",
       "    </tr>\n",
       "    <tr>\n",
       "      <th>1977</th>\n",
       "      <td>3933</td>\n",
       "      <td>NEW AMSTERDAM VODKA</td>\n",
       "      <td>2.0</td>\n",
       "      <td>0.0</td>\n",
       "      <td>0.0</td>\n",
       "      <td>2</td>\n",
       "      <td>0</td>\n",
       "      <td>0</td>\n",
       "      <td>0</td>\n",
       "      <td>0</td>\n",
       "      <td>0.99</td>\n",
       "      <td>0.73</td>\n",
       "      <td>1</td>\n",
       "      <td>0.26</td>\n",
       "      <td>0.52</td>\n",
       "      <td>3.615440e-09</td>\n",
       "      <td>1.000000</td>\n",
       "      <td>C</td>\n",
       "      <td>Prescindible</td>\n",
       "    </tr>\n",
       "    <tr>\n",
       "      <th>1766</th>\n",
       "      <td>3623</td>\n",
       "      <td>SPUD POTATO VODKA</td>\n",
       "      <td>2.0</td>\n",
       "      <td>0.0</td>\n",
       "      <td>0.0</td>\n",
       "      <td>2</td>\n",
       "      <td>0</td>\n",
       "      <td>0</td>\n",
       "      <td>0</td>\n",
       "      <td>0</td>\n",
       "      <td>0.99</td>\n",
       "      <td>0.73</td>\n",
       "      <td>1</td>\n",
       "      <td>0.26</td>\n",
       "      <td>0.52</td>\n",
       "      <td>3.615440e-09</td>\n",
       "      <td>1.000000</td>\n",
       "      <td>C</td>\n",
       "      <td>Prescindible</td>\n",
       "    </tr>\n",
       "    <tr>\n",
       "      <th>896</th>\n",
       "      <td>2134</td>\n",
       "      <td>CANADIAN LTD</td>\n",
       "      <td>1.0</td>\n",
       "      <td>0.0</td>\n",
       "      <td>0.0</td>\n",
       "      <td>1</td>\n",
       "      <td>0</td>\n",
       "      <td>0</td>\n",
       "      <td>0</td>\n",
       "      <td>0</td>\n",
       "      <td>2.49</td>\n",
       "      <td>1.93</td>\n",
       "      <td>1</td>\n",
       "      <td>0.56</td>\n",
       "      <td>0.56</td>\n",
       "      <td>3.893551e-09</td>\n",
       "      <td>1.000000</td>\n",
       "      <td>C</td>\n",
       "      <td>Prescindible</td>\n",
       "    </tr>\n",
       "    <tr>\n",
       "      <th>...</th>\n",
       "      <td>...</td>\n",
       "      <td>...</td>\n",
       "      <td>...</td>\n",
       "      <td>...</td>\n",
       "      <td>...</td>\n",
       "      <td>...</td>\n",
       "      <td>...</td>\n",
       "      <td>...</td>\n",
       "      <td>...</td>\n",
       "      <td>...</td>\n",
       "      <td>...</td>\n",
       "      <td>...</td>\n",
       "      <td>...</td>\n",
       "      <td>...</td>\n",
       "      <td>...</td>\n",
       "      <td>...</td>\n",
       "      <td>...</td>\n",
       "      <td>...</td>\n",
       "      <td>...</td>\n",
       "    </tr>\n",
       "    <tr>\n",
       "      <th>1348</th>\n",
       "      <td>2911</td>\n",
       "      <td>ARDBEG DARK COVE COM RELEASE</td>\n",
       "      <td>0.0</td>\n",
       "      <td>3.0</td>\n",
       "      <td>69.0</td>\n",
       "      <td>66</td>\n",
       "      <td>6</td>\n",
       "      <td>1</td>\n",
       "      <td>2</td>\n",
       "      <td>8</td>\n",
       "      <td>109.99</td>\n",
       "      <td>82.08</td>\n",
       "      <td>1</td>\n",
       "      <td>27.91</td>\n",
       "      <td>1842.06</td>\n",
       "      <td>1.280742e-05</td>\n",
       "      <td>0.983167</td>\n",
       "      <td>C</td>\n",
       "      <td>Prescindible</td>\n",
       "    </tr>\n",
       "    <tr>\n",
       "      <th>7113</th>\n",
       "      <td>23400</td>\n",
       "      <td>PICO &amp; VINE CAB SVGN NAPA</td>\n",
       "      <td>138.0</td>\n",
       "      <td>0.0</td>\n",
       "      <td>18.0</td>\n",
       "      <td>156</td>\n",
       "      <td>13</td>\n",
       "      <td>3</td>\n",
       "      <td>5</td>\n",
       "      <td>18</td>\n",
       "      <td>18.99</td>\n",
       "      <td>7.14</td>\n",
       "      <td>2</td>\n",
       "      <td>11.85</td>\n",
       "      <td>1848.60</td>\n",
       "      <td>1.285289e-05</td>\n",
       "      <td>0.983091</td>\n",
       "      <td>C</td>\n",
       "      <td>Prescindible</td>\n",
       "    </tr>\n",
       "    <tr>\n",
       "      <th>6170</th>\n",
       "      <td>21105</td>\n",
       "      <td>KEN VOLK PNT NR CUVEE ST MAR</td>\n",
       "      <td>242.0</td>\n",
       "      <td>215.0</td>\n",
       "      <td>151.0</td>\n",
       "      <td>178</td>\n",
       "      <td>15</td>\n",
       "      <td>4</td>\n",
       "      <td>6</td>\n",
       "      <td>21</td>\n",
       "      <td>29.99</td>\n",
       "      <td>19.60</td>\n",
       "      <td>2</td>\n",
       "      <td>10.39</td>\n",
       "      <td>1849.42</td>\n",
       "      <td>1.285859e-05</td>\n",
       "      <td>0.983065</td>\n",
       "      <td>C</td>\n",
       "      <td>Prescindible</td>\n",
       "    </tr>\n",
       "    <tr>\n",
       "      <th>9853</th>\n",
       "      <td>39977</td>\n",
       "      <td>LITTLE PENGUIN CAB SVGN AUSL</td>\n",
       "      <td>57.0</td>\n",
       "      <td>88.0</td>\n",
       "      <td>258.0</td>\n",
       "      <td>227</td>\n",
       "      <td>19</td>\n",
       "      <td>5</td>\n",
       "      <td>8</td>\n",
       "      <td>27</td>\n",
       "      <td>14.99</td>\n",
       "      <td>6.84</td>\n",
       "      <td>2</td>\n",
       "      <td>8.15</td>\n",
       "      <td>1850.05</td>\n",
       "      <td>1.286297e-05</td>\n",
       "      <td>0.983039</td>\n",
       "      <td>C</td>\n",
       "      <td>Prescindible</td>\n",
       "    </tr>\n",
       "    <tr>\n",
       "      <th>7355</th>\n",
       "      <td>23983</td>\n",
       "      <td>KING ESTATE DOM PNT NR 12</td>\n",
       "      <td>10.0</td>\n",
       "      <td>0.0</td>\n",
       "      <td>77.0</td>\n",
       "      <td>87</td>\n",
       "      <td>7</td>\n",
       "      <td>2</td>\n",
       "      <td>3</td>\n",
       "      <td>10</td>\n",
       "      <td>65.99</td>\n",
       "      <td>44.59</td>\n",
       "      <td>2</td>\n",
       "      <td>21.40</td>\n",
       "      <td>1861.80</td>\n",
       "      <td>1.294467e-05</td>\n",
       "      <td>0.982949</td>\n",
       "      <td>C</td>\n",
       "      <td>Prescindible</td>\n",
       "    </tr>\n",
       "  </tbody>\n",
       "</table>\n",
       "<p>4865 rows × 19 columns</p>\n",
       "</div>"
      ],
      "text/plain": [
       "      Producto_ID               Nombre_Producto  Existencia_Inicial  \\\n",
       "2499         5287     DR MCGILLICUDDY'S VANILLA                 2.0   \n",
       "1247         2773     REVEL STOKE ROASTED PECAN                 1.0   \n",
       "1977         3933           NEW AMSTERDAM VODKA                 2.0   \n",
       "1766         3623             SPUD POTATO VODKA                 2.0   \n",
       "896          2134                  CANADIAN LTD                 1.0   \n",
       "...           ...                           ...                 ...   \n",
       "1348         2911  ARDBEG DARK COVE COM RELEASE                 0.0   \n",
       "7113        23400     PICO & VINE CAB SVGN NAPA               138.0   \n",
       "6170        21105  KEN VOLK PNT NR CUVEE ST MAR               242.0   \n",
       "9853        39977  LITTLE PENGUIN CAB SVGN AUSL                57.0   \n",
       "7355        23983     KING ESTATE DOM PNT NR 12                10.0   \n",
       "\n",
       "      Existencia_Final  Compras_Año  Demanda_Estimada  \\\n",
       "2499               0.0          0.0                 2   \n",
       "1247               0.0          0.0                 1   \n",
       "1977               0.0          0.0                 2   \n",
       "1766               0.0          0.0                 2   \n",
       "896                0.0          0.0                 1   \n",
       "...                ...          ...               ...   \n",
       "1348               3.0         69.0                66   \n",
       "7113               0.0         18.0               156   \n",
       "6170             215.0        151.0               178   \n",
       "9853              88.0        258.0               227   \n",
       "7355               0.0         77.0                87   \n",
       "\n",
       "      Demanda_Mensual_Promedio  Desviacion_Estandar  Stock_Seguridad  \\\n",
       "2499                         0                    0                0   \n",
       "1247                         0                    0                0   \n",
       "1977                         0                    0                0   \n",
       "1766                         0                    0                0   \n",
       "896                          0                    0                0   \n",
       "...                        ...                  ...              ...   \n",
       "1348                         6                    1                2   \n",
       "7113                        13                    3                5   \n",
       "6170                        15                    4                6   \n",
       "9853                        19                    5                8   \n",
       "7355                         7                    2                3   \n",
       "\n",
       "      Stock_Optimo_Mensual  Precio_Venta  Costo_Unitario  Clasificacion  \\\n",
       "2499                     0          0.49            0.38              1   \n",
       "1247                     0          0.99            0.72              1   \n",
       "1977                     0          0.99            0.73              1   \n",
       "1766                     0          0.99            0.73              1   \n",
       "896                      0          2.49            1.93              1   \n",
       "...                    ...           ...             ...            ...   \n",
       "1348                     8        109.99           82.08              1   \n",
       "7113                    18         18.99            7.14              2   \n",
       "6170                    21         29.99           19.60              2   \n",
       "9853                    27         14.99            6.84              2   \n",
       "7355                    10         65.99           44.59              2   \n",
       "\n",
       "      Utilidad_Unit  Utilidad_Total  Porcentaje_Utilidad  \\\n",
       "2499           0.11            0.22         1.529609e-09   \n",
       "1247           0.27            0.27         1.877248e-09   \n",
       "1977           0.26            0.52         3.615440e-09   \n",
       "1766           0.26            0.52         3.615440e-09   \n",
       "896            0.56            0.56         3.893551e-09   \n",
       "...             ...             ...                  ...   \n",
       "1348          27.91         1842.06         1.280742e-05   \n",
       "7113          11.85         1848.60         1.285289e-05   \n",
       "6170          10.39         1849.42         1.285859e-05   \n",
       "9853           8.15         1850.05         1.286297e-05   \n",
       "7355          21.40         1861.80         1.294467e-05   \n",
       "\n",
       "      Porcentaje_Acumulado Clasificacion_ABC Segmento_Rentabilidad  \n",
       "2499              1.000000                 C          Prescindible  \n",
       "1247              1.000000                 C          Prescindible  \n",
       "1977              1.000000                 C          Prescindible  \n",
       "1766              1.000000                 C          Prescindible  \n",
       "896               1.000000                 C          Prescindible  \n",
       "...                    ...               ...                   ...  \n",
       "1348              0.983167                 C          Prescindible  \n",
       "7113              0.983091                 C          Prescindible  \n",
       "6170              0.983065                 C          Prescindible  \n",
       "9853              0.983039                 C          Prescindible  \n",
       "7355              0.982949                 C          Prescindible  \n",
       "\n",
       "[4865 rows x 19 columns]"
      ]
     },
     "execution_count": 38,
     "metadata": {},
     "output_type": "execute_result"
    }
   ],
   "source": [
    "resumen_enriquecido[resumen_enriquecido['Segmento_Rentabilidad'] == 'Prescindible'].sort_values('Utilidad_Total')\n"
   ]
  },
  {
   "cell_type": "code",
   "execution_count": 39,
   "id": "3b7c2cbc",
   "metadata": {},
   "outputs": [
    {
     "data": {
      "application/vnd.microsoft.datawrangler.viewer.v0+json": {
       "columns": [
        {
         "name": "index",
         "rawType": "int64",
         "type": "integer"
        },
        {
         "name": "Producto_ID",
         "rawType": "int64",
         "type": "integer"
        },
        {
         "name": "Nombre_Producto",
         "rawType": "object",
         "type": "string"
        },
        {
         "name": "Existencia_Inicial",
         "rawType": "float64",
         "type": "float"
        },
        {
         "name": "Existencia_Final",
         "rawType": "float64",
         "type": "float"
        },
        {
         "name": "Compras_Año",
         "rawType": "float64",
         "type": "float"
        },
        {
         "name": "Demanda_Estimada",
         "rawType": "int64",
         "type": "integer"
        },
        {
         "name": "Demanda_Mensual_Promedio",
         "rawType": "int64",
         "type": "integer"
        },
        {
         "name": "Desviacion_Estandar",
         "rawType": "int64",
         "type": "integer"
        },
        {
         "name": "Stock_Seguridad",
         "rawType": "int64",
         "type": "integer"
        },
        {
         "name": "Stock_Optimo_Mensual",
         "rawType": "int64",
         "type": "integer"
        },
        {
         "name": "Precio_Venta",
         "rawType": "float64",
         "type": "float"
        },
        {
         "name": "Costo_Unitario",
         "rawType": "float64",
         "type": "float"
        },
        {
         "name": "Clasificacion",
         "rawType": "int64",
         "type": "integer"
        },
        {
         "name": "Utilidad_Unit",
         "rawType": "float64",
         "type": "float"
        },
        {
         "name": "Utilidad_Total",
         "rawType": "float64",
         "type": "float"
        },
        {
         "name": "Porcentaje_Utilidad",
         "rawType": "float64",
         "type": "float"
        },
        {
         "name": "Porcentaje_Acumulado",
         "rawType": "float64",
         "type": "float"
        },
        {
         "name": "Clasificacion_ABC",
         "rawType": "object",
         "type": "string"
        },
        {
         "name": "Segmento_Rentabilidad",
         "rawType": "object",
         "type": "string"
        }
       ],
       "ref": "471078aa-e30a-430b-9ba0-703a475d19f3",
       "rows": [
        [
         "2762",
         "6166",
         "CASA NOBLE X ANEJO C SANTANA",
         "0.0",
         "4.0",
         "5.0",
         "1",
         "0",
         "0",
         "0",
         "0",
         "399.99",
         "300.74",
         "1",
         "99.25",
         "99.25",
         "6.900624159042573e-07",
         "0.9995450938906817",
         "C",
         "Prescindible"
        ],
        [
         "5438",
         "19060",
         "CHATEAU DALEM 10 FRONSAC",
         "9.0",
         "0.0",
         "0.0",
         "9",
         "1",
         "0",
         "0",
         "1",
         "34.99",
         "23.97",
         "2",
         "11.020000000000003",
         "99.18000000000004",
         "6.895757220089095e-07",
         "0.9995457834664037",
         "C",
         "Prescindible"
        ],
        [
         "6141",
         "21026",
         "ROTARI TRENTO BRUT",
         "7.0",
         "0.0",
         "0.0",
         "7",
         "1",
         "0",
         "0",
         "1",
         "18.99",
         "4.9",
         "2",
         "14.089999999999998",
         "98.62999999999998",
         "6.857516985454598e-07",
         "0.9995478446845781",
         "C",
         "Prescindible"
        ],
        [
         "8780",
         "27267",
         "KRUPPS THE WATER WITCH RED",
         "0.0",
         "32.0",
         "36.0",
         "4",
         "0",
         "0",
         "0",
         "0",
         "70.99",
         "46.7",
         "2",
         "24.289999999999992",
         "97.15999999999997",
         "6.755311267431498e-07",
         "0.9995553127242914",
         "C",
         "Prescindible"
        ],
        [
         "6769",
         "22664",
         "B & G SANCERRE SVGN BL",
         "0.0",
         "3.0",
         "12.0",
         "9",
         "1",
         "0",
         "0",
         "1",
         "27.99",
         "17.21",
         "2",
         "10.779999999999998",
         "97.01999999999998",
         "6.745577389524537e-07",
         "0.9995559872820304",
         "C",
         "Prescindible"
        ]
       ],
       "shape": {
        "columns": 19,
        "rows": 5
       }
      },
      "text/html": [
       "<div>\n",
       "<style scoped>\n",
       "    .dataframe tbody tr th:only-of-type {\n",
       "        vertical-align: middle;\n",
       "    }\n",
       "\n",
       "    .dataframe tbody tr th {\n",
       "        vertical-align: top;\n",
       "    }\n",
       "\n",
       "    .dataframe thead th {\n",
       "        text-align: right;\n",
       "    }\n",
       "</style>\n",
       "<table border=\"1\" class=\"dataframe\">\n",
       "  <thead>\n",
       "    <tr style=\"text-align: right;\">\n",
       "      <th></th>\n",
       "      <th>Producto_ID</th>\n",
       "      <th>Nombre_Producto</th>\n",
       "      <th>Existencia_Inicial</th>\n",
       "      <th>Existencia_Final</th>\n",
       "      <th>Compras_Año</th>\n",
       "      <th>Demanda_Estimada</th>\n",
       "      <th>Demanda_Mensual_Promedio</th>\n",
       "      <th>Desviacion_Estandar</th>\n",
       "      <th>Stock_Seguridad</th>\n",
       "      <th>Stock_Optimo_Mensual</th>\n",
       "      <th>Precio_Venta</th>\n",
       "      <th>Costo_Unitario</th>\n",
       "      <th>Clasificacion</th>\n",
       "      <th>Utilidad_Unit</th>\n",
       "      <th>Utilidad_Total</th>\n",
       "      <th>Porcentaje_Utilidad</th>\n",
       "      <th>Porcentaje_Acumulado</th>\n",
       "      <th>Clasificacion_ABC</th>\n",
       "      <th>Segmento_Rentabilidad</th>\n",
       "    </tr>\n",
       "  </thead>\n",
       "  <tbody>\n",
       "    <tr>\n",
       "      <th>2762</th>\n",
       "      <td>6166</td>\n",
       "      <td>CASA NOBLE X ANEJO C SANTANA</td>\n",
       "      <td>0.0</td>\n",
       "      <td>4.0</td>\n",
       "      <td>5.0</td>\n",
       "      <td>1</td>\n",
       "      <td>0</td>\n",
       "      <td>0</td>\n",
       "      <td>0</td>\n",
       "      <td>0</td>\n",
       "      <td>399.99</td>\n",
       "      <td>300.74</td>\n",
       "      <td>1</td>\n",
       "      <td>99.25</td>\n",
       "      <td>99.25</td>\n",
       "      <td>6.900624e-07</td>\n",
       "      <td>0.999545</td>\n",
       "      <td>C</td>\n",
       "      <td>Prescindible</td>\n",
       "    </tr>\n",
       "    <tr>\n",
       "      <th>5438</th>\n",
       "      <td>19060</td>\n",
       "      <td>CHATEAU DALEM 10 FRONSAC</td>\n",
       "      <td>9.0</td>\n",
       "      <td>0.0</td>\n",
       "      <td>0.0</td>\n",
       "      <td>9</td>\n",
       "      <td>1</td>\n",
       "      <td>0</td>\n",
       "      <td>0</td>\n",
       "      <td>1</td>\n",
       "      <td>34.99</td>\n",
       "      <td>23.97</td>\n",
       "      <td>2</td>\n",
       "      <td>11.02</td>\n",
       "      <td>99.18</td>\n",
       "      <td>6.895757e-07</td>\n",
       "      <td>0.999546</td>\n",
       "      <td>C</td>\n",
       "      <td>Prescindible</td>\n",
       "    </tr>\n",
       "    <tr>\n",
       "      <th>6141</th>\n",
       "      <td>21026</td>\n",
       "      <td>ROTARI TRENTO BRUT</td>\n",
       "      <td>7.0</td>\n",
       "      <td>0.0</td>\n",
       "      <td>0.0</td>\n",
       "      <td>7</td>\n",
       "      <td>1</td>\n",
       "      <td>0</td>\n",
       "      <td>0</td>\n",
       "      <td>1</td>\n",
       "      <td>18.99</td>\n",
       "      <td>4.90</td>\n",
       "      <td>2</td>\n",
       "      <td>14.09</td>\n",
       "      <td>98.63</td>\n",
       "      <td>6.857517e-07</td>\n",
       "      <td>0.999548</td>\n",
       "      <td>C</td>\n",
       "      <td>Prescindible</td>\n",
       "    </tr>\n",
       "    <tr>\n",
       "      <th>8780</th>\n",
       "      <td>27267</td>\n",
       "      <td>KRUPPS THE WATER WITCH RED</td>\n",
       "      <td>0.0</td>\n",
       "      <td>32.0</td>\n",
       "      <td>36.0</td>\n",
       "      <td>4</td>\n",
       "      <td>0</td>\n",
       "      <td>0</td>\n",
       "      <td>0</td>\n",
       "      <td>0</td>\n",
       "      <td>70.99</td>\n",
       "      <td>46.70</td>\n",
       "      <td>2</td>\n",
       "      <td>24.29</td>\n",
       "      <td>97.16</td>\n",
       "      <td>6.755311e-07</td>\n",
       "      <td>0.999555</td>\n",
       "      <td>C</td>\n",
       "      <td>Prescindible</td>\n",
       "    </tr>\n",
       "    <tr>\n",
       "      <th>6769</th>\n",
       "      <td>22664</td>\n",
       "      <td>B &amp; G SANCERRE SVGN BL</td>\n",
       "      <td>0.0</td>\n",
       "      <td>3.0</td>\n",
       "      <td>12.0</td>\n",
       "      <td>9</td>\n",
       "      <td>1</td>\n",
       "      <td>0</td>\n",
       "      <td>0</td>\n",
       "      <td>1</td>\n",
       "      <td>27.99</td>\n",
       "      <td>17.21</td>\n",
       "      <td>2</td>\n",
       "      <td>10.78</td>\n",
       "      <td>97.02</td>\n",
       "      <td>6.745577e-07</td>\n",
       "      <td>0.999556</td>\n",
       "      <td>C</td>\n",
       "      <td>Prescindible</td>\n",
       "    </tr>\n",
       "  </tbody>\n",
       "</table>\n",
       "</div>"
      ],
      "text/plain": [
       "      Producto_ID               Nombre_Producto  Existencia_Inicial  \\\n",
       "2762         6166  CASA NOBLE X ANEJO C SANTANA                 0.0   \n",
       "5438        19060      CHATEAU DALEM 10 FRONSAC                 9.0   \n",
       "6141        21026            ROTARI TRENTO BRUT                 7.0   \n",
       "8780        27267    KRUPPS THE WATER WITCH RED                 0.0   \n",
       "6769        22664        B & G SANCERRE SVGN BL                 0.0   \n",
       "\n",
       "      Existencia_Final  Compras_Año  Demanda_Estimada  \\\n",
       "2762               4.0          5.0                 1   \n",
       "5438               0.0          0.0                 9   \n",
       "6141               0.0          0.0                 7   \n",
       "8780              32.0         36.0                 4   \n",
       "6769               3.0         12.0                 9   \n",
       "\n",
       "      Demanda_Mensual_Promedio  Desviacion_Estandar  Stock_Seguridad  \\\n",
       "2762                         0                    0                0   \n",
       "5438                         1                    0                0   \n",
       "6141                         1                    0                0   \n",
       "8780                         0                    0                0   \n",
       "6769                         1                    0                0   \n",
       "\n",
       "      Stock_Optimo_Mensual  Precio_Venta  Costo_Unitario  Clasificacion  \\\n",
       "2762                     0        399.99          300.74              1   \n",
       "5438                     1         34.99           23.97              2   \n",
       "6141                     1         18.99            4.90              2   \n",
       "8780                     0         70.99           46.70              2   \n",
       "6769                     1         27.99           17.21              2   \n",
       "\n",
       "      Utilidad_Unit  Utilidad_Total  Porcentaje_Utilidad  \\\n",
       "2762          99.25           99.25         6.900624e-07   \n",
       "5438          11.02           99.18         6.895757e-07   \n",
       "6141          14.09           98.63         6.857517e-07   \n",
       "8780          24.29           97.16         6.755311e-07   \n",
       "6769          10.78           97.02         6.745577e-07   \n",
       "\n",
       "      Porcentaje_Acumulado Clasificacion_ABC Segmento_Rentabilidad  \n",
       "2762              0.999545                 C          Prescindible  \n",
       "5438              0.999546                 C          Prescindible  \n",
       "6141              0.999548                 C          Prescindible  \n",
       "8780              0.999555                 C          Prescindible  \n",
       "6769              0.999556                 C          Prescindible  "
      ]
     },
     "execution_count": 39,
     "metadata": {},
     "output_type": "execute_result"
    }
   ],
   "source": [
    "# Opción más amplia: utilidad baja y demanda baja (independientemente del segmento)\n",
    "productos_baja_rentabilidad = resumen_enriquecido[\n",
    "    (resumen_enriquecido['Demanda_Estimada'] < 10) &\n",
    "    (resumen_enriquecido['Utilidad_Total'] < 100)\n",
    "]\n",
    "productos_baja_rentabilidad.head()"
   ]
  },
  {
   "cell_type": "markdown",
   "id": "27f12bde",
   "metadata": {},
   "source": [
    "## Calculo de  tiempo de entrega y Punto de Reorden (ROP)"
   ]
  },
  {
   "cell_type": "code",
   "execution_count": 40,
   "id": "153fb689",
   "metadata": {},
   "outputs": [],
   "source": [
    "# Asegúrate de tener las fechas en formato datetime\n",
    "dt_detalles['Fecha_Compra'] = pd.to_datetime(dt_detalles['Fecha_Compra'], errors='coerce')\n",
    "dt_detalles['Fecha_Ingreso'] = pd.to_datetime(dt_detalles['Fecha_Ingreso'], errors='coerce')\n",
    "\n",
    "# Calcular Lead Time (días entre compra e ingreso)\n",
    "dt_detalles['Lead_Time'] = (dt_detalles['Fecha_Ingreso'] - dt_detalles['Fecha_Compra']).dt.days\n",
    "\n",
    "# Lead time promedio por producto\n",
    "leadtime_promedio = dt_detalles.groupby('Producto_ID')['Lead_Time'].mean().reset_index()\n",
    "leadtime_promedio.rename(columns={'Lead_Time': 'LeadTime_Promedio_Dias'}, inplace=True)\n",
    "\n",
    "# 🔄 Resetear índice si fuera necesario\n",
    "resumen_enriquecido = resumen_enriquecido.reset_index()\n",
    "\n",
    "# Unir al resumen enriquecido\n",
    "resumen_enriquecido = resumen_enriquecido.merge(leadtime_promedio, on='Producto_ID', how='left')\n",
    "\n",
    "# Convertimos el lead time a meses\n",
    "resumen_enriquecido['LeadTime_Meses'] = resumen_enriquecido['LeadTime_Promedio_Dias'] / 30\n",
    "\n",
    "# Calculamos el ROP mensual\n",
    "resumen_enriquecido['ROP'] = (\n",
    "    resumen_enriquecido['Demanda_Mensual_Promedio'] * resumen_enriquecido['LeadTime_Meses']\n",
    ") + resumen_enriquecido['Stock_Seguridad']\n",
    "\n",
    "# Redondeamos\n",
    "resumen_enriquecido['ROP'] = resumen_enriquecido['ROP'].round().fillna(0).astype(int)\n",
    "\n"
   ]
  },
  {
   "cell_type": "code",
   "execution_count": 41,
   "id": "385fbe09",
   "metadata": {},
   "outputs": [
    {
     "data": {
      "application/vnd.microsoft.datawrangler.viewer.v0+json": {
       "columns": [
        {
         "name": "index",
         "rawType": "int64",
         "type": "integer"
        },
        {
         "name": "index",
         "rawType": "int64",
         "type": "integer"
        },
        {
         "name": "Producto_ID",
         "rawType": "int64",
         "type": "integer"
        },
        {
         "name": "Nombre_Producto",
         "rawType": "object",
         "type": "string"
        },
        {
         "name": "Existencia_Inicial",
         "rawType": "float64",
         "type": "float"
        },
        {
         "name": "Existencia_Final",
         "rawType": "float64",
         "type": "float"
        },
        {
         "name": "Compras_Año",
         "rawType": "float64",
         "type": "float"
        },
        {
         "name": "Demanda_Estimada",
         "rawType": "int64",
         "type": "integer"
        },
        {
         "name": "Demanda_Mensual_Promedio",
         "rawType": "int64",
         "type": "integer"
        },
        {
         "name": "Desviacion_Estandar",
         "rawType": "int64",
         "type": "integer"
        },
        {
         "name": "Stock_Seguridad",
         "rawType": "int64",
         "type": "integer"
        },
        {
         "name": "Stock_Optimo_Mensual",
         "rawType": "int64",
         "type": "integer"
        },
        {
         "name": "Precio_Venta",
         "rawType": "float64",
         "type": "float"
        },
        {
         "name": "Costo_Unitario",
         "rawType": "float64",
         "type": "float"
        },
        {
         "name": "Clasificacion",
         "rawType": "int64",
         "type": "integer"
        },
        {
         "name": "Utilidad_Unit",
         "rawType": "float64",
         "type": "float"
        },
        {
         "name": "Utilidad_Total",
         "rawType": "float64",
         "type": "float"
        },
        {
         "name": "Porcentaje_Utilidad",
         "rawType": "float64",
         "type": "float"
        },
        {
         "name": "Porcentaje_Acumulado",
         "rawType": "float64",
         "type": "float"
        },
        {
         "name": "Clasificacion_ABC",
         "rawType": "object",
         "type": "string"
        },
        {
         "name": "Segmento_Rentabilidad",
         "rawType": "object",
         "type": "string"
        },
        {
         "name": "LeadTime_Promedio_Dias",
         "rawType": "float64",
         "type": "float"
        },
        {
         "name": "LeadTime_Meses",
         "rawType": "float64",
         "type": "float"
        },
        {
         "name": "ROP",
         "rawType": "int64",
         "type": "integer"
        }
       ],
       "ref": "0597be4b-2cdc-44a2-bb6e-dbf61601f137",
       "rows": [
        [
         "0",
         "570",
         "1233",
         "JACK DANIELS NO 7 BLACK",
         "12016.0",
         "15047.0",
         "145080.0",
         "142049",
         "11837",
         "2959",
         "4883",
         "16720",
         "36.99",
         "26.27",
         "1",
         "10.720000000000002",
         "1522765.2800000003",
         "0.010587436654628947",
         "0.010587436654628947",
         "A",
         "Estrella",
         "7.442588092345079",
         "0.24808626974483597",
         "7820"
        ],
        [
         "1",
         "2143",
         "4261",
         "CAPT MORGAN SPICED RUM",
         "15499.0",
         "16769.0",
         "201682.0",
         "200412",
         "16701",
         "4175",
         "6889",
         "23590",
         "22.99",
         "16.17",
         "1",
         "6.819999999999997",
         "1366809.8399999994",
         "0.009503114360424291",
         "0.020090551015053238",
         "A",
         "Estrella",
         "7.343519338647771",
         "0.2447839779549257",
         "10977"
        ],
        [
         "2",
         "3181",
         "8068",
         "ABSOLUT 80 PROOF",
         "15341.0",
         "15608.0",
         "187407.0",
         "187140",
         "15595",
         "3899",
         "6433",
         "22028",
         "24.99",
         "18.24",
         "1",
         "6.75",
         "1263195.0",
         "0.008782704216203308",
         "0.028873255231256546",
         "A",
         "Estrella",
         "7.385106672102188",
         "0.24617022240340625",
         "10272"
        ],
        [
         "3",
         "1719",
         "3545",
         "KETEL ONE VODKA",
         "14499.0",
         "16770.0",
         "138109.0",
         "135838",
         "11320",
         "2830",
         "4669",
         "15989",
         "29.99",
         "21.89",
         "1",
         "8.099999999999998",
         "1100287.7999999998",
         "0.007650047934085442",
         "0.03652330316534199",
         "A",
         "Estrella",
         "7.364685425229212",
         "0.2454895141743071",
         "7448"
        ],
        [
         "4",
         "1632",
         "3405",
         "TITO'S HANDMADE VODKA",
         "8477.0",
         "12268.0",
         "164038.0",
         "160247",
         "13354",
         "3338",
         "5508",
         "18862",
         "28.99",
         "23.19",
         "1",
         "5.799999999999997",
         "929432.5999999995",
         "0.006462131036535767",
         "0.042985434201877754",
         "A",
         "Estrella",
         "7.557792806640024",
         "0.2519264268880008",
         "8872"
        ]
       ],
       "shape": {
        "columns": 23,
        "rows": 5
       }
      },
      "text/html": [
       "<div>\n",
       "<style scoped>\n",
       "    .dataframe tbody tr th:only-of-type {\n",
       "        vertical-align: middle;\n",
       "    }\n",
       "\n",
       "    .dataframe tbody tr th {\n",
       "        vertical-align: top;\n",
       "    }\n",
       "\n",
       "    .dataframe thead th {\n",
       "        text-align: right;\n",
       "    }\n",
       "</style>\n",
       "<table border=\"1\" class=\"dataframe\">\n",
       "  <thead>\n",
       "    <tr style=\"text-align: right;\">\n",
       "      <th></th>\n",
       "      <th>index</th>\n",
       "      <th>Producto_ID</th>\n",
       "      <th>Nombre_Producto</th>\n",
       "      <th>Existencia_Inicial</th>\n",
       "      <th>Existencia_Final</th>\n",
       "      <th>Compras_Año</th>\n",
       "      <th>Demanda_Estimada</th>\n",
       "      <th>Demanda_Mensual_Promedio</th>\n",
       "      <th>Desviacion_Estandar</th>\n",
       "      <th>Stock_Seguridad</th>\n",
       "      <th>...</th>\n",
       "      <th>Clasificacion</th>\n",
       "      <th>Utilidad_Unit</th>\n",
       "      <th>Utilidad_Total</th>\n",
       "      <th>Porcentaje_Utilidad</th>\n",
       "      <th>Porcentaje_Acumulado</th>\n",
       "      <th>Clasificacion_ABC</th>\n",
       "      <th>Segmento_Rentabilidad</th>\n",
       "      <th>LeadTime_Promedio_Dias</th>\n",
       "      <th>LeadTime_Meses</th>\n",
       "      <th>ROP</th>\n",
       "    </tr>\n",
       "  </thead>\n",
       "  <tbody>\n",
       "    <tr>\n",
       "      <th>0</th>\n",
       "      <td>570</td>\n",
       "      <td>1233</td>\n",
       "      <td>JACK DANIELS NO 7 BLACK</td>\n",
       "      <td>12016.0</td>\n",
       "      <td>15047.0</td>\n",
       "      <td>145080.0</td>\n",
       "      <td>142049</td>\n",
       "      <td>11837</td>\n",
       "      <td>2959</td>\n",
       "      <td>4883</td>\n",
       "      <td>...</td>\n",
       "      <td>1</td>\n",
       "      <td>10.72</td>\n",
       "      <td>1522765.28</td>\n",
       "      <td>0.010587</td>\n",
       "      <td>0.010587</td>\n",
       "      <td>A</td>\n",
       "      <td>Estrella</td>\n",
       "      <td>7.442588</td>\n",
       "      <td>0.248086</td>\n",
       "      <td>7820</td>\n",
       "    </tr>\n",
       "    <tr>\n",
       "      <th>1</th>\n",
       "      <td>2143</td>\n",
       "      <td>4261</td>\n",
       "      <td>CAPT MORGAN SPICED RUM</td>\n",
       "      <td>15499.0</td>\n",
       "      <td>16769.0</td>\n",
       "      <td>201682.0</td>\n",
       "      <td>200412</td>\n",
       "      <td>16701</td>\n",
       "      <td>4175</td>\n",
       "      <td>6889</td>\n",
       "      <td>...</td>\n",
       "      <td>1</td>\n",
       "      <td>6.82</td>\n",
       "      <td>1366809.84</td>\n",
       "      <td>0.009503</td>\n",
       "      <td>0.020091</td>\n",
       "      <td>A</td>\n",
       "      <td>Estrella</td>\n",
       "      <td>7.343519</td>\n",
       "      <td>0.244784</td>\n",
       "      <td>10977</td>\n",
       "    </tr>\n",
       "    <tr>\n",
       "      <th>2</th>\n",
       "      <td>3181</td>\n",
       "      <td>8068</td>\n",
       "      <td>ABSOLUT 80 PROOF</td>\n",
       "      <td>15341.0</td>\n",
       "      <td>15608.0</td>\n",
       "      <td>187407.0</td>\n",
       "      <td>187140</td>\n",
       "      <td>15595</td>\n",
       "      <td>3899</td>\n",
       "      <td>6433</td>\n",
       "      <td>...</td>\n",
       "      <td>1</td>\n",
       "      <td>6.75</td>\n",
       "      <td>1263195.00</td>\n",
       "      <td>0.008783</td>\n",
       "      <td>0.028873</td>\n",
       "      <td>A</td>\n",
       "      <td>Estrella</td>\n",
       "      <td>7.385107</td>\n",
       "      <td>0.246170</td>\n",
       "      <td>10272</td>\n",
       "    </tr>\n",
       "    <tr>\n",
       "      <th>3</th>\n",
       "      <td>1719</td>\n",
       "      <td>3545</td>\n",
       "      <td>KETEL ONE VODKA</td>\n",
       "      <td>14499.0</td>\n",
       "      <td>16770.0</td>\n",
       "      <td>138109.0</td>\n",
       "      <td>135838</td>\n",
       "      <td>11320</td>\n",
       "      <td>2830</td>\n",
       "      <td>4669</td>\n",
       "      <td>...</td>\n",
       "      <td>1</td>\n",
       "      <td>8.10</td>\n",
       "      <td>1100287.80</td>\n",
       "      <td>0.007650</td>\n",
       "      <td>0.036523</td>\n",
       "      <td>A</td>\n",
       "      <td>Estrella</td>\n",
       "      <td>7.364685</td>\n",
       "      <td>0.245490</td>\n",
       "      <td>7448</td>\n",
       "    </tr>\n",
       "    <tr>\n",
       "      <th>4</th>\n",
       "      <td>1632</td>\n",
       "      <td>3405</td>\n",
       "      <td>TITO'S HANDMADE VODKA</td>\n",
       "      <td>8477.0</td>\n",
       "      <td>12268.0</td>\n",
       "      <td>164038.0</td>\n",
       "      <td>160247</td>\n",
       "      <td>13354</td>\n",
       "      <td>3338</td>\n",
       "      <td>5508</td>\n",
       "      <td>...</td>\n",
       "      <td>1</td>\n",
       "      <td>5.80</td>\n",
       "      <td>929432.60</td>\n",
       "      <td>0.006462</td>\n",
       "      <td>0.042985</td>\n",
       "      <td>A</td>\n",
       "      <td>Estrella</td>\n",
       "      <td>7.557793</td>\n",
       "      <td>0.251926</td>\n",
       "      <td>8872</td>\n",
       "    </tr>\n",
       "  </tbody>\n",
       "</table>\n",
       "<p>5 rows × 23 columns</p>\n",
       "</div>"
      ],
      "text/plain": [
       "   index  Producto_ID          Nombre_Producto  Existencia_Inicial  \\\n",
       "0    570         1233  JACK DANIELS NO 7 BLACK             12016.0   \n",
       "1   2143         4261   CAPT MORGAN SPICED RUM             15499.0   \n",
       "2   3181         8068         ABSOLUT 80 PROOF             15341.0   \n",
       "3   1719         3545          KETEL ONE VODKA             14499.0   \n",
       "4   1632         3405    TITO'S HANDMADE VODKA              8477.0   \n",
       "\n",
       "   Existencia_Final  Compras_Año  Demanda_Estimada  Demanda_Mensual_Promedio  \\\n",
       "0           15047.0     145080.0            142049                     11837   \n",
       "1           16769.0     201682.0            200412                     16701   \n",
       "2           15608.0     187407.0            187140                     15595   \n",
       "3           16770.0     138109.0            135838                     11320   \n",
       "4           12268.0     164038.0            160247                     13354   \n",
       "\n",
       "   Desviacion_Estandar  Stock_Seguridad  ...  Clasificacion  Utilidad_Unit  \\\n",
       "0                 2959             4883  ...              1          10.72   \n",
       "1                 4175             6889  ...              1           6.82   \n",
       "2                 3899             6433  ...              1           6.75   \n",
       "3                 2830             4669  ...              1           8.10   \n",
       "4                 3338             5508  ...              1           5.80   \n",
       "\n",
       "   Utilidad_Total  Porcentaje_Utilidad  Porcentaje_Acumulado  \\\n",
       "0      1522765.28             0.010587              0.010587   \n",
       "1      1366809.84             0.009503              0.020091   \n",
       "2      1263195.00             0.008783              0.028873   \n",
       "3      1100287.80             0.007650              0.036523   \n",
       "4       929432.60             0.006462              0.042985   \n",
       "\n",
       "   Clasificacion_ABC  Segmento_Rentabilidad  LeadTime_Promedio_Dias  \\\n",
       "0                  A               Estrella                7.442588   \n",
       "1                  A               Estrella                7.343519   \n",
       "2                  A               Estrella                7.385107   \n",
       "3                  A               Estrella                7.364685   \n",
       "4                  A               Estrella                7.557793   \n",
       "\n",
       "  LeadTime_Meses    ROP  \n",
       "0       0.248086   7820  \n",
       "1       0.244784  10977  \n",
       "2       0.246170  10272  \n",
       "3       0.245490   7448  \n",
       "4       0.251926   8872  \n",
       "\n",
       "[5 rows x 23 columns]"
      ]
     },
     "execution_count": 41,
     "metadata": {},
     "output_type": "execute_result"
    }
   ],
   "source": [
    "resumen_enriquecido.head()"
   ]
  },
  {
   "cell_type": "code",
   "execution_count": 42,
   "id": "a31fdcc2",
   "metadata": {},
   "outputs": [],
   "source": [
    "resumen_enriquecido.to_csv('resumen_inventario_final.csv', index=False)"
   ]
  }
 ],
 "metadata": {
  "kernelspec": {
   "display_name": "Python 3",
   "language": "python",
   "name": "python3"
  },
  "language_info": {
   "codemirror_mode": {
    "name": "ipython",
    "version": 3
   },
   "file_extension": ".py",
   "mimetype": "text/x-python",
   "name": "python",
   "nbconvert_exporter": "python",
   "pygments_lexer": "ipython3",
   "version": "3.13.1"
  }
 },
 "nbformat": 4,
 "nbformat_minor": 5
}
