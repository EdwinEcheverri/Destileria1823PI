{
 "cells": [
  {
   "cell_type": "code",
   "execution_count": 48,
   "id": "d8afde0f",
   "metadata": {},
   "outputs": [],
   "source": [
    "import pandas as pd\n",
    "import numpy as np\n"
   ]
  },
  {
   "cell_type": "code",
   "execution_count": 10,
   "id": "002a02f9",
   "metadata": {},
   "outputs": [],
   "source": [
    "def revisar_datos(df):\n",
    "    \"\"\"Revisa el total de filas y columnas, valores faltantes y duplicados.\"\"\"\n",
    "    print(\"\\n🔍 Revisión inicial de los datos:\")\n",
    "    print(f\"Forma del DataFrame (filas, columnas): {df.shape}\")\n",
    "    print(\"\\nValores faltantes por columna:\\n\", df.isnull().sum())\n",
    "    \n",
    "    duplicados = df.duplicated().sum()\n",
    "    print(f\"\\nTotal de filas duplicadas: {duplicados}\")"
   ]
  },
  {
   "cell_type": "code",
   "execution_count": 11,
   "id": "9ed3d1d0",
   "metadata": {},
   "outputs": [],
   "source": [
    "def limpiar_datos(df):\n",
    "    \"\"\"Limpia los datos eliminando valores nulos y 'unknown' en Size y Volume.\"\"\"\n",
    "    \n",
    "    # Eliminar filas con valores nulos\n",
    "    df = df.dropna()\n",
    "    \n",
    "    # Filtrar filas con \"unknown\" en Size o Volume\n",
    "    unknown_mask = df[\"Size\"].str.contains(\"unknown\", case=False, na=False) | \\\n",
    "                   df[\"Volume\"].astype(str).str.contains(\"unknown\", case=False, na=False)\n",
    "    \n",
    "    df_clean = df[~unknown_mask]\n",
    "    \n",
    "    print(f\"\\nDatos después de limpieza: {df_clean.shape}\")\n",
    "    return df_clean"
   ]
  },
  {
   "cell_type": "markdown",
   "id": "c353c698",
   "metadata": {},
   "source": [
    "## Tabla productos"
   ]
  },
  {
   "cell_type": "code",
   "execution_count": 53,
   "id": "dc9871ed",
   "metadata": {},
   "outputs": [],
   "source": [
    "productos=pd.read_csv('D:\\DATOS\\Desktop\\data base\\PurchasePricesDec.csv',sep=',')"
   ]
  },
  {
   "cell_type": "code",
   "execution_count": 54,
   "id": "961ad30c",
   "metadata": {},
   "outputs": [
    {
     "data": {
      "application/vnd.microsoft.datawrangler.viewer.v0+json": {
       "columns": [
        {
         "name": "index",
         "rawType": "int64",
         "type": "integer"
        },
        {
         "name": "Brand",
         "rawType": "int64",
         "type": "integer"
        },
        {
         "name": "Description",
         "rawType": "object",
         "type": "string"
        },
        {
         "name": "Price",
         "rawType": "float64",
         "type": "float"
        },
        {
         "name": "Size",
         "rawType": "object",
         "type": "string"
        },
        {
         "name": "Volume",
         "rawType": "object",
         "type": "string"
        },
        {
         "name": "Classification",
         "rawType": "int64",
         "type": "integer"
        },
        {
         "name": "PurchasePrice",
         "rawType": "float64",
         "type": "float"
        },
        {
         "name": "VendorNumber",
         "rawType": "int64",
         "type": "integer"
        },
        {
         "name": "VendorName",
         "rawType": "object",
         "type": "string"
        }
       ],
       "ref": "3a2ff317-6359-40ca-a141-583c2ff7def8",
       "rows": [
        [
         "12256",
         "44917",
         "Ferreira 10-Yr Tawny Port",
         "24.99",
         "750mL",
         "750",
         "2",
         "16.55",
         "90024",
         "VINILANDIA USA             "
        ],
        [
         "12257",
         "44944",
         "Sanford Santa Rita Pnt Nr",
         "22.99",
         "750mL",
         "750",
         "2",
         "14.93",
         "4425",
         "MARTIGNETTI COMPANIES"
        ],
        [
         "12258",
         "45016",
         "Neal One Lane Bridg Cab Svgn",
         "93.99",
         "750mL",
         "750",
         "2",
         "61.43",
         "10754",
         "PERFECTA WINES             "
        ],
        [
         "12259",
         "46011",
         "Folonari Pnt Nr Venezie",
         "12.99",
         "1500ml",
         "1500",
         "2",
         "8.9",
         "9744",
         "FREDERICK WILDMAN & SONS   "
        ],
        [
         "12260",
         "46964",
         "Calera Viognier Mt Harlan",
         "35.99",
         "750mL",
         "750",
         "2",
         "24.32",
         "10754",
         "PERFECTA WINES             "
        ]
       ],
       "shape": {
        "columns": 9,
        "rows": 5
       }
      },
      "text/html": [
       "<div>\n",
       "<style scoped>\n",
       "    .dataframe tbody tr th:only-of-type {\n",
       "        vertical-align: middle;\n",
       "    }\n",
       "\n",
       "    .dataframe tbody tr th {\n",
       "        vertical-align: top;\n",
       "    }\n",
       "\n",
       "    .dataframe thead th {\n",
       "        text-align: right;\n",
       "    }\n",
       "</style>\n",
       "<table border=\"1\" class=\"dataframe\">\n",
       "  <thead>\n",
       "    <tr style=\"text-align: right;\">\n",
       "      <th></th>\n",
       "      <th>Brand</th>\n",
       "      <th>Description</th>\n",
       "      <th>Price</th>\n",
       "      <th>Size</th>\n",
       "      <th>Volume</th>\n",
       "      <th>Classification</th>\n",
       "      <th>PurchasePrice</th>\n",
       "      <th>VendorNumber</th>\n",
       "      <th>VendorName</th>\n",
       "    </tr>\n",
       "  </thead>\n",
       "  <tbody>\n",
       "    <tr>\n",
       "      <th>12256</th>\n",
       "      <td>44917</td>\n",
       "      <td>Ferreira 10-Yr Tawny Port</td>\n",
       "      <td>24.99</td>\n",
       "      <td>750mL</td>\n",
       "      <td>750</td>\n",
       "      <td>2</td>\n",
       "      <td>16.55</td>\n",
       "      <td>90024</td>\n",
       "      <td>VINILANDIA USA</td>\n",
       "    </tr>\n",
       "    <tr>\n",
       "      <th>12257</th>\n",
       "      <td>44944</td>\n",
       "      <td>Sanford Santa Rita Pnt Nr</td>\n",
       "      <td>22.99</td>\n",
       "      <td>750mL</td>\n",
       "      <td>750</td>\n",
       "      <td>2</td>\n",
       "      <td>14.93</td>\n",
       "      <td>4425</td>\n",
       "      <td>MARTIGNETTI COMPANIES</td>\n",
       "    </tr>\n",
       "    <tr>\n",
       "      <th>12258</th>\n",
       "      <td>45016</td>\n",
       "      <td>Neal One Lane Bridg Cab Svgn</td>\n",
       "      <td>93.99</td>\n",
       "      <td>750mL</td>\n",
       "      <td>750</td>\n",
       "      <td>2</td>\n",
       "      <td>61.43</td>\n",
       "      <td>10754</td>\n",
       "      <td>PERFECTA WINES</td>\n",
       "    </tr>\n",
       "    <tr>\n",
       "      <th>12259</th>\n",
       "      <td>46011</td>\n",
       "      <td>Folonari Pnt Nr Venezie</td>\n",
       "      <td>12.99</td>\n",
       "      <td>1500ml</td>\n",
       "      <td>1500</td>\n",
       "      <td>2</td>\n",
       "      <td>8.90</td>\n",
       "      <td>9744</td>\n",
       "      <td>FREDERICK WILDMAN &amp; SONS</td>\n",
       "    </tr>\n",
       "    <tr>\n",
       "      <th>12260</th>\n",
       "      <td>46964</td>\n",
       "      <td>Calera Viognier Mt Harlan</td>\n",
       "      <td>35.99</td>\n",
       "      <td>750mL</td>\n",
       "      <td>750</td>\n",
       "      <td>2</td>\n",
       "      <td>24.32</td>\n",
       "      <td>10754</td>\n",
       "      <td>PERFECTA WINES</td>\n",
       "    </tr>\n",
       "  </tbody>\n",
       "</table>\n",
       "</div>"
      ],
      "text/plain": [
       "       Brand                   Description  Price    Size Volume  \\\n",
       "12256  44917     Ferreira 10-Yr Tawny Port  24.99   750mL    750   \n",
       "12257  44944     Sanford Santa Rita Pnt Nr  22.99   750mL    750   \n",
       "12258  45016  Neal One Lane Bridg Cab Svgn  93.99   750mL    750   \n",
       "12259  46011       Folonari Pnt Nr Venezie  12.99  1500ml   1500   \n",
       "12260  46964     Calera Viognier Mt Harlan  35.99   750mL    750   \n",
       "\n",
       "       Classification  PurchasePrice  VendorNumber  \\\n",
       "12256               2          16.55         90024   \n",
       "12257               2          14.93          4425   \n",
       "12258               2          61.43         10754   \n",
       "12259               2           8.90          9744   \n",
       "12260               2          24.32         10754   \n",
       "\n",
       "                        VendorName  \n",
       "12256  VINILANDIA USA               \n",
       "12257        MARTIGNETTI COMPANIES  \n",
       "12258  PERFECTA WINES               \n",
       "12259  FREDERICK WILDMAN & SONS     \n",
       "12260  PERFECTA WINES               "
      ]
     },
     "execution_count": 54,
     "metadata": {},
     "output_type": "execute_result"
    }
   ],
   "source": [
    "productos.tail()"
   ]
  },
  {
   "cell_type": "code",
   "execution_count": 55,
   "id": "a0e4990a",
   "metadata": {},
   "outputs": [
    {
     "name": "stdout",
     "output_type": "stream",
     "text": [
      "\n",
      "🔍 Revisión inicial de los datos:\n",
      "Forma del DataFrame (filas, columnas): (12261, 9)\n",
      "\n",
      "Valores faltantes por columna:\n",
      " Brand             0\n",
      "Description       1\n",
      "Price             0\n",
      "Size              1\n",
      "Volume            1\n",
      "Classification    0\n",
      "PurchasePrice     0\n",
      "VendorNumber      0\n",
      "VendorName        0\n",
      "dtype: int64\n",
      "\n",
      "Total de filas duplicadas: 0\n"
     ]
    }
   ],
   "source": [
    "revisar_datos(productos)"
   ]
  },
  {
   "cell_type": "code",
   "execution_count": 56,
   "id": "2fe47aa8",
   "metadata": {},
   "outputs": [
    {
     "name": "stdout",
     "output_type": "stream",
     "text": [
      "\n",
      "Datos después de limpieza: (12256, 9)\n"
     ]
    },
    {
     "data": {
      "application/vnd.microsoft.datawrangler.viewer.v0+json": {
       "columns": [
        {
         "name": "index",
         "rawType": "int64",
         "type": "integer"
        },
        {
         "name": "Brand",
         "rawType": "int64",
         "type": "integer"
        },
        {
         "name": "Description",
         "rawType": "object",
         "type": "string"
        },
        {
         "name": "Price",
         "rawType": "float64",
         "type": "float"
        },
        {
         "name": "Size",
         "rawType": "object",
         "type": "string"
        },
        {
         "name": "Volume",
         "rawType": "object",
         "type": "string"
        },
        {
         "name": "Classification",
         "rawType": "int64",
         "type": "integer"
        },
        {
         "name": "PurchasePrice",
         "rawType": "float64",
         "type": "float"
        },
        {
         "name": "VendorNumber",
         "rawType": "int64",
         "type": "integer"
        },
        {
         "name": "VendorName",
         "rawType": "object",
         "type": "string"
        }
       ],
       "ref": "403c4e3f-946e-418d-bc32-746999aeb44b",
       "rows": [
        [
         "0",
         "58",
         "Gekkeikan Black & Gold Sake",
         "12.99",
         "750mL",
         "750",
         "1",
         "9.28",
         "8320",
         "SHAW ROSS INT L IMP LTD    "
        ],
        [
         "1",
         "62",
         "Herradura Silver Tequila",
         "36.99",
         "750mL",
         "750",
         "1",
         "28.67",
         "1128",
         "BROWN-FORMAN CORP          "
        ],
        [
         "2",
         "63",
         "Herradura Reposado Tequila",
         "38.99",
         "750mL",
         "750",
         "1",
         "30.46",
         "1128",
         "BROWN-FORMAN CORP          "
        ],
        [
         "3",
         "72",
         "No. 3 London Dry Gin",
         "34.99",
         "750mL",
         "750",
         "1",
         "26.11",
         "9165",
         "ULTRA BEVERAGE COMPANY LLP "
        ],
        [
         "4",
         "75",
         "Three Olives Tomato Vodka",
         "14.99",
         "750mL",
         "750",
         "1",
         "10.94",
         "7245",
         "PROXIMO SPIRITS INC.       "
        ],
        [
         "5",
         "77",
         "Three Olives Espresso Vodka",
         "12.99",
         "750mL",
         "750",
         "1",
         "10.39",
         "7245",
         "PROXIMO SPIRITS INC.       "
        ],
        [
         "6",
         "79",
         "Three Olives Loopy Vodka",
         "14.99",
         "750mL",
         "750",
         "1",
         "9.62",
         "7245",
         "PROXIMO SPIRITS INC.       "
        ],
        [
         "7",
         "115",
         "Belvedere Vodka",
         "27.99",
         "1000mL",
         "1000",
         "1",
         "21.37",
         "8112",
         "MOET HENNESSY USA INC      "
        ],
        [
         "8",
         "126",
         "Grey Goose Vodka",
         "32.99",
         "1000mL",
         "1000",
         "1",
         "20.14",
         "480",
         "BACARDI USA INC            "
        ],
        [
         "9",
         "168",
         "Three Olives Strawberry",
         "12.99",
         "750mL",
         "750",
         "1",
         "8.95",
         "7245",
         "PROXIMO SPIRITS INC.       "
        ],
        [
         "10",
         "171",
         "Gentleman Jack",
         "49.99",
         "1750mL",
         "1750",
         "1",
         "36.76",
         "1128",
         "BROWN-FORMAN CORP          "
        ],
        [
         "11",
         "173",
         "Hornitos Reposado VAP",
         "22.99",
         "750mL",
         "750",
         "1",
         "14.7",
         "12546",
         "JIM BEAM BRANDS COMPANY    "
        ],
        [
         "12",
         "175",
         "1800 Anejo Tequila",
         "36.99",
         "750mL",
         "750",
         "1",
         "26.8",
         "7245",
         "PROXIMO SPIRITS INC.       "
        ],
        [
         "13",
         "178",
         "Wild Turkey Russell's RSV",
         "29.99",
         "750mL",
         "750",
         "1",
         "20.76",
         "11567",
         "CAMPARI AMERICA            "
        ],
        [
         "14",
         "192",
         "Milagro Anejo Tequila",
         "35.99",
         "750mL",
         "750",
         "1",
         "27.68",
         "3664",
         "WILLIAM GRANT & SONS INC   "
        ],
        [
         "15",
         "211",
         "Cold River Gin",
         "24.99",
         "750mL",
         "750",
         "1",
         "19.83",
         "4425",
         "MARTIGNETTI COMPANIES"
        ],
        [
         "16",
         "229",
         "Sauza Gold VAP",
         "12.99",
         "750mL",
         "750",
         "1",
         "10.39",
         "12546",
         "JIM BEAM BRANDS COMPANY    "
        ],
        [
         "17",
         "233",
         "Tullamore Dew 12 Yr Old",
         "46.99",
         "750mL",
         "750",
         "1",
         "30.21",
         "3664",
         "WILLIAM GRANT & SONS INC   "
        ],
        [
         "18",
         "247",
         "Gran Patron Platinum Tequil",
         "199.99",
         "750mL",
         "750",
         "1",
         "156.24",
         "9165",
         "ULTRA BEVERAGE COMPANY LLP "
        ],
        [
         "19",
         "254",
         "DeKuyper Root Beer Schnapps",
         "10.99",
         "1000mL",
         "1000",
         "1",
         "8.79",
         "12546",
         "JIM BEAM BRANDS COMPANY    "
        ],
        [
         "20",
         "261",
         "Svedka Citron Vodka",
         "12.99",
         "1000mL",
         "1000",
         "1",
         "9.99",
         "1392",
         "CONSTELLATION BRANDS INC   "
        ],
        [
         "21",
         "273",
         "Sauza Extra Gold Tequila",
         "21.99",
         "1750mL",
         "1750",
         "1",
         "17.31",
         "12546",
         "JIM BEAM BRANDS COMPANY    "
        ],
        [
         "22",
         "283",
         "Milagro Tequila Reposado SBR",
         "61.99",
         "750mL",
         "750",
         "1",
         "39.69",
         "3664",
         "WILLIAM GRANT & SONS INC   "
        ],
        [
         "23",
         "284",
         "Milagro Tequila Anejo SBR",
         "77.99",
         "750mL",
         "750",
         "1",
         "53.43",
         "3664",
         "WILLIAM GRANT & SONS INC   "
        ],
        [
         "24",
         "294",
         "Old Mexico Gold Tequila",
         "8.49",
         "1000mL",
         "1000",
         "1",
         "6.79",
         "9552",
         "M S WALKER INC             "
        ],
        [
         "25",
         "305",
         "Crown Royal Canadian Whisky",
         "27.99",
         "1000mL",
         "1000",
         "1",
         "22.21",
         "3960",
         "DIAGEO NORTH AMERICA INC   "
        ],
        [
         "26",
         "323",
         "Tequila Rose Strawberry Gift",
         "13.99",
         "750mL",
         "750",
         "1",
         "10.6",
         "5992",
         "MCCORMICK DISTILLING CO    "
        ],
        [
         "27",
         "344",
         "Punt e Mes Sweet Vermouth",
         "19.99",
         "750mL",
         "750",
         "1",
         "15.74",
         "9165",
         "ULTRA BEVERAGE COMPANY LLP "
        ],
        [
         "28",
         "361",
         "Effen Cucumber Vodka",
         "19.99",
         "750mL",
         "750",
         "1",
         "14.28",
         "12546",
         "JIM BEAM BRANDS COMPANY    "
        ],
        [
         "29",
         "376",
         "Aperol Liqueur",
         "26.99",
         "750mL",
         "750",
         "1",
         "18.97",
         "11567",
         "CAMPARI AMERICA            "
        ],
        [
         "30",
         "384",
         "Ardbeg Corryvreckan Scotch",
         "74.99",
         "750mL",
         "750",
         "1",
         "54.68",
         "8112",
         "MOET HENNESSY USA INC      "
        ],
        [
         "31",
         "388",
         "Smirnoff 80 Proof",
         "14.49",
         "1000mL",
         "1000",
         "1",
         "11.41",
         "3960",
         "DIAGEO NORTH AMERICA INC   "
        ],
        [
         "32",
         "408",
         "Wild Turkey American Honey",
         "16.99",
         "750mL",
         "750",
         "1",
         "12.97",
         "11567",
         "CAMPARI AMERICA            "
        ],
        [
         "33",
         "415",
         "Jose Cuervo Especial",
         "20.99",
         "1000mL",
         "1000",
         "1",
         "13.04",
         "7245",
         "PROXIMO SPIRITS INC.       "
        ],
        [
         "34",
         "419",
         "Absolut Citron",
         "21.99",
         "1000mL",
         "1000",
         "1",
         "15.99",
         "17035",
         "PERNOD RICARD USA          "
        ],
        [
         "35",
         "425",
         "Hennessy Paradis",
         "799.99",
         "750mL",
         "750",
         "1",
         "620.15",
         "8112",
         "MOET HENNESSY USA INC      "
        ],
        [
         "36",
         "426",
         "Crystal Head Vodka",
         "7.99",
         "50mL",
         "50",
         "1",
         "6.29",
         "9165",
         "ULTRA BEVERAGE COMPANY LLP "
        ],
        [
         "37",
         "435",
         "Il Tramonto Limoncello",
         "17.99",
         "750mL",
         "750",
         "1",
         "12.79",
         "7153",
         "PINE STATE TRADING CO      "
        ],
        [
         "38",
         "438",
         "Licor 43 Vanilla Liqueur",
         "19.99",
         "750mL",
         "750",
         "1",
         "12.77",
         "4425",
         "MARTIGNETTI COMPANIES"
        ],
        [
         "39",
         "443",
         "St Germain Liqueur",
         "33.99",
         "750mL",
         "750",
         "1",
         "24.45",
         "480",
         "BACARDI USA INC            "
        ],
        [
         "40",
         "450",
         "Vincent Van Gogh Double Esp",
         "24.99",
         "750mL",
         "750",
         "1",
         "19.52",
         "4425",
         "MARTIGNETTI COMPANIES"
        ],
        [
         "41",
         "463",
         "Kirk & Sweeney 12Yr Old Rum",
         "33.99",
         "750mL",
         "750",
         "1",
         "24.63",
         "653",
         "STATE WINE & SPIRITS   "
        ],
        [
         "42",
         "482",
         "Absolut 80 Proof",
         "21.99",
         "1000mL",
         "1000",
         "1",
         "14.28",
         "17035",
         "PERNOD RICARD USA          "
        ],
        [
         "43",
         "485",
         "Seagrams 7 Crown",
         "12.99",
         "1000mL",
         "1000",
         "1",
         "10.39",
         "3960",
         "DIAGEO NORTH AMERICA INC   "
        ],
        [
         "44",
         "497",
         "Capt Morgan Spiced Rum",
         "19.99",
         "1000mL",
         "1000",
         "1",
         "14.7",
         "3960",
         "DIAGEO NORTH AMERICA INC   "
        ],
        [
         "45",
         "508",
         "Bacardi Superior Rum",
         "12.99",
         "1000mL",
         "1000",
         "1",
         "9.77",
         "480",
         "BACARDI USA INC            "
        ],
        [
         "46",
         "513",
         "Ocean Vodka",
         "28.99",
         "750mL",
         "750",
         "1",
         "23.01",
         "9165",
         "ULTRA BEVERAGE COMPANY LLP "
        ],
        [
         "47",
         "515",
         "Hirsch Selection Bourbon",
         "35.99",
         "750mL",
         "750",
         "1",
         "25.36",
         "9165",
         "ULTRA BEVERAGE COMPANY LLP "
        ],
        [
         "48",
         "525",
         "El Tesoro Anejo Gold Tequil",
         "39.99",
         "750mL",
         "750",
         "1",
         "31.0",
         "12546",
         "JIM BEAM BRANDS COMPANY    "
        ],
        [
         "49",
         "536",
         "Svedka Cherry Vodka",
         "12.99",
         "1000mL",
         "1000",
         "1",
         "9.92",
         "1392",
         "CONSTELLATION BRANDS INC   "
        ]
       ],
       "shape": {
        "columns": 9,
        "rows": 12256
       }
      },
      "text/html": [
       "<div>\n",
       "<style scoped>\n",
       "    .dataframe tbody tr th:only-of-type {\n",
       "        vertical-align: middle;\n",
       "    }\n",
       "\n",
       "    .dataframe tbody tr th {\n",
       "        vertical-align: top;\n",
       "    }\n",
       "\n",
       "    .dataframe thead th {\n",
       "        text-align: right;\n",
       "    }\n",
       "</style>\n",
       "<table border=\"1\" class=\"dataframe\">\n",
       "  <thead>\n",
       "    <tr style=\"text-align: right;\">\n",
       "      <th></th>\n",
       "      <th>Brand</th>\n",
       "      <th>Description</th>\n",
       "      <th>Price</th>\n",
       "      <th>Size</th>\n",
       "      <th>Volume</th>\n",
       "      <th>Classification</th>\n",
       "      <th>PurchasePrice</th>\n",
       "      <th>VendorNumber</th>\n",
       "      <th>VendorName</th>\n",
       "    </tr>\n",
       "  </thead>\n",
       "  <tbody>\n",
       "    <tr>\n",
       "      <th>0</th>\n",
       "      <td>58</td>\n",
       "      <td>Gekkeikan Black &amp; Gold Sake</td>\n",
       "      <td>12.99</td>\n",
       "      <td>750mL</td>\n",
       "      <td>750</td>\n",
       "      <td>1</td>\n",
       "      <td>9.28</td>\n",
       "      <td>8320</td>\n",
       "      <td>SHAW ROSS INT L IMP LTD</td>\n",
       "    </tr>\n",
       "    <tr>\n",
       "      <th>1</th>\n",
       "      <td>62</td>\n",
       "      <td>Herradura Silver Tequila</td>\n",
       "      <td>36.99</td>\n",
       "      <td>750mL</td>\n",
       "      <td>750</td>\n",
       "      <td>1</td>\n",
       "      <td>28.67</td>\n",
       "      <td>1128</td>\n",
       "      <td>BROWN-FORMAN CORP</td>\n",
       "    </tr>\n",
       "    <tr>\n",
       "      <th>2</th>\n",
       "      <td>63</td>\n",
       "      <td>Herradura Reposado Tequila</td>\n",
       "      <td>38.99</td>\n",
       "      <td>750mL</td>\n",
       "      <td>750</td>\n",
       "      <td>1</td>\n",
       "      <td>30.46</td>\n",
       "      <td>1128</td>\n",
       "      <td>BROWN-FORMAN CORP</td>\n",
       "    </tr>\n",
       "    <tr>\n",
       "      <th>3</th>\n",
       "      <td>72</td>\n",
       "      <td>No. 3 London Dry Gin</td>\n",
       "      <td>34.99</td>\n",
       "      <td>750mL</td>\n",
       "      <td>750</td>\n",
       "      <td>1</td>\n",
       "      <td>26.11</td>\n",
       "      <td>9165</td>\n",
       "      <td>ULTRA BEVERAGE COMPANY LLP</td>\n",
       "    </tr>\n",
       "    <tr>\n",
       "      <th>4</th>\n",
       "      <td>75</td>\n",
       "      <td>Three Olives Tomato Vodka</td>\n",
       "      <td>14.99</td>\n",
       "      <td>750mL</td>\n",
       "      <td>750</td>\n",
       "      <td>1</td>\n",
       "      <td>10.94</td>\n",
       "      <td>7245</td>\n",
       "      <td>PROXIMO SPIRITS INC.</td>\n",
       "    </tr>\n",
       "    <tr>\n",
       "      <th>...</th>\n",
       "      <td>...</td>\n",
       "      <td>...</td>\n",
       "      <td>...</td>\n",
       "      <td>...</td>\n",
       "      <td>...</td>\n",
       "      <td>...</td>\n",
       "      <td>...</td>\n",
       "      <td>...</td>\n",
       "      <td>...</td>\n",
       "    </tr>\n",
       "    <tr>\n",
       "      <th>12256</th>\n",
       "      <td>44917</td>\n",
       "      <td>Ferreira 10-Yr Tawny Port</td>\n",
       "      <td>24.99</td>\n",
       "      <td>750mL</td>\n",
       "      <td>750</td>\n",
       "      <td>2</td>\n",
       "      <td>16.55</td>\n",
       "      <td>90024</td>\n",
       "      <td>VINILANDIA USA</td>\n",
       "    </tr>\n",
       "    <tr>\n",
       "      <th>12257</th>\n",
       "      <td>44944</td>\n",
       "      <td>Sanford Santa Rita Pnt Nr</td>\n",
       "      <td>22.99</td>\n",
       "      <td>750mL</td>\n",
       "      <td>750</td>\n",
       "      <td>2</td>\n",
       "      <td>14.93</td>\n",
       "      <td>4425</td>\n",
       "      <td>MARTIGNETTI COMPANIES</td>\n",
       "    </tr>\n",
       "    <tr>\n",
       "      <th>12258</th>\n",
       "      <td>45016</td>\n",
       "      <td>Neal One Lane Bridg Cab Svgn</td>\n",
       "      <td>93.99</td>\n",
       "      <td>750mL</td>\n",
       "      <td>750</td>\n",
       "      <td>2</td>\n",
       "      <td>61.43</td>\n",
       "      <td>10754</td>\n",
       "      <td>PERFECTA WINES</td>\n",
       "    </tr>\n",
       "    <tr>\n",
       "      <th>12259</th>\n",
       "      <td>46011</td>\n",
       "      <td>Folonari Pnt Nr Venezie</td>\n",
       "      <td>12.99</td>\n",
       "      <td>1500ml</td>\n",
       "      <td>1500</td>\n",
       "      <td>2</td>\n",
       "      <td>8.90</td>\n",
       "      <td>9744</td>\n",
       "      <td>FREDERICK WILDMAN &amp; SONS</td>\n",
       "    </tr>\n",
       "    <tr>\n",
       "      <th>12260</th>\n",
       "      <td>46964</td>\n",
       "      <td>Calera Viognier Mt Harlan</td>\n",
       "      <td>35.99</td>\n",
       "      <td>750mL</td>\n",
       "      <td>750</td>\n",
       "      <td>2</td>\n",
       "      <td>24.32</td>\n",
       "      <td>10754</td>\n",
       "      <td>PERFECTA WINES</td>\n",
       "    </tr>\n",
       "  </tbody>\n",
       "</table>\n",
       "<p>12256 rows × 9 columns</p>\n",
       "</div>"
      ],
      "text/plain": [
       "       Brand                   Description  Price    Size Volume  \\\n",
       "0         58   Gekkeikan Black & Gold Sake  12.99   750mL    750   \n",
       "1         62      Herradura Silver Tequila  36.99   750mL    750   \n",
       "2         63    Herradura Reposado Tequila  38.99   750mL    750   \n",
       "3         72          No. 3 London Dry Gin  34.99   750mL    750   \n",
       "4         75     Three Olives Tomato Vodka  14.99   750mL    750   \n",
       "...      ...                           ...    ...     ...    ...   \n",
       "12256  44917     Ferreira 10-Yr Tawny Port  24.99   750mL    750   \n",
       "12257  44944     Sanford Santa Rita Pnt Nr  22.99   750mL    750   \n",
       "12258  45016  Neal One Lane Bridg Cab Svgn  93.99   750mL    750   \n",
       "12259  46011       Folonari Pnt Nr Venezie  12.99  1500ml   1500   \n",
       "12260  46964     Calera Viognier Mt Harlan  35.99   750mL    750   \n",
       "\n",
       "       Classification  PurchasePrice  VendorNumber  \\\n",
       "0                   1           9.28          8320   \n",
       "1                   1          28.67          1128   \n",
       "2                   1          30.46          1128   \n",
       "3                   1          26.11          9165   \n",
       "4                   1          10.94          7245   \n",
       "...               ...            ...           ...   \n",
       "12256               2          16.55         90024   \n",
       "12257               2          14.93          4425   \n",
       "12258               2          61.43         10754   \n",
       "12259               2           8.90          9744   \n",
       "12260               2          24.32         10754   \n",
       "\n",
       "                        VendorName  \n",
       "0      SHAW ROSS INT L IMP LTD      \n",
       "1      BROWN-FORMAN CORP            \n",
       "2      BROWN-FORMAN CORP            \n",
       "3      ULTRA BEVERAGE COMPANY LLP   \n",
       "4      PROXIMO SPIRITS INC.         \n",
       "...                            ...  \n",
       "12256  VINILANDIA USA               \n",
       "12257        MARTIGNETTI COMPANIES  \n",
       "12258  PERFECTA WINES               \n",
       "12259  FREDERICK WILDMAN & SONS     \n",
       "12260  PERFECTA WINES               \n",
       "\n",
       "[12256 rows x 9 columns]"
      ]
     },
     "execution_count": 56,
     "metadata": {},
     "output_type": "execute_result"
    }
   ],
   "source": [
    "limpiar_datos(productos)"
   ]
  },
  {
   "cell_type": "code",
   "execution_count": 57,
   "id": "3e0c51e6",
   "metadata": {},
   "outputs": [],
   "source": [
    "productos.columns = [\"ProductoId\", \"NombreProducto\", \"PrecioVenta\",\"Tamaño\", \"Volumen\", \"Clasificacion\",\"CostoUnitario\", \"ProveedorId\", \"NombreProveedor\" ]"
   ]
  },
  {
   "cell_type": "code",
   "execution_count": 58,
   "id": "72a4c100",
   "metadata": {},
   "outputs": [
    {
     "data": {
      "application/vnd.microsoft.datawrangler.viewer.v0+json": {
       "columns": [
        {
         "name": "index",
         "rawType": "int64",
         "type": "integer"
        },
        {
         "name": "ProductoId",
         "rawType": "int64",
         "type": "integer"
        },
        {
         "name": "NombreProducto",
         "rawType": "object",
         "type": "string"
        },
        {
         "name": "PrecioVenta",
         "rawType": "float64",
         "type": "float"
        },
        {
         "name": "Tamaño",
         "rawType": "object",
         "type": "string"
        },
        {
         "name": "Volumen",
         "rawType": "object",
         "type": "string"
        },
        {
         "name": "Clasificacion",
         "rawType": "int64",
         "type": "integer"
        },
        {
         "name": "CostoUnitario",
         "rawType": "float64",
         "type": "float"
        },
        {
         "name": "ProveedorId",
         "rawType": "int64",
         "type": "integer"
        },
        {
         "name": "NombreProveedor",
         "rawType": "object",
         "type": "string"
        }
       ],
       "ref": "a7b0068b-b6ab-4b4c-8211-0ceaf707769e",
       "rows": [
        [
         "12256",
         "44917",
         "Ferreira 10-Yr Tawny Port",
         "24.99",
         "750mL",
         "750",
         "2",
         "16.55",
         "90024",
         "VINILANDIA USA             "
        ],
        [
         "12257",
         "44944",
         "Sanford Santa Rita Pnt Nr",
         "22.99",
         "750mL",
         "750",
         "2",
         "14.93",
         "4425",
         "MARTIGNETTI COMPANIES"
        ],
        [
         "12258",
         "45016",
         "Neal One Lane Bridg Cab Svgn",
         "93.99",
         "750mL",
         "750",
         "2",
         "61.43",
         "10754",
         "PERFECTA WINES             "
        ],
        [
         "12259",
         "46011",
         "Folonari Pnt Nr Venezie",
         "12.99",
         "1500ml",
         "1500",
         "2",
         "8.9",
         "9744",
         "FREDERICK WILDMAN & SONS   "
        ],
        [
         "12260",
         "46964",
         "Calera Viognier Mt Harlan",
         "35.99",
         "750mL",
         "750",
         "2",
         "24.32",
         "10754",
         "PERFECTA WINES             "
        ]
       ],
       "shape": {
        "columns": 9,
        "rows": 5
       }
      },
      "text/html": [
       "<div>\n",
       "<style scoped>\n",
       "    .dataframe tbody tr th:only-of-type {\n",
       "        vertical-align: middle;\n",
       "    }\n",
       "\n",
       "    .dataframe tbody tr th {\n",
       "        vertical-align: top;\n",
       "    }\n",
       "\n",
       "    .dataframe thead th {\n",
       "        text-align: right;\n",
       "    }\n",
       "</style>\n",
       "<table border=\"1\" class=\"dataframe\">\n",
       "  <thead>\n",
       "    <tr style=\"text-align: right;\">\n",
       "      <th></th>\n",
       "      <th>ProductoId</th>\n",
       "      <th>NombreProducto</th>\n",
       "      <th>PrecioVenta</th>\n",
       "      <th>Tamaño</th>\n",
       "      <th>Volumen</th>\n",
       "      <th>Clasificacion</th>\n",
       "      <th>CostoUnitario</th>\n",
       "      <th>ProveedorId</th>\n",
       "      <th>NombreProveedor</th>\n",
       "    </tr>\n",
       "  </thead>\n",
       "  <tbody>\n",
       "    <tr>\n",
       "      <th>12256</th>\n",
       "      <td>44917</td>\n",
       "      <td>Ferreira 10-Yr Tawny Port</td>\n",
       "      <td>24.99</td>\n",
       "      <td>750mL</td>\n",
       "      <td>750</td>\n",
       "      <td>2</td>\n",
       "      <td>16.55</td>\n",
       "      <td>90024</td>\n",
       "      <td>VINILANDIA USA</td>\n",
       "    </tr>\n",
       "    <tr>\n",
       "      <th>12257</th>\n",
       "      <td>44944</td>\n",
       "      <td>Sanford Santa Rita Pnt Nr</td>\n",
       "      <td>22.99</td>\n",
       "      <td>750mL</td>\n",
       "      <td>750</td>\n",
       "      <td>2</td>\n",
       "      <td>14.93</td>\n",
       "      <td>4425</td>\n",
       "      <td>MARTIGNETTI COMPANIES</td>\n",
       "    </tr>\n",
       "    <tr>\n",
       "      <th>12258</th>\n",
       "      <td>45016</td>\n",
       "      <td>Neal One Lane Bridg Cab Svgn</td>\n",
       "      <td>93.99</td>\n",
       "      <td>750mL</td>\n",
       "      <td>750</td>\n",
       "      <td>2</td>\n",
       "      <td>61.43</td>\n",
       "      <td>10754</td>\n",
       "      <td>PERFECTA WINES</td>\n",
       "    </tr>\n",
       "    <tr>\n",
       "      <th>12259</th>\n",
       "      <td>46011</td>\n",
       "      <td>Folonari Pnt Nr Venezie</td>\n",
       "      <td>12.99</td>\n",
       "      <td>1500ml</td>\n",
       "      <td>1500</td>\n",
       "      <td>2</td>\n",
       "      <td>8.90</td>\n",
       "      <td>9744</td>\n",
       "      <td>FREDERICK WILDMAN &amp; SONS</td>\n",
       "    </tr>\n",
       "    <tr>\n",
       "      <th>12260</th>\n",
       "      <td>46964</td>\n",
       "      <td>Calera Viognier Mt Harlan</td>\n",
       "      <td>35.99</td>\n",
       "      <td>750mL</td>\n",
       "      <td>750</td>\n",
       "      <td>2</td>\n",
       "      <td>24.32</td>\n",
       "      <td>10754</td>\n",
       "      <td>PERFECTA WINES</td>\n",
       "    </tr>\n",
       "  </tbody>\n",
       "</table>\n",
       "</div>"
      ],
      "text/plain": [
       "       ProductoId                NombreProducto  PrecioVenta  Tamaño Volumen  \\\n",
       "12256       44917     Ferreira 10-Yr Tawny Port        24.99   750mL     750   \n",
       "12257       44944     Sanford Santa Rita Pnt Nr        22.99   750mL     750   \n",
       "12258       45016  Neal One Lane Bridg Cab Svgn        93.99   750mL     750   \n",
       "12259       46011       Folonari Pnt Nr Venezie        12.99  1500ml    1500   \n",
       "12260       46964     Calera Viognier Mt Harlan        35.99   750mL     750   \n",
       "\n",
       "       Clasificacion  CostoUnitario  ProveedorId              NombreProveedor  \n",
       "12256              2          16.55        90024  VINILANDIA USA               \n",
       "12257              2          14.93         4425        MARTIGNETTI COMPANIES  \n",
       "12258              2          61.43        10754  PERFECTA WINES               \n",
       "12259              2           8.90         9744  FREDERICK WILDMAN & SONS     \n",
       "12260              2          24.32        10754  PERFECTA WINES               "
      ]
     },
     "execution_count": 58,
     "metadata": {},
     "output_type": "execute_result"
    }
   ],
   "source": [
    "productos.tail()"
   ]
  },
  {
   "cell_type": "markdown",
   "id": "fd53c7c9",
   "metadata": {},
   "source": [
    "## Inventario Enero "
   ]
  },
  {
   "cell_type": "code",
   "execution_count": 16,
   "id": "5b05cee0",
   "metadata": {},
   "outputs": [],
   "source": [
    "inventario_inicial=pd.read_csv('D:\\DATOS\\Desktop\\data base\\BegInvFINAL12312016.csv',sep=',')"
   ]
  },
  {
   "cell_type": "code",
   "execution_count": 24,
   "id": "348a67d5",
   "metadata": {},
   "outputs": [
    {
     "data": {
      "application/vnd.microsoft.datawrangler.viewer.v0+json": {
       "columns": [
        {
         "name": "index",
         "rawType": "int64",
         "type": "integer"
        },
        {
         "name": "InventoryId",
         "rawType": "object",
         "type": "string"
        },
        {
         "name": "Store",
         "rawType": "int64",
         "type": "integer"
        },
        {
         "name": "City",
         "rawType": "object",
         "type": "string"
        },
        {
         "name": "Brand",
         "rawType": "int64",
         "type": "integer"
        },
        {
         "name": "Description",
         "rawType": "object",
         "type": "string"
        },
        {
         "name": "Size",
         "rawType": "object",
         "type": "string"
        },
        {
         "name": "onHand",
         "rawType": "int64",
         "type": "integer"
        },
        {
         "name": "Price",
         "rawType": "float64",
         "type": "float"
        },
        {
         "name": "startDate",
         "rawType": "object",
         "type": "string"
        }
       ],
       "ref": "addf3dfd-f558-4817-9101-8307214d16e2",
       "rows": [
        [
         "0",
         "1_HARDERSFIELD_58",
         "1",
         "HARDERSFIELD",
         "58",
         "Gekkeikan Black & Gold Sake",
         "750mL",
         "8",
         "12.99",
         "2016-01-01"
        ],
        [
         "1",
         "1_HARDERSFIELD_60",
         "1",
         "HARDERSFIELD",
         "60",
         "Canadian Club 1858 VAP",
         "750mL",
         "7",
         "10.99",
         "2016-01-01"
        ],
        [
         "2",
         "1_HARDERSFIELD_62",
         "1",
         "HARDERSFIELD",
         "62",
         "Herradura Silver Tequila",
         "750mL",
         "6",
         "36.99",
         "2016-01-01"
        ],
        [
         "3",
         "1_HARDERSFIELD_63",
         "1",
         "HARDERSFIELD",
         "63",
         "Herradura Reposado Tequila",
         "750mL",
         "3",
         "38.99",
         "2016-01-01"
        ],
        [
         "4",
         "1_HARDERSFIELD_72",
         "1",
         "HARDERSFIELD",
         "72",
         "No. 3 London Dry Gin",
         "750mL",
         "6",
         "34.99",
         "2016-01-01"
        ]
       ],
       "shape": {
        "columns": 9,
        "rows": 5
       }
      },
      "text/html": [
       "<div>\n",
       "<style scoped>\n",
       "    .dataframe tbody tr th:only-of-type {\n",
       "        vertical-align: middle;\n",
       "    }\n",
       "\n",
       "    .dataframe tbody tr th {\n",
       "        vertical-align: top;\n",
       "    }\n",
       "\n",
       "    .dataframe thead th {\n",
       "        text-align: right;\n",
       "    }\n",
       "</style>\n",
       "<table border=\"1\" class=\"dataframe\">\n",
       "  <thead>\n",
       "    <tr style=\"text-align: right;\">\n",
       "      <th></th>\n",
       "      <th>InventoryId</th>\n",
       "      <th>Store</th>\n",
       "      <th>City</th>\n",
       "      <th>Brand</th>\n",
       "      <th>Description</th>\n",
       "      <th>Size</th>\n",
       "      <th>onHand</th>\n",
       "      <th>Price</th>\n",
       "      <th>startDate</th>\n",
       "    </tr>\n",
       "  </thead>\n",
       "  <tbody>\n",
       "    <tr>\n",
       "      <th>0</th>\n",
       "      <td>1_HARDERSFIELD_58</td>\n",
       "      <td>1</td>\n",
       "      <td>HARDERSFIELD</td>\n",
       "      <td>58</td>\n",
       "      <td>Gekkeikan Black &amp; Gold Sake</td>\n",
       "      <td>750mL</td>\n",
       "      <td>8</td>\n",
       "      <td>12.99</td>\n",
       "      <td>2016-01-01</td>\n",
       "    </tr>\n",
       "    <tr>\n",
       "      <th>1</th>\n",
       "      <td>1_HARDERSFIELD_60</td>\n",
       "      <td>1</td>\n",
       "      <td>HARDERSFIELD</td>\n",
       "      <td>60</td>\n",
       "      <td>Canadian Club 1858 VAP</td>\n",
       "      <td>750mL</td>\n",
       "      <td>7</td>\n",
       "      <td>10.99</td>\n",
       "      <td>2016-01-01</td>\n",
       "    </tr>\n",
       "    <tr>\n",
       "      <th>2</th>\n",
       "      <td>1_HARDERSFIELD_62</td>\n",
       "      <td>1</td>\n",
       "      <td>HARDERSFIELD</td>\n",
       "      <td>62</td>\n",
       "      <td>Herradura Silver Tequila</td>\n",
       "      <td>750mL</td>\n",
       "      <td>6</td>\n",
       "      <td>36.99</td>\n",
       "      <td>2016-01-01</td>\n",
       "    </tr>\n",
       "    <tr>\n",
       "      <th>3</th>\n",
       "      <td>1_HARDERSFIELD_63</td>\n",
       "      <td>1</td>\n",
       "      <td>HARDERSFIELD</td>\n",
       "      <td>63</td>\n",
       "      <td>Herradura Reposado Tequila</td>\n",
       "      <td>750mL</td>\n",
       "      <td>3</td>\n",
       "      <td>38.99</td>\n",
       "      <td>2016-01-01</td>\n",
       "    </tr>\n",
       "    <tr>\n",
       "      <th>4</th>\n",
       "      <td>1_HARDERSFIELD_72</td>\n",
       "      <td>1</td>\n",
       "      <td>HARDERSFIELD</td>\n",
       "      <td>72</td>\n",
       "      <td>No. 3 London Dry Gin</td>\n",
       "      <td>750mL</td>\n",
       "      <td>6</td>\n",
       "      <td>34.99</td>\n",
       "      <td>2016-01-01</td>\n",
       "    </tr>\n",
       "  </tbody>\n",
       "</table>\n",
       "</div>"
      ],
      "text/plain": [
       "         InventoryId  Store          City  Brand                  Description  \\\n",
       "0  1_HARDERSFIELD_58      1  HARDERSFIELD     58  Gekkeikan Black & Gold Sake   \n",
       "1  1_HARDERSFIELD_60      1  HARDERSFIELD     60       Canadian Club 1858 VAP   \n",
       "2  1_HARDERSFIELD_62      1  HARDERSFIELD     62     Herradura Silver Tequila   \n",
       "3  1_HARDERSFIELD_63      1  HARDERSFIELD     63   Herradura Reposado Tequila   \n",
       "4  1_HARDERSFIELD_72      1  HARDERSFIELD     72         No. 3 London Dry Gin   \n",
       "\n",
       "    Size  onHand  Price   startDate  \n",
       "0  750mL       8  12.99  2016-01-01  \n",
       "1  750mL       7  10.99  2016-01-01  \n",
       "2  750mL       6  36.99  2016-01-01  \n",
       "3  750mL       3  38.99  2016-01-01  \n",
       "4  750mL       6  34.99  2016-01-01  "
      ]
     },
     "execution_count": 24,
     "metadata": {},
     "output_type": "execute_result"
    }
   ],
   "source": [
    "inventario_inicial.head()"
   ]
  },
  {
   "cell_type": "code",
   "execution_count": 17,
   "id": "666212c2",
   "metadata": {},
   "outputs": [
    {
     "name": "stdout",
     "output_type": "stream",
     "text": [
      "\n",
      "🔍 Revisión inicial de los datos:\n",
      "Forma del DataFrame (filas, columnas): (206529, 9)\n",
      "\n",
      "Valores faltantes por columna:\n",
      " InventoryId    0\n",
      "Store          0\n",
      "City           0\n",
      "Brand          0\n",
      "Description    0\n",
      "Size           0\n",
      "onHand         0\n",
      "Price          0\n",
      "startDate      0\n",
      "dtype: int64\n",
      "\n",
      "Total de filas duplicadas: 0\n"
     ]
    }
   ],
   "source": [
    "revisar_datos(inventario_inicial)"
   ]
  },
  {
   "cell_type": "code",
   "execution_count": 65,
   "id": "8f28d539",
   "metadata": {},
   "outputs": [],
   "source": [
    "inventario_inicial.columns = [\"InventarioId\",\"Tienda\",\"Ciudad\",\"ProductoId\",\"NombreProducto\",\"Tamaño\",\"Existencia\", \"PrecioVenta\",\"Fecha_inicio\" ]"
   ]
  },
  {
   "cell_type": "code",
   "execution_count": 66,
   "id": "1d2bb1d4",
   "metadata": {},
   "outputs": [
    {
     "data": {
      "application/vnd.microsoft.datawrangler.viewer.v0+json": {
       "columns": [
        {
         "name": "index",
         "rawType": "int64",
         "type": "integer"
        },
        {
         "name": "InventarioId",
         "rawType": "object",
         "type": "string"
        },
        {
         "name": "Tienda",
         "rawType": "int64",
         "type": "integer"
        },
        {
         "name": "Ciudad",
         "rawType": "object",
         "type": "string"
        },
        {
         "name": "ProductoId",
         "rawType": "int64",
         "type": "integer"
        },
        {
         "name": "NombreProducto",
         "rawType": "object",
         "type": "string"
        },
        {
         "name": "Tamaño",
         "rawType": "object",
         "type": "string"
        },
        {
         "name": "Existencia",
         "rawType": "int64",
         "type": "integer"
        },
        {
         "name": "PrecioVenta",
         "rawType": "float64",
         "type": "float"
        },
        {
         "name": "Fecha_inicio",
         "rawType": "object",
         "type": "string"
        }
       ],
       "ref": "4e764669-4315-4f15-adb6-ac37ae629359",
       "rows": [
        [
         "206524",
         "79_BALLYMENA_46985",
         "79",
         "BALLYMENA",
         "46985",
         "Rodney Strong Cab Svgn Alexa",
         "750mL",
         "13",
         "22.99",
         "2016-01-01"
        ],
        [
         "206525",
         "79_BALLYMENA_47014",
         "79",
         "BALLYMENA",
         "47014",
         "Juan Gil Jumilla Rd",
         "750mL",
         "13",
         "13.99",
         "2016-01-01"
        ],
        [
         "206526",
         "79_BALLYMENA_47090",
         "79",
         "BALLYMENA",
         "47090",
         "Napa Cellars Cab Svgn Napa",
         "750mL",
         "19",
         "23.99",
         "2016-01-01"
        ],
        [
         "206527",
         "79_BALLYMENA_90011",
         "79",
         "BALLYMENA",
         "90011",
         "Ch Pichon Longville 12 Pauil",
         "750mL",
         "12",
         "144.99",
         "2016-01-01"
        ],
        [
         "206528",
         "79_BALLYMENA_90089",
         "79",
         "BALLYMENA",
         "90089",
         "Ch Lynch Bages 12 Pauillac",
         "750mL",
         "24",
         "119.99",
         "2016-01-01"
        ]
       ],
       "shape": {
        "columns": 9,
        "rows": 5
       }
      },
      "text/html": [
       "<div>\n",
       "<style scoped>\n",
       "    .dataframe tbody tr th:only-of-type {\n",
       "        vertical-align: middle;\n",
       "    }\n",
       "\n",
       "    .dataframe tbody tr th {\n",
       "        vertical-align: top;\n",
       "    }\n",
       "\n",
       "    .dataframe thead th {\n",
       "        text-align: right;\n",
       "    }\n",
       "</style>\n",
       "<table border=\"1\" class=\"dataframe\">\n",
       "  <thead>\n",
       "    <tr style=\"text-align: right;\">\n",
       "      <th></th>\n",
       "      <th>InventarioId</th>\n",
       "      <th>Tienda</th>\n",
       "      <th>Ciudad</th>\n",
       "      <th>ProductoId</th>\n",
       "      <th>NombreProducto</th>\n",
       "      <th>Tamaño</th>\n",
       "      <th>Existencia</th>\n",
       "      <th>PrecioVenta</th>\n",
       "      <th>Fecha_inicio</th>\n",
       "    </tr>\n",
       "  </thead>\n",
       "  <tbody>\n",
       "    <tr>\n",
       "      <th>206524</th>\n",
       "      <td>79_BALLYMENA_46985</td>\n",
       "      <td>79</td>\n",
       "      <td>BALLYMENA</td>\n",
       "      <td>46985</td>\n",
       "      <td>Rodney Strong Cab Svgn Alexa</td>\n",
       "      <td>750mL</td>\n",
       "      <td>13</td>\n",
       "      <td>22.99</td>\n",
       "      <td>2016-01-01</td>\n",
       "    </tr>\n",
       "    <tr>\n",
       "      <th>206525</th>\n",
       "      <td>79_BALLYMENA_47014</td>\n",
       "      <td>79</td>\n",
       "      <td>BALLYMENA</td>\n",
       "      <td>47014</td>\n",
       "      <td>Juan Gil Jumilla Rd</td>\n",
       "      <td>750mL</td>\n",
       "      <td>13</td>\n",
       "      <td>13.99</td>\n",
       "      <td>2016-01-01</td>\n",
       "    </tr>\n",
       "    <tr>\n",
       "      <th>206526</th>\n",
       "      <td>79_BALLYMENA_47090</td>\n",
       "      <td>79</td>\n",
       "      <td>BALLYMENA</td>\n",
       "      <td>47090</td>\n",
       "      <td>Napa Cellars Cab Svgn Napa</td>\n",
       "      <td>750mL</td>\n",
       "      <td>19</td>\n",
       "      <td>23.99</td>\n",
       "      <td>2016-01-01</td>\n",
       "    </tr>\n",
       "    <tr>\n",
       "      <th>206527</th>\n",
       "      <td>79_BALLYMENA_90011</td>\n",
       "      <td>79</td>\n",
       "      <td>BALLYMENA</td>\n",
       "      <td>90011</td>\n",
       "      <td>Ch Pichon Longville 12 Pauil</td>\n",
       "      <td>750mL</td>\n",
       "      <td>12</td>\n",
       "      <td>144.99</td>\n",
       "      <td>2016-01-01</td>\n",
       "    </tr>\n",
       "    <tr>\n",
       "      <th>206528</th>\n",
       "      <td>79_BALLYMENA_90089</td>\n",
       "      <td>79</td>\n",
       "      <td>BALLYMENA</td>\n",
       "      <td>90089</td>\n",
       "      <td>Ch Lynch Bages 12 Pauillac</td>\n",
       "      <td>750mL</td>\n",
       "      <td>24</td>\n",
       "      <td>119.99</td>\n",
       "      <td>2016-01-01</td>\n",
       "    </tr>\n",
       "  </tbody>\n",
       "</table>\n",
       "</div>"
      ],
      "text/plain": [
       "              InventarioId  Tienda     Ciudad  ProductoId  \\\n",
       "206524  79_BALLYMENA_46985      79  BALLYMENA       46985   \n",
       "206525  79_BALLYMENA_47014      79  BALLYMENA       47014   \n",
       "206526  79_BALLYMENA_47090      79  BALLYMENA       47090   \n",
       "206527  79_BALLYMENA_90011      79  BALLYMENA       90011   \n",
       "206528  79_BALLYMENA_90089      79  BALLYMENA       90089   \n",
       "\n",
       "                      NombreProducto Tamaño  Existencia  PrecioVenta  \\\n",
       "206524  Rodney Strong Cab Svgn Alexa  750mL          13        22.99   \n",
       "206525           Juan Gil Jumilla Rd  750mL          13        13.99   \n",
       "206526    Napa Cellars Cab Svgn Napa  750mL          19        23.99   \n",
       "206527  Ch Pichon Longville 12 Pauil  750mL          12       144.99   \n",
       "206528    Ch Lynch Bages 12 Pauillac  750mL          24       119.99   \n",
       "\n",
       "       Fecha_inicio  \n",
       "206524   2016-01-01  \n",
       "206525   2016-01-01  \n",
       "206526   2016-01-01  \n",
       "206527   2016-01-01  \n",
       "206528   2016-01-01  "
      ]
     },
     "execution_count": 66,
     "metadata": {},
     "output_type": "execute_result"
    }
   ],
   "source": [
    "inventario_inicial.tail()"
   ]
  },
  {
   "cell_type": "markdown",
   "id": "3beada35",
   "metadata": {},
   "source": [
    "## Inventario Diciembre"
   ]
  },
  {
   "cell_type": "code",
   "execution_count": 18,
   "id": "4779bed1",
   "metadata": {},
   "outputs": [],
   "source": [
    "inventario_final=pd.read_csv('D:\\DATOS\\Desktop\\data base\\EndInvFINAL12312016.csv',sep=',')"
   ]
  },
  {
   "cell_type": "code",
   "execution_count": 23,
   "id": "25c71652",
   "metadata": {},
   "outputs": [
    {
     "data": {
      "application/vnd.microsoft.datawrangler.viewer.v0+json": {
       "columns": [
        {
         "name": "index",
         "rawType": "int64",
         "type": "integer"
        },
        {
         "name": "InventoryId",
         "rawType": "object",
         "type": "string"
        },
        {
         "name": "Store",
         "rawType": "int64",
         "type": "integer"
        },
        {
         "name": "City",
         "rawType": "object",
         "type": "string"
        },
        {
         "name": "Brand",
         "rawType": "int64",
         "type": "integer"
        },
        {
         "name": "Description",
         "rawType": "object",
         "type": "string"
        },
        {
         "name": "Size",
         "rawType": "object",
         "type": "string"
        },
        {
         "name": "onHand",
         "rawType": "int64",
         "type": "integer"
        },
        {
         "name": "Price",
         "rawType": "float64",
         "type": "float"
        },
        {
         "name": "endDate",
         "rawType": "object",
         "type": "string"
        }
       ],
       "ref": "615cae54-7d60-4b18-9048-b8602fb56ae4",
       "rows": [
        [
         "0",
         "1_HARDERSFIELD_58",
         "1",
         "HARDERSFIELD",
         "58",
         "Gekkeikan Black & Gold Sake",
         "750mL",
         "11",
         "12.99",
         "2016-12-31"
        ],
        [
         "1",
         "1_HARDERSFIELD_62",
         "1",
         "HARDERSFIELD",
         "62",
         "Herradura Silver Tequila",
         "750mL",
         "7",
         "36.99",
         "2016-12-31"
        ],
        [
         "2",
         "1_HARDERSFIELD_63",
         "1",
         "HARDERSFIELD",
         "63",
         "Herradura Reposado Tequila",
         "750mL",
         "7",
         "38.99",
         "2016-12-31"
        ],
        [
         "3",
         "1_HARDERSFIELD_72",
         "1",
         "HARDERSFIELD",
         "72",
         "No. 3 London Dry Gin",
         "750mL",
         "4",
         "34.99",
         "2016-12-31"
        ],
        [
         "4",
         "1_HARDERSFIELD_75",
         "1",
         "HARDERSFIELD",
         "75",
         "Three Olives Tomato Vodka",
         "750mL",
         "7",
         "14.99",
         "2016-12-31"
        ]
       ],
       "shape": {
        "columns": 9,
        "rows": 5
       }
      },
      "text/html": [
       "<div>\n",
       "<style scoped>\n",
       "    .dataframe tbody tr th:only-of-type {\n",
       "        vertical-align: middle;\n",
       "    }\n",
       "\n",
       "    .dataframe tbody tr th {\n",
       "        vertical-align: top;\n",
       "    }\n",
       "\n",
       "    .dataframe thead th {\n",
       "        text-align: right;\n",
       "    }\n",
       "</style>\n",
       "<table border=\"1\" class=\"dataframe\">\n",
       "  <thead>\n",
       "    <tr style=\"text-align: right;\">\n",
       "      <th></th>\n",
       "      <th>InventoryId</th>\n",
       "      <th>Store</th>\n",
       "      <th>City</th>\n",
       "      <th>Brand</th>\n",
       "      <th>Description</th>\n",
       "      <th>Size</th>\n",
       "      <th>onHand</th>\n",
       "      <th>Price</th>\n",
       "      <th>endDate</th>\n",
       "    </tr>\n",
       "  </thead>\n",
       "  <tbody>\n",
       "    <tr>\n",
       "      <th>0</th>\n",
       "      <td>1_HARDERSFIELD_58</td>\n",
       "      <td>1</td>\n",
       "      <td>HARDERSFIELD</td>\n",
       "      <td>58</td>\n",
       "      <td>Gekkeikan Black &amp; Gold Sake</td>\n",
       "      <td>750mL</td>\n",
       "      <td>11</td>\n",
       "      <td>12.99</td>\n",
       "      <td>2016-12-31</td>\n",
       "    </tr>\n",
       "    <tr>\n",
       "      <th>1</th>\n",
       "      <td>1_HARDERSFIELD_62</td>\n",
       "      <td>1</td>\n",
       "      <td>HARDERSFIELD</td>\n",
       "      <td>62</td>\n",
       "      <td>Herradura Silver Tequila</td>\n",
       "      <td>750mL</td>\n",
       "      <td>7</td>\n",
       "      <td>36.99</td>\n",
       "      <td>2016-12-31</td>\n",
       "    </tr>\n",
       "    <tr>\n",
       "      <th>2</th>\n",
       "      <td>1_HARDERSFIELD_63</td>\n",
       "      <td>1</td>\n",
       "      <td>HARDERSFIELD</td>\n",
       "      <td>63</td>\n",
       "      <td>Herradura Reposado Tequila</td>\n",
       "      <td>750mL</td>\n",
       "      <td>7</td>\n",
       "      <td>38.99</td>\n",
       "      <td>2016-12-31</td>\n",
       "    </tr>\n",
       "    <tr>\n",
       "      <th>3</th>\n",
       "      <td>1_HARDERSFIELD_72</td>\n",
       "      <td>1</td>\n",
       "      <td>HARDERSFIELD</td>\n",
       "      <td>72</td>\n",
       "      <td>No. 3 London Dry Gin</td>\n",
       "      <td>750mL</td>\n",
       "      <td>4</td>\n",
       "      <td>34.99</td>\n",
       "      <td>2016-12-31</td>\n",
       "    </tr>\n",
       "    <tr>\n",
       "      <th>4</th>\n",
       "      <td>1_HARDERSFIELD_75</td>\n",
       "      <td>1</td>\n",
       "      <td>HARDERSFIELD</td>\n",
       "      <td>75</td>\n",
       "      <td>Three Olives Tomato Vodka</td>\n",
       "      <td>750mL</td>\n",
       "      <td>7</td>\n",
       "      <td>14.99</td>\n",
       "      <td>2016-12-31</td>\n",
       "    </tr>\n",
       "  </tbody>\n",
       "</table>\n",
       "</div>"
      ],
      "text/plain": [
       "         InventoryId  Store          City  Brand                  Description  \\\n",
       "0  1_HARDERSFIELD_58      1  HARDERSFIELD     58  Gekkeikan Black & Gold Sake   \n",
       "1  1_HARDERSFIELD_62      1  HARDERSFIELD     62     Herradura Silver Tequila   \n",
       "2  1_HARDERSFIELD_63      1  HARDERSFIELD     63   Herradura Reposado Tequila   \n",
       "3  1_HARDERSFIELD_72      1  HARDERSFIELD     72         No. 3 London Dry Gin   \n",
       "4  1_HARDERSFIELD_75      1  HARDERSFIELD     75    Three Olives Tomato Vodka   \n",
       "\n",
       "    Size  onHand  Price     endDate  \n",
       "0  750mL      11  12.99  2016-12-31  \n",
       "1  750mL       7  36.99  2016-12-31  \n",
       "2  750mL       7  38.99  2016-12-31  \n",
       "3  750mL       4  34.99  2016-12-31  \n",
       "4  750mL       7  14.99  2016-12-31  "
      ]
     },
     "execution_count": 23,
     "metadata": {},
     "output_type": "execute_result"
    }
   ],
   "source": [
    "inventario_final.head()"
   ]
  },
  {
   "cell_type": "code",
   "execution_count": 19,
   "id": "7e985918",
   "metadata": {},
   "outputs": [
    {
     "name": "stdout",
     "output_type": "stream",
     "text": [
      "\n",
      "🔍 Revisión inicial de los datos:\n",
      "Forma del DataFrame (filas, columnas): (224489, 9)\n",
      "\n",
      "Valores faltantes por columna:\n",
      " InventoryId       0\n",
      "Store             0\n",
      "City           1284\n",
      "Brand             0\n",
      "Description       0\n",
      "Size              0\n",
      "onHand            0\n",
      "Price             0\n",
      "endDate           0\n",
      "dtype: int64\n",
      "\n",
      "Total de filas duplicadas: 0\n"
     ]
    }
   ],
   "source": [
    "revisar_datos(inventario_final)"
   ]
  },
  {
   "cell_type": "code",
   "execution_count": 37,
   "id": "f623a301",
   "metadata": {},
   "outputs": [],
   "source": [
    "inventario_final['City'].fillna('TYWARDREATH', inplace=True)"
   ]
  },
  {
   "cell_type": "code",
   "execution_count": 38,
   "id": "a6d04d83",
   "metadata": {},
   "outputs": [
    {
     "name": "stdout",
     "output_type": "stream",
     "text": [
      "\n",
      "🔍 Revisión inicial de los datos:\n",
      "Forma del DataFrame (filas, columnas): (224489, 9)\n",
      "\n",
      "Valores faltantes por columna:\n",
      " InventoryId    0\n",
      "Store          0\n",
      "City           0\n",
      "Brand          0\n",
      "Description    0\n",
      "Size           0\n",
      "onHand         0\n",
      "Price          0\n",
      "endDate        0\n",
      "dtype: int64\n",
      "\n",
      "Total de filas duplicadas: 0\n"
     ]
    }
   ],
   "source": [
    "revisar_datos(inventario_final)"
   ]
  },
  {
   "cell_type": "code",
   "execution_count": 73,
   "id": "773ab18e",
   "metadata": {},
   "outputs": [],
   "source": [
    "inventario_final.columns = [\"InventarioId\",\"Tienda\",\"Ciudad\",\"ProductoId\",\"NombreProducto\",\"Tamaño\",\"Existencia\", \"PrecioVenta\",\"Fecha_cierre\" ]"
   ]
  },
  {
   "cell_type": "code",
   "execution_count": 74,
   "id": "6645a76c",
   "metadata": {},
   "outputs": [
    {
     "data": {
      "application/vnd.microsoft.datawrangler.viewer.v0+json": {
       "columns": [
        {
         "name": "index",
         "rawType": "int64",
         "type": "integer"
        },
        {
         "name": "InventarioId",
         "rawType": "object",
         "type": "string"
        },
        {
         "name": "Tienda",
         "rawType": "int64",
         "type": "integer"
        },
        {
         "name": "Ciudad",
         "rawType": "object",
         "type": "string"
        },
        {
         "name": "ProductoId",
         "rawType": "int64",
         "type": "integer"
        },
        {
         "name": "NombreProducto",
         "rawType": "object",
         "type": "string"
        },
        {
         "name": "Tamaño",
         "rawType": "object",
         "type": "string"
        },
        {
         "name": "Existencia",
         "rawType": "int64",
         "type": "integer"
        },
        {
         "name": "PrecioVenta",
         "rawType": "float64",
         "type": "float"
        },
        {
         "name": "Fecha_cierre",
         "rawType": "object",
         "type": "string"
        }
       ],
       "ref": "ba59cece-f671-4bdf-b43a-0d82b99d3758",
       "rows": [
        [
         "224484",
         "81_PEMBROKE_90087",
         "81",
         "PEMBROKE",
         "90087",
         "Ch Mouton Rothschild 12 Paui",
         "750mL",
         "3",
         "469.99",
         "2016-12-31"
        ],
        [
         "224485",
         "81_PEMBROKE_90088",
         "81",
         "PEMBROKE",
         "90088",
         "Ch Le Petite Mouton 12 Pauil",
         "750mL",
         "3",
         "134.99",
         "2016-12-31"
        ],
        [
         "224486",
         "81_PEMBROKE_90089",
         "81",
         "PEMBROKE",
         "90089",
         "Ch Lynch Bages 12 Pauillac",
         "750mL",
         "3",
         "119.99",
         "2016-12-31"
        ],
        [
         "224487",
         "81_PEMBROKE_90090",
         "81",
         "PEMBROKE",
         "90090",
         "Ch Lafite Rothschild 12",
         "750mL",
         "3",
         "649.99",
         "2016-12-31"
        ],
        [
         "224488",
         "81_PEMBROKE_90604",
         "81",
         "PEMBROKE",
         "90604",
         "Ch Lynch Bages Pauilac",
         "750mL",
         "2",
         "119.99",
         "2016-12-31"
        ]
       ],
       "shape": {
        "columns": 9,
        "rows": 5
       }
      },
      "text/html": [
       "<div>\n",
       "<style scoped>\n",
       "    .dataframe tbody tr th:only-of-type {\n",
       "        vertical-align: middle;\n",
       "    }\n",
       "\n",
       "    .dataframe tbody tr th {\n",
       "        vertical-align: top;\n",
       "    }\n",
       "\n",
       "    .dataframe thead th {\n",
       "        text-align: right;\n",
       "    }\n",
       "</style>\n",
       "<table border=\"1\" class=\"dataframe\">\n",
       "  <thead>\n",
       "    <tr style=\"text-align: right;\">\n",
       "      <th></th>\n",
       "      <th>InventarioId</th>\n",
       "      <th>Tienda</th>\n",
       "      <th>Ciudad</th>\n",
       "      <th>ProductoId</th>\n",
       "      <th>NombreProducto</th>\n",
       "      <th>Tamaño</th>\n",
       "      <th>Existencia</th>\n",
       "      <th>PrecioVenta</th>\n",
       "      <th>Fecha_cierre</th>\n",
       "    </tr>\n",
       "  </thead>\n",
       "  <tbody>\n",
       "    <tr>\n",
       "      <th>224484</th>\n",
       "      <td>81_PEMBROKE_90087</td>\n",
       "      <td>81</td>\n",
       "      <td>PEMBROKE</td>\n",
       "      <td>90087</td>\n",
       "      <td>Ch Mouton Rothschild 12 Paui</td>\n",
       "      <td>750mL</td>\n",
       "      <td>3</td>\n",
       "      <td>469.99</td>\n",
       "      <td>2016-12-31</td>\n",
       "    </tr>\n",
       "    <tr>\n",
       "      <th>224485</th>\n",
       "      <td>81_PEMBROKE_90088</td>\n",
       "      <td>81</td>\n",
       "      <td>PEMBROKE</td>\n",
       "      <td>90088</td>\n",
       "      <td>Ch Le Petite Mouton 12 Pauil</td>\n",
       "      <td>750mL</td>\n",
       "      <td>3</td>\n",
       "      <td>134.99</td>\n",
       "      <td>2016-12-31</td>\n",
       "    </tr>\n",
       "    <tr>\n",
       "      <th>224486</th>\n",
       "      <td>81_PEMBROKE_90089</td>\n",
       "      <td>81</td>\n",
       "      <td>PEMBROKE</td>\n",
       "      <td>90089</td>\n",
       "      <td>Ch Lynch Bages 12 Pauillac</td>\n",
       "      <td>750mL</td>\n",
       "      <td>3</td>\n",
       "      <td>119.99</td>\n",
       "      <td>2016-12-31</td>\n",
       "    </tr>\n",
       "    <tr>\n",
       "      <th>224487</th>\n",
       "      <td>81_PEMBROKE_90090</td>\n",
       "      <td>81</td>\n",
       "      <td>PEMBROKE</td>\n",
       "      <td>90090</td>\n",
       "      <td>Ch Lafite Rothschild 12</td>\n",
       "      <td>750mL</td>\n",
       "      <td>3</td>\n",
       "      <td>649.99</td>\n",
       "      <td>2016-12-31</td>\n",
       "    </tr>\n",
       "    <tr>\n",
       "      <th>224488</th>\n",
       "      <td>81_PEMBROKE_90604</td>\n",
       "      <td>81</td>\n",
       "      <td>PEMBROKE</td>\n",
       "      <td>90604</td>\n",
       "      <td>Ch Lynch Bages Pauilac</td>\n",
       "      <td>750mL</td>\n",
       "      <td>2</td>\n",
       "      <td>119.99</td>\n",
       "      <td>2016-12-31</td>\n",
       "    </tr>\n",
       "  </tbody>\n",
       "</table>\n",
       "</div>"
      ],
      "text/plain": [
       "             InventarioId  Tienda    Ciudad  ProductoId  \\\n",
       "224484  81_PEMBROKE_90087      81  PEMBROKE       90087   \n",
       "224485  81_PEMBROKE_90088      81  PEMBROKE       90088   \n",
       "224486  81_PEMBROKE_90089      81  PEMBROKE       90089   \n",
       "224487  81_PEMBROKE_90090      81  PEMBROKE       90090   \n",
       "224488  81_PEMBROKE_90604      81  PEMBROKE       90604   \n",
       "\n",
       "                      NombreProducto Tamaño  Existencia  PrecioVenta  \\\n",
       "224484  Ch Mouton Rothschild 12 Paui  750mL           3       469.99   \n",
       "224485  Ch Le Petite Mouton 12 Pauil  750mL           3       134.99   \n",
       "224486    Ch Lynch Bages 12 Pauillac  750mL           3       119.99   \n",
       "224487       Ch Lafite Rothschild 12  750mL           3       649.99   \n",
       "224488        Ch Lynch Bages Pauilac  750mL           2       119.99   \n",
       "\n",
       "       Fecha_cierre  \n",
       "224484   2016-12-31  \n",
       "224485   2016-12-31  \n",
       "224486   2016-12-31  \n",
       "224487   2016-12-31  \n",
       "224488   2016-12-31  "
      ]
     },
     "execution_count": 74,
     "metadata": {},
     "output_type": "execute_result"
    }
   ],
   "source": [
    "inventario_final.tail()"
   ]
  },
  {
   "cell_type": "markdown",
   "id": "721babdb",
   "metadata": {},
   "source": [
    "## Compras"
   ]
  },
  {
   "cell_type": "code",
   "execution_count": 26,
   "id": "7dc6bfb5",
   "metadata": {},
   "outputs": [],
   "source": [
    "compras_2016=pd.read_csv('D:\\DATOS\\Desktop\\data base\\InvoicePurchases12312016.csv',sep=',')"
   ]
  },
  {
   "cell_type": "code",
   "execution_count": 28,
   "id": "b7fd507d",
   "metadata": {},
   "outputs": [
    {
     "data": {
      "application/vnd.microsoft.datawrangler.viewer.v0+json": {
       "columns": [
        {
         "name": "index",
         "rawType": "int64",
         "type": "integer"
        },
        {
         "name": "VendorNumber",
         "rawType": "int64",
         "type": "integer"
        },
        {
         "name": "VendorName",
         "rawType": "object",
         "type": "string"
        },
        {
         "name": "InvoiceDate",
         "rawType": "object",
         "type": "string"
        },
        {
         "name": "PONumber",
         "rawType": "int64",
         "type": "integer"
        },
        {
         "name": "PODate",
         "rawType": "object",
         "type": "string"
        },
        {
         "name": "PayDate",
         "rawType": "object",
         "type": "string"
        },
        {
         "name": "Quantity",
         "rawType": "int64",
         "type": "integer"
        },
        {
         "name": "Dollars",
         "rawType": "float64",
         "type": "float"
        },
        {
         "name": "Freight",
         "rawType": "float64",
         "type": "float"
        },
        {
         "name": "Approval",
         "rawType": "object",
         "type": "unknown"
        }
       ],
       "ref": "a0a8f44f-23f4-4d1f-8dee-6bad504ab96c",
       "rows": [
        [
         "0",
         "105",
         "ALTAMAR BRANDS LLC         ",
         "2016-01-04",
         "8124",
         "2015-12-21",
         "2016-02-16",
         "6",
         "214.26",
         "3.47",
         null
        ],
        [
         "1",
         "4466",
         "AMERICAN VINTAGE BEVERAGE  ",
         "2016-01-07",
         "8137",
         "2015-12-22",
         "2016-02-21",
         "15",
         "140.55",
         "8.57",
         null
        ],
        [
         "2",
         "388",
         "ATLANTIC IMPORTING COMPANY ",
         "2016-01-09",
         "8169",
         "2015-12-24",
         "2016-02-16",
         "5",
         "106.6",
         "4.61",
         null
        ],
        [
         "3",
         "480",
         "BACARDI USA INC            ",
         "2016-01-12",
         "8106",
         "2015-12-20",
         "2016-02-05",
         "10100",
         "137483.78",
         "2935.2",
         null
        ],
        [
         "4",
         "516",
         "BANFI PRODUCTS CORP        ",
         "2016-01-07",
         "8170",
         "2015-12-24",
         "2016-02-12",
         "1935",
         "15527.25",
         "429.2",
         null
        ]
       ],
       "shape": {
        "columns": 10,
        "rows": 5
       }
      },
      "text/html": [
       "<div>\n",
       "<style scoped>\n",
       "    .dataframe tbody tr th:only-of-type {\n",
       "        vertical-align: middle;\n",
       "    }\n",
       "\n",
       "    .dataframe tbody tr th {\n",
       "        vertical-align: top;\n",
       "    }\n",
       "\n",
       "    .dataframe thead th {\n",
       "        text-align: right;\n",
       "    }\n",
       "</style>\n",
       "<table border=\"1\" class=\"dataframe\">\n",
       "  <thead>\n",
       "    <tr style=\"text-align: right;\">\n",
       "      <th></th>\n",
       "      <th>VendorNumber</th>\n",
       "      <th>VendorName</th>\n",
       "      <th>InvoiceDate</th>\n",
       "      <th>PONumber</th>\n",
       "      <th>PODate</th>\n",
       "      <th>PayDate</th>\n",
       "      <th>Quantity</th>\n",
       "      <th>Dollars</th>\n",
       "      <th>Freight</th>\n",
       "      <th>Approval</th>\n",
       "    </tr>\n",
       "  </thead>\n",
       "  <tbody>\n",
       "    <tr>\n",
       "      <th>0</th>\n",
       "      <td>105</td>\n",
       "      <td>ALTAMAR BRANDS LLC</td>\n",
       "      <td>2016-01-04</td>\n",
       "      <td>8124</td>\n",
       "      <td>2015-12-21</td>\n",
       "      <td>2016-02-16</td>\n",
       "      <td>6</td>\n",
       "      <td>214.26</td>\n",
       "      <td>3.47</td>\n",
       "      <td>NaN</td>\n",
       "    </tr>\n",
       "    <tr>\n",
       "      <th>1</th>\n",
       "      <td>4466</td>\n",
       "      <td>AMERICAN VINTAGE BEVERAGE</td>\n",
       "      <td>2016-01-07</td>\n",
       "      <td>8137</td>\n",
       "      <td>2015-12-22</td>\n",
       "      <td>2016-02-21</td>\n",
       "      <td>15</td>\n",
       "      <td>140.55</td>\n",
       "      <td>8.57</td>\n",
       "      <td>NaN</td>\n",
       "    </tr>\n",
       "    <tr>\n",
       "      <th>2</th>\n",
       "      <td>388</td>\n",
       "      <td>ATLANTIC IMPORTING COMPANY</td>\n",
       "      <td>2016-01-09</td>\n",
       "      <td>8169</td>\n",
       "      <td>2015-12-24</td>\n",
       "      <td>2016-02-16</td>\n",
       "      <td>5</td>\n",
       "      <td>106.60</td>\n",
       "      <td>4.61</td>\n",
       "      <td>NaN</td>\n",
       "    </tr>\n",
       "    <tr>\n",
       "      <th>3</th>\n",
       "      <td>480</td>\n",
       "      <td>BACARDI USA INC</td>\n",
       "      <td>2016-01-12</td>\n",
       "      <td>8106</td>\n",
       "      <td>2015-12-20</td>\n",
       "      <td>2016-02-05</td>\n",
       "      <td>10100</td>\n",
       "      <td>137483.78</td>\n",
       "      <td>2935.20</td>\n",
       "      <td>NaN</td>\n",
       "    </tr>\n",
       "    <tr>\n",
       "      <th>4</th>\n",
       "      <td>516</td>\n",
       "      <td>BANFI PRODUCTS CORP</td>\n",
       "      <td>2016-01-07</td>\n",
       "      <td>8170</td>\n",
       "      <td>2015-12-24</td>\n",
       "      <td>2016-02-12</td>\n",
       "      <td>1935</td>\n",
       "      <td>15527.25</td>\n",
       "      <td>429.20</td>\n",
       "      <td>NaN</td>\n",
       "    </tr>\n",
       "  </tbody>\n",
       "</table>\n",
       "</div>"
      ],
      "text/plain": [
       "   VendorNumber                   VendorName InvoiceDate  PONumber  \\\n",
       "0           105  ALTAMAR BRANDS LLC           2016-01-04      8124   \n",
       "1          4466  AMERICAN VINTAGE BEVERAGE    2016-01-07      8137   \n",
       "2           388  ATLANTIC IMPORTING COMPANY   2016-01-09      8169   \n",
       "3           480  BACARDI USA INC              2016-01-12      8106   \n",
       "4           516  BANFI PRODUCTS CORP          2016-01-07      8170   \n",
       "\n",
       "       PODate     PayDate  Quantity    Dollars  Freight Approval  \n",
       "0  2015-12-21  2016-02-16         6     214.26     3.47      NaN  \n",
       "1  2015-12-22  2016-02-21        15     140.55     8.57      NaN  \n",
       "2  2015-12-24  2016-02-16         5     106.60     4.61      NaN  \n",
       "3  2015-12-20  2016-02-05     10100  137483.78  2935.20      NaN  \n",
       "4  2015-12-24  2016-02-12      1935   15527.25   429.20      NaN  "
      ]
     },
     "execution_count": 28,
     "metadata": {},
     "output_type": "execute_result"
    }
   ],
   "source": [
    "compras_2016.head()"
   ]
  },
  {
   "cell_type": "code",
   "execution_count": 30,
   "id": "2efb9e49",
   "metadata": {},
   "outputs": [
    {
     "name": "stdout",
     "output_type": "stream",
     "text": [
      "\n",
      "🔍 Revisión inicial de los datos:\n",
      "Forma del DataFrame (filas, columnas): (5543, 10)\n",
      "\n",
      "Valores faltantes por columna:\n",
      " VendorNumber       0\n",
      "VendorName         0\n",
      "InvoiceDate        0\n",
      "PONumber           0\n",
      "PODate             0\n",
      "PayDate            0\n",
      "Quantity           0\n",
      "Dollars            0\n",
      "Freight            0\n",
      "Approval        5169\n",
      "dtype: int64\n",
      "\n",
      "Total de filas duplicadas: 0\n"
     ]
    }
   ],
   "source": [
    "revisar_datos(compras_2016)"
   ]
  },
  {
   "cell_type": "code",
   "execution_count": 70,
   "id": "552f6408",
   "metadata": {},
   "outputs": [],
   "source": [
    "compras_2016.drop('Approval', axis=1, inplace=True)"
   ]
  },
  {
   "cell_type": "code",
   "execution_count": 71,
   "id": "4e95944a",
   "metadata": {},
   "outputs": [
    {
     "name": "stdout",
     "output_type": "stream",
     "text": [
      "\n",
      "🔍 Revisión inicial de los datos:\n",
      "Forma del DataFrame (filas, columnas): (5543, 9)\n",
      "\n",
      "Valores faltantes por columna:\n",
      " VendorNumber    0\n",
      "VendorName      0\n",
      "InvoiceDate     0\n",
      "PONumber        0\n",
      "PODate          0\n",
      "PayDate         0\n",
      "Quantity        0\n",
      "Dollars         0\n",
      "Freight         0\n",
      "dtype: int64\n",
      "\n",
      "Total de filas duplicadas: 0\n"
     ]
    }
   ],
   "source": [
    "revisar_datos(compras_2016)"
   ]
  },
  {
   "cell_type": "code",
   "execution_count": 76,
   "id": "13653ab2",
   "metadata": {},
   "outputs": [],
   "source": [
    "compras_2016.columns = [\"ProveedorId\",\"NombreProveedor\",\"fechaCompra\",\"PedidoId\",\"FechaPedido\",\"FechaPago\",\"Cantidad\",\"ValorFactura\", \"ValorEnvio\" ]"
   ]
  },
  {
   "cell_type": "code",
   "execution_count": 77,
   "id": "6afc8539",
   "metadata": {},
   "outputs": [
    {
     "data": {
      "application/vnd.microsoft.datawrangler.viewer.v0+json": {
       "columns": [
        {
         "name": "index",
         "rawType": "int64",
         "type": "integer"
        },
        {
         "name": "ProveedorId",
         "rawType": "int64",
         "type": "integer"
        },
        {
         "name": "NombreProveedor",
         "rawType": "object",
         "type": "string"
        },
        {
         "name": "fechaCompra",
         "rawType": "object",
         "type": "string"
        },
        {
         "name": "PedidoId",
         "rawType": "int64",
         "type": "integer"
        },
        {
         "name": "FechaPedido",
         "rawType": "object",
         "type": "string"
        },
        {
         "name": "FechaPago",
         "rawType": "object",
         "type": "string"
        },
        {
         "name": "Cantidad",
         "rawType": "int64",
         "type": "integer"
        },
        {
         "name": "ValorFactura",
         "rawType": "float64",
         "type": "float"
        },
        {
         "name": "ValorEnvio",
         "rawType": "float64",
         "type": "float"
        }
       ],
       "ref": "b888de10-ff3e-4c13-912a-629a6d753c05",
       "rows": [
        [
         "5538",
         "9622",
         "WEIN BAUER INC             ",
         "2017-01-06",
         "13626",
         "2016-12-21",
         "2017-02-10",
         "90",
         "1563.0",
         "8.6"
        ],
        [
         "5539",
         "9625",
         "WESTERN SPIRITS BEVERAGE CO",
         "2017-01-10",
         "13661",
         "2016-12-23",
         "2017-02-18",
         "4617",
         "37300.48",
         "186.5"
        ],
        [
         "5540",
         "3664",
         "WILLIAM GRANT & SONS INC   ",
         "2017-01-02",
         "13643",
         "2016-12-22",
         "2017-02-04",
         "9848",
         "202815.78",
         "932.95"
        ],
        [
         "5541",
         "9815",
         "WINE GROUP INC             ",
         "2017-01-03",
         "13602",
         "2016-12-20",
         "2017-02-08",
         "24747",
         "149007.56",
         "819.54"
        ],
        [
         "5542",
         "90058",
         "ZORVINO VINEYARDS          ",
         "2017-01-05",
         "13574",
         "2016-12-18",
         "2017-02-12",
         "437",
         "3608.11",
         "16.6"
        ]
       ],
       "shape": {
        "columns": 9,
        "rows": 5
       }
      },
      "text/html": [
       "<div>\n",
       "<style scoped>\n",
       "    .dataframe tbody tr th:only-of-type {\n",
       "        vertical-align: middle;\n",
       "    }\n",
       "\n",
       "    .dataframe tbody tr th {\n",
       "        vertical-align: top;\n",
       "    }\n",
       "\n",
       "    .dataframe thead th {\n",
       "        text-align: right;\n",
       "    }\n",
       "</style>\n",
       "<table border=\"1\" class=\"dataframe\">\n",
       "  <thead>\n",
       "    <tr style=\"text-align: right;\">\n",
       "      <th></th>\n",
       "      <th>ProveedorId</th>\n",
       "      <th>NombreProveedor</th>\n",
       "      <th>fechaCompra</th>\n",
       "      <th>PedidoId</th>\n",
       "      <th>FechaPedido</th>\n",
       "      <th>FechaPago</th>\n",
       "      <th>Cantidad</th>\n",
       "      <th>ValorFactura</th>\n",
       "      <th>ValorEnvio</th>\n",
       "    </tr>\n",
       "  </thead>\n",
       "  <tbody>\n",
       "    <tr>\n",
       "      <th>5538</th>\n",
       "      <td>9622</td>\n",
       "      <td>WEIN BAUER INC</td>\n",
       "      <td>2017-01-06</td>\n",
       "      <td>13626</td>\n",
       "      <td>2016-12-21</td>\n",
       "      <td>2017-02-10</td>\n",
       "      <td>90</td>\n",
       "      <td>1563.00</td>\n",
       "      <td>8.60</td>\n",
       "    </tr>\n",
       "    <tr>\n",
       "      <th>5539</th>\n",
       "      <td>9625</td>\n",
       "      <td>WESTERN SPIRITS BEVERAGE CO</td>\n",
       "      <td>2017-01-10</td>\n",
       "      <td>13661</td>\n",
       "      <td>2016-12-23</td>\n",
       "      <td>2017-02-18</td>\n",
       "      <td>4617</td>\n",
       "      <td>37300.48</td>\n",
       "      <td>186.50</td>\n",
       "    </tr>\n",
       "    <tr>\n",
       "      <th>5540</th>\n",
       "      <td>3664</td>\n",
       "      <td>WILLIAM GRANT &amp; SONS INC</td>\n",
       "      <td>2017-01-02</td>\n",
       "      <td>13643</td>\n",
       "      <td>2016-12-22</td>\n",
       "      <td>2017-02-04</td>\n",
       "      <td>9848</td>\n",
       "      <td>202815.78</td>\n",
       "      <td>932.95</td>\n",
       "    </tr>\n",
       "    <tr>\n",
       "      <th>5541</th>\n",
       "      <td>9815</td>\n",
       "      <td>WINE GROUP INC</td>\n",
       "      <td>2017-01-03</td>\n",
       "      <td>13602</td>\n",
       "      <td>2016-12-20</td>\n",
       "      <td>2017-02-08</td>\n",
       "      <td>24747</td>\n",
       "      <td>149007.56</td>\n",
       "      <td>819.54</td>\n",
       "    </tr>\n",
       "    <tr>\n",
       "      <th>5542</th>\n",
       "      <td>90058</td>\n",
       "      <td>ZORVINO VINEYARDS</td>\n",
       "      <td>2017-01-05</td>\n",
       "      <td>13574</td>\n",
       "      <td>2016-12-18</td>\n",
       "      <td>2017-02-12</td>\n",
       "      <td>437</td>\n",
       "      <td>3608.11</td>\n",
       "      <td>16.60</td>\n",
       "    </tr>\n",
       "  </tbody>\n",
       "</table>\n",
       "</div>"
      ],
      "text/plain": [
       "      ProveedorId              NombreProveedor fechaCompra  PedidoId  \\\n",
       "5538         9622  WEIN BAUER INC               2017-01-06     13626   \n",
       "5539         9625  WESTERN SPIRITS BEVERAGE CO  2017-01-10     13661   \n",
       "5540         3664  WILLIAM GRANT & SONS INC     2017-01-02     13643   \n",
       "5541         9815  WINE GROUP INC               2017-01-03     13602   \n",
       "5542        90058  ZORVINO VINEYARDS            2017-01-05     13574   \n",
       "\n",
       "     FechaPedido   FechaPago  Cantidad  ValorFactura  ValorEnvio  \n",
       "5538  2016-12-21  2017-02-10        90       1563.00        8.60  \n",
       "5539  2016-12-23  2017-02-18      4617      37300.48      186.50  \n",
       "5540  2016-12-22  2017-02-04      9848     202815.78      932.95  \n",
       "5541  2016-12-20  2017-02-08     24747     149007.56      819.54  \n",
       "5542  2016-12-18  2017-02-12       437       3608.11       16.60  "
      ]
     },
     "execution_count": 77,
     "metadata": {},
     "output_type": "execute_result"
    }
   ],
   "source": [
    "compras_2016.tail()"
   ]
  },
  {
   "cell_type": "markdown",
   "id": "e12a3166",
   "metadata": {},
   "source": [
    "## Detalles de Compras"
   ]
  },
  {
   "cell_type": "code",
   "execution_count": 81,
   "id": "7fb7e878",
   "metadata": {},
   "outputs": [],
   "source": [
    "detalles_compras_2016=pd.read_csv('D:\\DATOS\\Desktop\\data base\\PurchasesFINAL12312016.csv',sep=',')"
   ]
  },
  {
   "cell_type": "code",
   "execution_count": 82,
   "id": "4b1a7a25",
   "metadata": {},
   "outputs": [
    {
     "data": {
      "application/vnd.microsoft.datawrangler.viewer.v0+json": {
       "columns": [
        {
         "name": "index",
         "rawType": "int64",
         "type": "integer"
        },
        {
         "name": "InventoryId",
         "rawType": "object",
         "type": "string"
        },
        {
         "name": "Store",
         "rawType": "int64",
         "type": "integer"
        },
        {
         "name": "Brand",
         "rawType": "int64",
         "type": "integer"
        },
        {
         "name": "Description",
         "rawType": "object",
         "type": "string"
        },
        {
         "name": "Size",
         "rawType": "object",
         "type": "string"
        },
        {
         "name": "VendorNumber",
         "rawType": "int64",
         "type": "integer"
        },
        {
         "name": "VendorName",
         "rawType": "object",
         "type": "string"
        },
        {
         "name": "PONumber",
         "rawType": "int64",
         "type": "integer"
        },
        {
         "name": "PODate",
         "rawType": "object",
         "type": "string"
        },
        {
         "name": "ReceivingDate",
         "rawType": "object",
         "type": "string"
        },
        {
         "name": "InvoiceDate",
         "rawType": "object",
         "type": "string"
        },
        {
         "name": "PayDate",
         "rawType": "object",
         "type": "string"
        },
        {
         "name": "PurchasePrice",
         "rawType": "float64",
         "type": "float"
        },
        {
         "name": "Quantity",
         "rawType": "int64",
         "type": "integer"
        },
        {
         "name": "Dollars",
         "rawType": "float64",
         "type": "float"
        },
        {
         "name": "Classification",
         "rawType": "int64",
         "type": "integer"
        }
       ],
       "ref": "9b5c4ea2-6edb-434b-be39-4a74af3878d5",
       "rows": [
        [
         "0",
         "69_MOUNTMEND_8412",
         "69",
         "8412",
         "Tequila Ocho Plata Fresno",
         "750mL",
         "105",
         "ALTAMAR BRANDS LLC         ",
         "8124",
         "2015-12-21",
         "2016-01-02",
         "2016-01-04",
         "2016-02-16",
         "35.71",
         "6",
         "214.26",
         "1"
        ],
        [
         "1",
         "30_CULCHETH_5255",
         "30",
         "5255",
         "TGI Fridays Ultimte Mudslide",
         "1.75L",
         "4466",
         "AMERICAN VINTAGE BEVERAGE  ",
         "8137",
         "2015-12-22",
         "2016-01-01",
         "2016-01-07",
         "2016-02-21",
         "9.35",
         "4",
         "37.4",
         "1"
        ],
        [
         "2",
         "34_PITMERDEN_5215",
         "34",
         "5215",
         "TGI Fridays Long Island Iced",
         "1.75L",
         "4466",
         "AMERICAN VINTAGE BEVERAGE  ",
         "8137",
         "2015-12-22",
         "2016-01-02",
         "2016-01-07",
         "2016-02-21",
         "9.41",
         "5",
         "47.05",
         "1"
        ],
        [
         "3",
         "1_HARDERSFIELD_5255",
         "1",
         "5255",
         "TGI Fridays Ultimte Mudslide",
         "1.75L",
         "4466",
         "AMERICAN VINTAGE BEVERAGE  ",
         "8137",
         "2015-12-22",
         "2016-01-01",
         "2016-01-07",
         "2016-02-21",
         "9.35",
         "6",
         "56.1",
         "1"
        ],
        [
         "4",
         "76_DONCASTER_2034",
         "76",
         "2034",
         "Glendalough Double Barrel",
         "750mL",
         "388",
         "ATLANTIC IMPORTING COMPANY ",
         "8169",
         "2015-12-24",
         "2016-01-02",
         "2016-01-09",
         "2016-02-16",
         "21.32",
         "5",
         "106.6",
         "1"
        ]
       ],
       "shape": {
        "columns": 16,
        "rows": 5
       }
      },
      "text/html": [
       "<div>\n",
       "<style scoped>\n",
       "    .dataframe tbody tr th:only-of-type {\n",
       "        vertical-align: middle;\n",
       "    }\n",
       "\n",
       "    .dataframe tbody tr th {\n",
       "        vertical-align: top;\n",
       "    }\n",
       "\n",
       "    .dataframe thead th {\n",
       "        text-align: right;\n",
       "    }\n",
       "</style>\n",
       "<table border=\"1\" class=\"dataframe\">\n",
       "  <thead>\n",
       "    <tr style=\"text-align: right;\">\n",
       "      <th></th>\n",
       "      <th>InventoryId</th>\n",
       "      <th>Store</th>\n",
       "      <th>Brand</th>\n",
       "      <th>Description</th>\n",
       "      <th>Size</th>\n",
       "      <th>VendorNumber</th>\n",
       "      <th>VendorName</th>\n",
       "      <th>PONumber</th>\n",
       "      <th>PODate</th>\n",
       "      <th>ReceivingDate</th>\n",
       "      <th>InvoiceDate</th>\n",
       "      <th>PayDate</th>\n",
       "      <th>PurchasePrice</th>\n",
       "      <th>Quantity</th>\n",
       "      <th>Dollars</th>\n",
       "      <th>Classification</th>\n",
       "    </tr>\n",
       "  </thead>\n",
       "  <tbody>\n",
       "    <tr>\n",
       "      <th>0</th>\n",
       "      <td>69_MOUNTMEND_8412</td>\n",
       "      <td>69</td>\n",
       "      <td>8412</td>\n",
       "      <td>Tequila Ocho Plata Fresno</td>\n",
       "      <td>750mL</td>\n",
       "      <td>105</td>\n",
       "      <td>ALTAMAR BRANDS LLC</td>\n",
       "      <td>8124</td>\n",
       "      <td>2015-12-21</td>\n",
       "      <td>2016-01-02</td>\n",
       "      <td>2016-01-04</td>\n",
       "      <td>2016-02-16</td>\n",
       "      <td>35.71</td>\n",
       "      <td>6</td>\n",
       "      <td>214.26</td>\n",
       "      <td>1</td>\n",
       "    </tr>\n",
       "    <tr>\n",
       "      <th>1</th>\n",
       "      <td>30_CULCHETH_5255</td>\n",
       "      <td>30</td>\n",
       "      <td>5255</td>\n",
       "      <td>TGI Fridays Ultimte Mudslide</td>\n",
       "      <td>1.75L</td>\n",
       "      <td>4466</td>\n",
       "      <td>AMERICAN VINTAGE BEVERAGE</td>\n",
       "      <td>8137</td>\n",
       "      <td>2015-12-22</td>\n",
       "      <td>2016-01-01</td>\n",
       "      <td>2016-01-07</td>\n",
       "      <td>2016-02-21</td>\n",
       "      <td>9.35</td>\n",
       "      <td>4</td>\n",
       "      <td>37.40</td>\n",
       "      <td>1</td>\n",
       "    </tr>\n",
       "    <tr>\n",
       "      <th>2</th>\n",
       "      <td>34_PITMERDEN_5215</td>\n",
       "      <td>34</td>\n",
       "      <td>5215</td>\n",
       "      <td>TGI Fridays Long Island Iced</td>\n",
       "      <td>1.75L</td>\n",
       "      <td>4466</td>\n",
       "      <td>AMERICAN VINTAGE BEVERAGE</td>\n",
       "      <td>8137</td>\n",
       "      <td>2015-12-22</td>\n",
       "      <td>2016-01-02</td>\n",
       "      <td>2016-01-07</td>\n",
       "      <td>2016-02-21</td>\n",
       "      <td>9.41</td>\n",
       "      <td>5</td>\n",
       "      <td>47.05</td>\n",
       "      <td>1</td>\n",
       "    </tr>\n",
       "    <tr>\n",
       "      <th>3</th>\n",
       "      <td>1_HARDERSFIELD_5255</td>\n",
       "      <td>1</td>\n",
       "      <td>5255</td>\n",
       "      <td>TGI Fridays Ultimte Mudslide</td>\n",
       "      <td>1.75L</td>\n",
       "      <td>4466</td>\n",
       "      <td>AMERICAN VINTAGE BEVERAGE</td>\n",
       "      <td>8137</td>\n",
       "      <td>2015-12-22</td>\n",
       "      <td>2016-01-01</td>\n",
       "      <td>2016-01-07</td>\n",
       "      <td>2016-02-21</td>\n",
       "      <td>9.35</td>\n",
       "      <td>6</td>\n",
       "      <td>56.10</td>\n",
       "      <td>1</td>\n",
       "    </tr>\n",
       "    <tr>\n",
       "      <th>4</th>\n",
       "      <td>76_DONCASTER_2034</td>\n",
       "      <td>76</td>\n",
       "      <td>2034</td>\n",
       "      <td>Glendalough Double Barrel</td>\n",
       "      <td>750mL</td>\n",
       "      <td>388</td>\n",
       "      <td>ATLANTIC IMPORTING COMPANY</td>\n",
       "      <td>8169</td>\n",
       "      <td>2015-12-24</td>\n",
       "      <td>2016-01-02</td>\n",
       "      <td>2016-01-09</td>\n",
       "      <td>2016-02-16</td>\n",
       "      <td>21.32</td>\n",
       "      <td>5</td>\n",
       "      <td>106.60</td>\n",
       "      <td>1</td>\n",
       "    </tr>\n",
       "  </tbody>\n",
       "</table>\n",
       "</div>"
      ],
      "text/plain": [
       "           InventoryId  Store  Brand                   Description   Size  \\\n",
       "0    69_MOUNTMEND_8412     69   8412     Tequila Ocho Plata Fresno  750mL   \n",
       "1     30_CULCHETH_5255     30   5255  TGI Fridays Ultimte Mudslide  1.75L   \n",
       "2    34_PITMERDEN_5215     34   5215  TGI Fridays Long Island Iced  1.75L   \n",
       "3  1_HARDERSFIELD_5255      1   5255  TGI Fridays Ultimte Mudslide  1.75L   \n",
       "4    76_DONCASTER_2034     76   2034     Glendalough Double Barrel  750mL   \n",
       "\n",
       "   VendorNumber                   VendorName  PONumber      PODate  \\\n",
       "0           105  ALTAMAR BRANDS LLC               8124  2015-12-21   \n",
       "1          4466  AMERICAN VINTAGE BEVERAGE        8137  2015-12-22   \n",
       "2          4466  AMERICAN VINTAGE BEVERAGE        8137  2015-12-22   \n",
       "3          4466  AMERICAN VINTAGE BEVERAGE        8137  2015-12-22   \n",
       "4           388  ATLANTIC IMPORTING COMPANY       8169  2015-12-24   \n",
       "\n",
       "  ReceivingDate InvoiceDate     PayDate  PurchasePrice  Quantity  Dollars  \\\n",
       "0    2016-01-02  2016-01-04  2016-02-16          35.71         6   214.26   \n",
       "1    2016-01-01  2016-01-07  2016-02-21           9.35         4    37.40   \n",
       "2    2016-01-02  2016-01-07  2016-02-21           9.41         5    47.05   \n",
       "3    2016-01-01  2016-01-07  2016-02-21           9.35         6    56.10   \n",
       "4    2016-01-02  2016-01-09  2016-02-16          21.32         5   106.60   \n",
       "\n",
       "   Classification  \n",
       "0               1  \n",
       "1               1  \n",
       "2               1  \n",
       "3               1  \n",
       "4               1  "
      ]
     },
     "execution_count": 82,
     "metadata": {},
     "output_type": "execute_result"
    }
   ],
   "source": [
    "detalles_compras_2016.head()"
   ]
  },
  {
   "cell_type": "code",
   "execution_count": null,
   "id": "a6ff3095",
   "metadata": {},
   "outputs": [
    {
     "name": "stdout",
     "output_type": "stream",
     "text": [
      "\n",
      "🔍 Revisión inicial de los datos:\n",
      "Forma del DataFrame (filas, columnas): (2372474, 16)\n",
      "\n",
      "Valores faltantes por columna:\n",
      " InventoryId       0\n",
      "Store             0\n",
      "Brand             0\n",
      "Description       0\n",
      "Size              3\n",
      "VendorNumber      0\n",
      "VendorName        0\n",
      "PONumber          0\n",
      "PODate            0\n",
      "ReceivingDate     0\n",
      "InvoiceDate       0\n",
      "PayDate           0\n",
      "PurchasePrice     0\n",
      "Quantity          0\n",
      "Dollars           0\n",
      "Classification    0\n",
      "dtype: int64\n",
      "\n",
      "Total de filas duplicadas: 0\n"
     ]
    }
   ],
   "source": [
    "revisar_datos(detalles_compras_2016)"
   ]
  },
  {
   "cell_type": "code",
   "execution_count": 84,
   "id": "ca3ff047",
   "metadata": {},
   "outputs": [],
   "source": [
    "detalles_compras_2016['Size'].fillna(750, inplace=True)"
   ]
  },
  {
   "cell_type": "code",
   "execution_count": 85,
   "id": "da0ca9e3",
   "metadata": {},
   "outputs": [
    {
     "name": "stdout",
     "output_type": "stream",
     "text": [
      "\n",
      "🔍 Revisión inicial de los datos:\n",
      "Forma del DataFrame (filas, columnas): (2372474, 16)\n",
      "\n",
      "Valores faltantes por columna:\n",
      " InventoryId       0\n",
      "Store             0\n",
      "Brand             0\n",
      "Description       0\n",
      "Size              0\n",
      "VendorNumber      0\n",
      "VendorName        0\n",
      "PONumber          0\n",
      "PODate            0\n",
      "ReceivingDate     0\n",
      "InvoiceDate       0\n",
      "PayDate           0\n",
      "PurchasePrice     0\n",
      "Quantity          0\n",
      "Dollars           0\n",
      "Classification    0\n",
      "dtype: int64\n",
      "\n",
      "Total de filas duplicadas: 0\n"
     ]
    }
   ],
   "source": [
    "revisar_datos(detalles_compras_2016)"
   ]
  },
  {
   "cell_type": "code",
   "execution_count": 86,
   "id": "cdbe8d32",
   "metadata": {},
   "outputs": [],
   "source": [
    "detalles_compras_2016.columns = [\"InventarioID\",\"Tienda\",\"ProductoID\",\"NombreProducto\",\"Tamaño\",\"ProveedorId\",\"NombreProveedor\",\"PedidoId\",\"FechaPedido\",\"FechaRecibido\",\"FechaFactura\",\"FechaPago\",\"PrecioUnitario\",\"Cantidad\", \"PrecioTotal\",\"Clasificación\" ]"
   ]
  },
  {
   "cell_type": "code",
   "execution_count": 87,
   "id": "85595450",
   "metadata": {},
   "outputs": [
    {
     "data": {
      "application/vnd.microsoft.datawrangler.viewer.v0+json": {
       "columns": [
        {
         "name": "index",
         "rawType": "int64",
         "type": "integer"
        },
        {
         "name": "InventarioID",
         "rawType": "object",
         "type": "string"
        },
        {
         "name": "Tienda",
         "rawType": "int64",
         "type": "integer"
        },
        {
         "name": "ProductoID",
         "rawType": "int64",
         "type": "integer"
        },
        {
         "name": "NombreProducto",
         "rawType": "object",
         "type": "string"
        },
        {
         "name": "Tamaño",
         "rawType": "object",
         "type": "string"
        },
        {
         "name": "ProveedorId",
         "rawType": "int64",
         "type": "integer"
        },
        {
         "name": "NombreProveedor",
         "rawType": "object",
         "type": "string"
        },
        {
         "name": "PedidoId",
         "rawType": "int64",
         "type": "integer"
        },
        {
         "name": "FechaPedido",
         "rawType": "object",
         "type": "string"
        },
        {
         "name": "FechaRecibido",
         "rawType": "object",
         "type": "string"
        },
        {
         "name": "FechaFactura",
         "rawType": "object",
         "type": "string"
        },
        {
         "name": "FechaPago",
         "rawType": "object",
         "type": "string"
        },
        {
         "name": "PrecioUnitario",
         "rawType": "float64",
         "type": "float"
        },
        {
         "name": "Cantidad",
         "rawType": "int64",
         "type": "integer"
        },
        {
         "name": "PrecioTotal",
         "rawType": "float64",
         "type": "float"
        },
        {
         "name": "Clasificación",
         "rawType": "int64",
         "type": "integer"
        }
       ],
       "ref": "391edeae-1f35-4cbc-8c65-c2d733e9c5ed",
       "rows": [
        [
         "2372469",
         "49_GARIGILL_22298",
         "49",
         "22298",
         "Zorvino Vyds Sangiovese",
         "750mL",
         "90058",
         "ZORVINO VINEYARDS          ",
         "13593",
         "2016-12-19",
         "2016-12-28",
         "2017-01-09",
         "2017-02-06",
         "8.06",
         "12",
         "96.72",
         "2"
        ],
        [
         "2372470",
         "1_HARDERSFIELD_19556",
         "1",
         "19556",
         "Zorvino Bacca Z Blackberry",
         "750mL",
         "90058",
         "ZORVINO VINEYARDS          ",
         "13593",
         "2016-12-19",
         "2016-12-27",
         "2017-01-09",
         "2017-02-06",
         "9.39",
         "12",
         "112.68",
         "2"
        ],
        [
         "2372471",
         "66_EANVERNESS_22297",
         "66",
         "22297",
         "Zorvino Vyds Pearz",
         "750mL",
         "90058",
         "ZORVINO VINEYARDS          ",
         "13593",
         "2016-12-19",
         "2016-12-26",
         "2017-01-09",
         "2017-02-06",
         "6.75",
         "12",
         "81.0",
         "2"
        ],
        [
         "2372472",
         "69_MOUNTMEND_19557",
         "69",
         "19557",
         "Zorvino Fragole Z Strawberry",
         "750mL",
         "90058",
         "ZORVINO VINEYARDS          ",
         "13593",
         "2016-12-19",
         "2016-12-26",
         "2017-01-09",
         "2017-02-06",
         "9.39",
         "12",
         "112.68",
         "2"
        ],
        [
         "2372473",
         "55_DRY GULCH_22298",
         "55",
         "22298",
         "Zorvino Vyds Sangiovese",
         "750mL",
         "90058",
         "ZORVINO VINEYARDS          ",
         "13593",
         "2016-12-19",
         "2016-12-28",
         "2017-01-09",
         "2017-02-06",
         "8.06",
         "12",
         "96.72",
         "2"
        ]
       ],
       "shape": {
        "columns": 16,
        "rows": 5
       }
      },
      "text/html": [
       "<div>\n",
       "<style scoped>\n",
       "    .dataframe tbody tr th:only-of-type {\n",
       "        vertical-align: middle;\n",
       "    }\n",
       "\n",
       "    .dataframe tbody tr th {\n",
       "        vertical-align: top;\n",
       "    }\n",
       "\n",
       "    .dataframe thead th {\n",
       "        text-align: right;\n",
       "    }\n",
       "</style>\n",
       "<table border=\"1\" class=\"dataframe\">\n",
       "  <thead>\n",
       "    <tr style=\"text-align: right;\">\n",
       "      <th></th>\n",
       "      <th>InventarioID</th>\n",
       "      <th>Tienda</th>\n",
       "      <th>ProductoID</th>\n",
       "      <th>NombreProducto</th>\n",
       "      <th>Tamaño</th>\n",
       "      <th>ProveedorId</th>\n",
       "      <th>NombreProveedor</th>\n",
       "      <th>PedidoId</th>\n",
       "      <th>FechaPedido</th>\n",
       "      <th>FechaRecibido</th>\n",
       "      <th>FechaFactura</th>\n",
       "      <th>FechaPago</th>\n",
       "      <th>PrecioUnitario</th>\n",
       "      <th>Cantidad</th>\n",
       "      <th>PrecioTotal</th>\n",
       "      <th>Clasificación</th>\n",
       "    </tr>\n",
       "  </thead>\n",
       "  <tbody>\n",
       "    <tr>\n",
       "      <th>2372469</th>\n",
       "      <td>49_GARIGILL_22298</td>\n",
       "      <td>49</td>\n",
       "      <td>22298</td>\n",
       "      <td>Zorvino Vyds Sangiovese</td>\n",
       "      <td>750mL</td>\n",
       "      <td>90058</td>\n",
       "      <td>ZORVINO VINEYARDS</td>\n",
       "      <td>13593</td>\n",
       "      <td>2016-12-19</td>\n",
       "      <td>2016-12-28</td>\n",
       "      <td>2017-01-09</td>\n",
       "      <td>2017-02-06</td>\n",
       "      <td>8.06</td>\n",
       "      <td>12</td>\n",
       "      <td>96.72</td>\n",
       "      <td>2</td>\n",
       "    </tr>\n",
       "    <tr>\n",
       "      <th>2372470</th>\n",
       "      <td>1_HARDERSFIELD_19556</td>\n",
       "      <td>1</td>\n",
       "      <td>19556</td>\n",
       "      <td>Zorvino Bacca Z Blackberry</td>\n",
       "      <td>750mL</td>\n",
       "      <td>90058</td>\n",
       "      <td>ZORVINO VINEYARDS</td>\n",
       "      <td>13593</td>\n",
       "      <td>2016-12-19</td>\n",
       "      <td>2016-12-27</td>\n",
       "      <td>2017-01-09</td>\n",
       "      <td>2017-02-06</td>\n",
       "      <td>9.39</td>\n",
       "      <td>12</td>\n",
       "      <td>112.68</td>\n",
       "      <td>2</td>\n",
       "    </tr>\n",
       "    <tr>\n",
       "      <th>2372471</th>\n",
       "      <td>66_EANVERNESS_22297</td>\n",
       "      <td>66</td>\n",
       "      <td>22297</td>\n",
       "      <td>Zorvino Vyds Pearz</td>\n",
       "      <td>750mL</td>\n",
       "      <td>90058</td>\n",
       "      <td>ZORVINO VINEYARDS</td>\n",
       "      <td>13593</td>\n",
       "      <td>2016-12-19</td>\n",
       "      <td>2016-12-26</td>\n",
       "      <td>2017-01-09</td>\n",
       "      <td>2017-02-06</td>\n",
       "      <td>6.75</td>\n",
       "      <td>12</td>\n",
       "      <td>81.00</td>\n",
       "      <td>2</td>\n",
       "    </tr>\n",
       "    <tr>\n",
       "      <th>2372472</th>\n",
       "      <td>69_MOUNTMEND_19557</td>\n",
       "      <td>69</td>\n",
       "      <td>19557</td>\n",
       "      <td>Zorvino Fragole Z Strawberry</td>\n",
       "      <td>750mL</td>\n",
       "      <td>90058</td>\n",
       "      <td>ZORVINO VINEYARDS</td>\n",
       "      <td>13593</td>\n",
       "      <td>2016-12-19</td>\n",
       "      <td>2016-12-26</td>\n",
       "      <td>2017-01-09</td>\n",
       "      <td>2017-02-06</td>\n",
       "      <td>9.39</td>\n",
       "      <td>12</td>\n",
       "      <td>112.68</td>\n",
       "      <td>2</td>\n",
       "    </tr>\n",
       "    <tr>\n",
       "      <th>2372473</th>\n",
       "      <td>55_DRY GULCH_22298</td>\n",
       "      <td>55</td>\n",
       "      <td>22298</td>\n",
       "      <td>Zorvino Vyds Sangiovese</td>\n",
       "      <td>750mL</td>\n",
       "      <td>90058</td>\n",
       "      <td>ZORVINO VINEYARDS</td>\n",
       "      <td>13593</td>\n",
       "      <td>2016-12-19</td>\n",
       "      <td>2016-12-28</td>\n",
       "      <td>2017-01-09</td>\n",
       "      <td>2017-02-06</td>\n",
       "      <td>8.06</td>\n",
       "      <td>12</td>\n",
       "      <td>96.72</td>\n",
       "      <td>2</td>\n",
       "    </tr>\n",
       "  </tbody>\n",
       "</table>\n",
       "</div>"
      ],
      "text/plain": [
       "                 InventarioID  Tienda  ProductoID  \\\n",
       "2372469     49_GARIGILL_22298      49       22298   \n",
       "2372470  1_HARDERSFIELD_19556       1       19556   \n",
       "2372471   66_EANVERNESS_22297      66       22297   \n",
       "2372472    69_MOUNTMEND_19557      69       19557   \n",
       "2372473    55_DRY GULCH_22298      55       22298   \n",
       "\n",
       "                       NombreProducto Tamaño  ProveedorId  \\\n",
       "2372469       Zorvino Vyds Sangiovese  750mL        90058   \n",
       "2372470    Zorvino Bacca Z Blackberry  750mL        90058   \n",
       "2372471            Zorvino Vyds Pearz  750mL        90058   \n",
       "2372472  Zorvino Fragole Z Strawberry  750mL        90058   \n",
       "2372473       Zorvino Vyds Sangiovese  750mL        90058   \n",
       "\n",
       "                     NombreProveedor  PedidoId FechaPedido FechaRecibido  \\\n",
       "2372469  ZORVINO VINEYARDS               13593  2016-12-19    2016-12-28   \n",
       "2372470  ZORVINO VINEYARDS               13593  2016-12-19    2016-12-27   \n",
       "2372471  ZORVINO VINEYARDS               13593  2016-12-19    2016-12-26   \n",
       "2372472  ZORVINO VINEYARDS               13593  2016-12-19    2016-12-26   \n",
       "2372473  ZORVINO VINEYARDS               13593  2016-12-19    2016-12-28   \n",
       "\n",
       "        FechaFactura   FechaPago  PrecioUnitario  Cantidad  PrecioTotal  \\\n",
       "2372469   2017-01-09  2017-02-06            8.06        12        96.72   \n",
       "2372470   2017-01-09  2017-02-06            9.39        12       112.68   \n",
       "2372471   2017-01-09  2017-02-06            6.75        12        81.00   \n",
       "2372472   2017-01-09  2017-02-06            9.39        12       112.68   \n",
       "2372473   2017-01-09  2017-02-06            8.06        12        96.72   \n",
       "\n",
       "         Clasificación  \n",
       "2372469              2  \n",
       "2372470              2  \n",
       "2372471              2  \n",
       "2372472              2  \n",
       "2372473              2  "
      ]
     },
     "execution_count": 87,
     "metadata": {},
     "output_type": "execute_result"
    }
   ],
   "source": [
    "detalles_compras_2016.tail()"
   ]
  }
 ],
 "metadata": {
  "kernelspec": {
   "display_name": "base",
   "language": "python",
   "name": "python3"
  },
  "language_info": {
   "codemirror_mode": {
    "name": "ipython",
    "version": 3
   },
   "file_extension": ".py",
   "mimetype": "text/x-python",
   "name": "python",
   "nbconvert_exporter": "python",
   "pygments_lexer": "ipython3",
   "version": "3.11.5"
  }
 },
 "nbformat": 4,
 "nbformat_minor": 5
}
