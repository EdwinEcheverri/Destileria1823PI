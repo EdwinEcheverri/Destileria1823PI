{
 "cells": [
  {
   "cell_type": "markdown",
   "id": "be638237",
   "metadata": {},
   "source": [
    "    Analisís exploratorio"
   ]
  },
  {
   "cell_type": "markdown",
   "id": "753143f1",
   "metadata": {},
   "source": [
    "Importando librerias "
   ]
  },
  {
   "cell_type": "code",
   "execution_count": 3,
   "id": "a7e478e4",
   "metadata": {},
   "outputs": [],
   "source": [
    "import numpy as np  # Para operaciones matemáticas y arreglos numéricos\n",
    "import pandas as pd  # Para manejar y analizar datos en formato tabular\n",
    "import matplotlib.pyplot as plt  # Para crear gráficos y visualizaciones estáticas\n",
    "import seaborn as sns  # Para crear gráficos estadísticos con estilo mejorado y más atractivo"
   ]
  },
  {
   "cell_type": "markdown",
   "id": "e45fadf9",
   "metadata": {},
   "source": [
    "Carga de datos y visualización de tablas"
   ]
  },
  {
   "cell_type": "code",
   "execution_count": 8,
   "id": "c0c194d4",
   "metadata": {},
   "outputs": [
    {
     "data": {
      "application/vnd.microsoft.datawrangler.viewer.v0+json": {
       "columns": [
        {
         "name": "index",
         "rawType": "int64",
         "type": "integer"
        },
        {
         "name": "Brand",
         "rawType": "int64",
         "type": "integer"
        },
        {
         "name": "Description",
         "rawType": "object",
         "type": "string"
        },
        {
         "name": "Price",
         "rawType": "float64",
         "type": "float"
        },
        {
         "name": "Size",
         "rawType": "object",
         "type": "string"
        },
        {
         "name": "Volume",
         "rawType": "object",
         "type": "string"
        },
        {
         "name": "Classification",
         "rawType": "int64",
         "type": "integer"
        },
        {
         "name": "PurchasePrice",
         "rawType": "float64",
         "type": "float"
        },
        {
         "name": "VendorNumber",
         "rawType": "int64",
         "type": "integer"
        },
        {
         "name": "VendorName",
         "rawType": "object",
         "type": "string"
        }
       ],
       "ref": "6bd06d52-adfa-487f-9a05-a7d4f697df54",
       "rows": [
        [
         "0",
         "58",
         "Gekkeikan Black & Gold Sake",
         "12.99",
         "750mL",
         "750",
         "1",
         "9.28",
         "8320",
         "SHAW ROSS INT L IMP LTD    "
        ],
        [
         "1",
         "62",
         "Herradura Silver Tequila",
         "36.99",
         "750mL",
         "750",
         "1",
         "28.67",
         "1128",
         "BROWN-FORMAN CORP          "
        ],
        [
         "2",
         "63",
         "Herradura Reposado Tequila",
         "38.99",
         "750mL",
         "750",
         "1",
         "30.46",
         "1128",
         "BROWN-FORMAN CORP          "
        ],
        [
         "3",
         "72",
         "No. 3 London Dry Gin",
         "34.99",
         "750mL",
         "750",
         "1",
         "26.11",
         "9165",
         "ULTRA BEVERAGE COMPANY LLP "
        ],
        [
         "4",
         "75",
         "Three Olives Tomato Vodka",
         "14.99",
         "750mL",
         "750",
         "1",
         "10.94",
         "7245",
         "PROXIMO SPIRITS INC.       "
        ]
       ],
       "shape": {
        "columns": 9,
        "rows": 5
       }
      },
      "text/html": [
       "<div>\n",
       "<style scoped>\n",
       "    .dataframe tbody tr th:only-of-type {\n",
       "        vertical-align: middle;\n",
       "    }\n",
       "\n",
       "    .dataframe tbody tr th {\n",
       "        vertical-align: top;\n",
       "    }\n",
       "\n",
       "    .dataframe thead th {\n",
       "        text-align: right;\n",
       "    }\n",
       "</style>\n",
       "<table border=\"1\" class=\"dataframe\">\n",
       "  <thead>\n",
       "    <tr style=\"text-align: right;\">\n",
       "      <th></th>\n",
       "      <th>Brand</th>\n",
       "      <th>Description</th>\n",
       "      <th>Price</th>\n",
       "      <th>Size</th>\n",
       "      <th>Volume</th>\n",
       "      <th>Classification</th>\n",
       "      <th>PurchasePrice</th>\n",
       "      <th>VendorNumber</th>\n",
       "      <th>VendorName</th>\n",
       "    </tr>\n",
       "  </thead>\n",
       "  <tbody>\n",
       "    <tr>\n",
       "      <th>0</th>\n",
       "      <td>58</td>\n",
       "      <td>Gekkeikan Black &amp; Gold Sake</td>\n",
       "      <td>12.99</td>\n",
       "      <td>750mL</td>\n",
       "      <td>750</td>\n",
       "      <td>1</td>\n",
       "      <td>9.28</td>\n",
       "      <td>8320</td>\n",
       "      <td>SHAW ROSS INT L IMP LTD</td>\n",
       "    </tr>\n",
       "    <tr>\n",
       "      <th>1</th>\n",
       "      <td>62</td>\n",
       "      <td>Herradura Silver Tequila</td>\n",
       "      <td>36.99</td>\n",
       "      <td>750mL</td>\n",
       "      <td>750</td>\n",
       "      <td>1</td>\n",
       "      <td>28.67</td>\n",
       "      <td>1128</td>\n",
       "      <td>BROWN-FORMAN CORP</td>\n",
       "    </tr>\n",
       "    <tr>\n",
       "      <th>2</th>\n",
       "      <td>63</td>\n",
       "      <td>Herradura Reposado Tequila</td>\n",
       "      <td>38.99</td>\n",
       "      <td>750mL</td>\n",
       "      <td>750</td>\n",
       "      <td>1</td>\n",
       "      <td>30.46</td>\n",
       "      <td>1128</td>\n",
       "      <td>BROWN-FORMAN CORP</td>\n",
       "    </tr>\n",
       "    <tr>\n",
       "      <th>3</th>\n",
       "      <td>72</td>\n",
       "      <td>No. 3 London Dry Gin</td>\n",
       "      <td>34.99</td>\n",
       "      <td>750mL</td>\n",
       "      <td>750</td>\n",
       "      <td>1</td>\n",
       "      <td>26.11</td>\n",
       "      <td>9165</td>\n",
       "      <td>ULTRA BEVERAGE COMPANY LLP</td>\n",
       "    </tr>\n",
       "    <tr>\n",
       "      <th>4</th>\n",
       "      <td>75</td>\n",
       "      <td>Three Olives Tomato Vodka</td>\n",
       "      <td>14.99</td>\n",
       "      <td>750mL</td>\n",
       "      <td>750</td>\n",
       "      <td>1</td>\n",
       "      <td>10.94</td>\n",
       "      <td>7245</td>\n",
       "      <td>PROXIMO SPIRITS INC.</td>\n",
       "    </tr>\n",
       "  </tbody>\n",
       "</table>\n",
       "</div>"
      ],
      "text/plain": [
       "   Brand                  Description  Price   Size Volume  Classification  \\\n",
       "0     58  Gekkeikan Black & Gold Sake  12.99  750mL    750               1   \n",
       "1     62     Herradura Silver Tequila  36.99  750mL    750               1   \n",
       "2     63   Herradura Reposado Tequila  38.99  750mL    750               1   \n",
       "3     72         No. 3 London Dry Gin  34.99  750mL    750               1   \n",
       "4     75    Three Olives Tomato Vodka  14.99  750mL    750               1   \n",
       "\n",
       "   PurchasePrice  VendorNumber                   VendorName  \n",
       "0           9.28          8320  SHAW ROSS INT L IMP LTD      \n",
       "1          28.67          1128  BROWN-FORMAN CORP            \n",
       "2          30.46          1128  BROWN-FORMAN CORP            \n",
       "3          26.11          9165  ULTRA BEVERAGE COMPANY LLP   \n",
       "4          10.94          7245  PROXIMO SPIRITS INC.         "
      ]
     },
     "execution_count": 8,
     "metadata": {},
     "output_type": "execute_result"
    }
   ],
   "source": [
    "data_p_compra = pd.read_csv('C:/Users/sagua/OneDrive/Escritorio/DATA HENRY/Proyecto Final/2017PurchasePricesDec.csv') \n",
    "data_p_compra.head()"
   ]
  },
  {
   "cell_type": "markdown",
   "id": "8064487f",
   "metadata": {},
   "source": [
    "Utilizando el atributo .shape() se describen las caracteristicas de nuestro dataset para verificar la cantidad de registros "
   ]
  },
  {
   "cell_type": "code",
   "execution_count": null,
   "id": "8d919427",
   "metadata": {},
   "outputs": [
    {
     "name": "stdout",
     "output_type": "stream",
     "text": [
      "Total Registros: 12261, Total Columnas: 9\n"
     ]
    }
   ],
   "source": [
    "print(f\"Total Registros: {data_p_compra.shape[0]}, Total Columnas: {data_p_compra.shape[1]}\")"
   ]
  },
  {
   "cell_type": "markdown",
   "id": "9dbc5199",
   "metadata": {},
   "source": [
    "Procedemos a imprimir los nombres de las columnas y sus respectivos tipos de datos en el DataFrame. Esto nos permite conocer si las variables son numéricas, de texto, fechas, etc.\n",
    "Lo cual es útil para decidir cómo limpiarlas, analizarlas o visualizarlas más adelante."
   ]
  },
  {
   "cell_type": "code",
   "execution_count": 7,
   "id": "b97e5c4e",
   "metadata": {},
   "outputs": [
    {
     "name": "stdout",
     "output_type": "stream",
     "text": [
      "\n",
      "Columnas y tipos de datos:\n",
      "Brand: int64\n",
      "Description: object\n",
      "Price: float64\n",
      "Size: object\n",
      "Volume: object\n",
      "Classification: int64\n",
      "PurchasePrice: float64\n",
      "VendorNumber: int64\n",
      "VendorName: object\n"
     ]
    }
   ],
   "source": [
    "print(\"\\nColumnas y tipos de datos:\")\n",
    "for col, dtype in data_p_compra.dtypes.items():\n",
    "    print(f\"{col}: {dtype}\")"
   ]
  },
  {
   "cell_type": "code",
   "execution_count": 9,
   "id": "1e0e7c1e",
   "metadata": {},
   "outputs": [
    {
     "data": {
      "application/vnd.microsoft.datawrangler.viewer.v0+json": {
       "columns": [
        {
         "name": "index",
         "rawType": "object",
         "type": "string"
        },
        {
         "name": "Brand",
         "rawType": "float64",
         "type": "float"
        },
        {
         "name": "Price",
         "rawType": "float64",
         "type": "float"
        },
        {
         "name": "Classification",
         "rawType": "float64",
         "type": "float"
        },
        {
         "name": "PurchasePrice",
         "rawType": "float64",
         "type": "float"
        },
        {
         "name": "VendorNumber",
         "rawType": "float64",
         "type": "float"
        }
       ],
       "ref": "72aeb218-dbf0-49c0-8c06-1f341d61e6b2",
       "rows": [
        [
         "count",
         "12261.0",
         "12261.0",
         "12261.0",
         "12261.0",
         "12261.0"
        ],
        [
         "mean",
         "17989.067123399396",
         "38.64023978468314",
         "1.7089960035886143",
         "26.488219557947964",
         "10814.861756789822"
        ],
        [
         "std",
         "12528.503463986646",
         "206.1511717108504",
         "0.45424387640334",
         "156.18294834427357",
         "19007.6823221926"
        ],
        [
         "min",
         "58.0",
         "0.0",
         "1.0",
         "0.0",
         "2.0"
        ],
        [
         "25%",
         "5990.0",
         "10.99",
         "1.0",
         "6.89",
         "3960.0"
        ],
        [
         "50%",
         "18788.0",
         "15.99",
         "2.0",
         "10.65",
         "7153.0"
        ],
        [
         "75%",
         "25117.0",
         "29.99",
         "2.0",
         "20.13",
         "9552.0"
        ],
        [
         "max",
         "90631.0",
         "13999.9",
         "2.0",
         "11111.03",
         "173357.0"
        ]
       ],
       "shape": {
        "columns": 5,
        "rows": 8
       }
      },
      "text/html": [
       "<div>\n",
       "<style scoped>\n",
       "    .dataframe tbody tr th:only-of-type {\n",
       "        vertical-align: middle;\n",
       "    }\n",
       "\n",
       "    .dataframe tbody tr th {\n",
       "        vertical-align: top;\n",
       "    }\n",
       "\n",
       "    .dataframe thead th {\n",
       "        text-align: right;\n",
       "    }\n",
       "</style>\n",
       "<table border=\"1\" class=\"dataframe\">\n",
       "  <thead>\n",
       "    <tr style=\"text-align: right;\">\n",
       "      <th></th>\n",
       "      <th>Brand</th>\n",
       "      <th>Price</th>\n",
       "      <th>Classification</th>\n",
       "      <th>PurchasePrice</th>\n",
       "      <th>VendorNumber</th>\n",
       "    </tr>\n",
       "  </thead>\n",
       "  <tbody>\n",
       "    <tr>\n",
       "      <th>count</th>\n",
       "      <td>12261.000000</td>\n",
       "      <td>12261.000000</td>\n",
       "      <td>12261.000000</td>\n",
       "      <td>12261.000000</td>\n",
       "      <td>12261.000000</td>\n",
       "    </tr>\n",
       "    <tr>\n",
       "      <th>mean</th>\n",
       "      <td>17989.067123</td>\n",
       "      <td>38.640240</td>\n",
       "      <td>1.708996</td>\n",
       "      <td>26.488220</td>\n",
       "      <td>10814.861757</td>\n",
       "    </tr>\n",
       "    <tr>\n",
       "      <th>std</th>\n",
       "      <td>12528.503464</td>\n",
       "      <td>206.151172</td>\n",
       "      <td>0.454244</td>\n",
       "      <td>156.182948</td>\n",
       "      <td>19007.682322</td>\n",
       "    </tr>\n",
       "    <tr>\n",
       "      <th>min</th>\n",
       "      <td>58.000000</td>\n",
       "      <td>0.000000</td>\n",
       "      <td>1.000000</td>\n",
       "      <td>0.000000</td>\n",
       "      <td>2.000000</td>\n",
       "    </tr>\n",
       "    <tr>\n",
       "      <th>25%</th>\n",
       "      <td>5990.000000</td>\n",
       "      <td>10.990000</td>\n",
       "      <td>1.000000</td>\n",
       "      <td>6.890000</td>\n",
       "      <td>3960.000000</td>\n",
       "    </tr>\n",
       "    <tr>\n",
       "      <th>50%</th>\n",
       "      <td>18788.000000</td>\n",
       "      <td>15.990000</td>\n",
       "      <td>2.000000</td>\n",
       "      <td>10.650000</td>\n",
       "      <td>7153.000000</td>\n",
       "    </tr>\n",
       "    <tr>\n",
       "      <th>75%</th>\n",
       "      <td>25117.000000</td>\n",
       "      <td>29.990000</td>\n",
       "      <td>2.000000</td>\n",
       "      <td>20.130000</td>\n",
       "      <td>9552.000000</td>\n",
       "    </tr>\n",
       "    <tr>\n",
       "      <th>max</th>\n",
       "      <td>90631.000000</td>\n",
       "      <td>13999.900000</td>\n",
       "      <td>2.000000</td>\n",
       "      <td>11111.030000</td>\n",
       "      <td>173357.000000</td>\n",
       "    </tr>\n",
       "  </tbody>\n",
       "</table>\n",
       "</div>"
      ],
      "text/plain": [
       "              Brand         Price  Classification  PurchasePrice  \\\n",
       "count  12261.000000  12261.000000    12261.000000   12261.000000   \n",
       "mean   17989.067123     38.640240        1.708996      26.488220   \n",
       "std    12528.503464    206.151172        0.454244     156.182948   \n",
       "min       58.000000      0.000000        1.000000       0.000000   \n",
       "25%     5990.000000     10.990000        1.000000       6.890000   \n",
       "50%    18788.000000     15.990000        2.000000      10.650000   \n",
       "75%    25117.000000     29.990000        2.000000      20.130000   \n",
       "max    90631.000000  13999.900000        2.000000   11111.030000   \n",
       "\n",
       "        VendorNumber  \n",
       "count   12261.000000  \n",
       "mean    10814.861757  \n",
       "std     19007.682322  \n",
       "min         2.000000  \n",
       "25%      3960.000000  \n",
       "50%      7153.000000  \n",
       "75%      9552.000000  \n",
       "max    173357.000000  "
      ]
     },
     "execution_count": 9,
     "metadata": {},
     "output_type": "execute_result"
    }
   ],
   "source": [
    "data_p_compra.describe()"
   ]
  },
  {
   "cell_type": "code",
   "execution_count": 11,
   "id": "810a8f44",
   "metadata": {},
   "outputs": [
    {
     "name": "stdout",
     "output_type": "stream",
     "text": [
      "Brand             0\n",
      "Description       1\n",
      "Price             0\n",
      "Size              1\n",
      "Volume            1\n",
      "Classification    0\n",
      "PurchasePrice     0\n",
      "VendorNumber      0\n",
      "VendorName        0\n",
      "dtype: int64\n"
     ]
    }
   ],
   "source": [
    "print(data_p_compra.isnull().sum())"
   ]
  },
  {
   "cell_type": "code",
   "execution_count": 10,
   "id": "621c0f04",
   "metadata": {},
   "outputs": [
    {
     "name": "stdout",
     "output_type": "stream",
     "text": [
      "Brand             0.00\n",
      "Description       0.01\n",
      "Price             0.00\n",
      "Size              0.01\n",
      "Volume            0.01\n",
      "Classification    0.00\n",
      "PurchasePrice     0.00\n",
      "VendorNumber      0.00\n",
      "VendorName        0.00\n",
      "dtype: float64\n"
     ]
    }
   ],
   "source": [
    "print((data_p_compra.isnull().sum() / len(data_p_compra) * 100).round(2))"
   ]
  },
  {
   "cell_type": "markdown",
   "id": "9a81b121",
   "metadata": {},
   "source": [
    "Considerando que las columnas con valores nulos representan menos del 0.01% se decide eliminar esos registros "
   ]
  },
  {
   "cell_type": "code",
   "execution_count": 13,
   "id": "1ed15ae6",
   "metadata": {},
   "outputs": [
    {
     "name": "stdout",
     "output_type": "stream",
     "text": [
      "Description    0\n",
      "Size           0\n",
      "Volume         0\n",
      "dtype: int64\n"
     ]
    }
   ],
   "source": [
    "# Elimina las filas que tienen valores faltantes en las columnas 'Description', 'Size' y 'Volume',\n",
    "# ya que se considera que esos valores no son relevantes para el análisis.\n",
    "data_p_compra = data_p_compra.dropna(subset=['Description', 'Size', 'Volume'])\n",
    "\n",
    "print(data_p_compra[['Description', 'Size', 'Volume']].isnull().sum())"
   ]
  },
  {
   "cell_type": "markdown",
   "id": "1dc5540b",
   "metadata": {},
   "source": [
    "Revisión de registros duplicados"
   ]
  },
  {
   "cell_type": "code",
   "execution_count": null,
   "id": "a6aee1cc",
   "metadata": {},
   "outputs": [
    {
     "name": "stdout",
     "output_type": "stream",
     "text": [
      "Duplicados exactos: 0\n",
      "Empty DataFrame\n",
      "Columns: [Brand, Description, Price, Size, Volume, Classification, PurchasePrice, VendorNumber, VendorName]\n",
      "Index: []\n"
     ]
    }
   ],
   "source": [
    "# Detectar duplicados en todas las columnas\n",
    "duplicados_todos = data_p_compra.duplicated()\n",
    "\n",
    "# Mostrar cuántos registros están duplicados, esto no cuenta la primera aparición de cada registro\n",
    "print(f\"Duplicados exactos: {duplicados_todos.sum()}\")\n",
    "\n",
    "# Mostrar las filas duplicadas exactas\n",
    "print(data_p_compra[duplicados_todos])"
   ]
  },
  {
   "cell_type": "markdown",
   "id": "93f15790",
   "metadata": {},
   "source": [
    "Revision de registros duplicados por Marca, descripción y precio"
   ]
  },
  {
   "cell_type": "code",
   "execution_count": 19,
   "id": "96aee108",
   "metadata": {},
   "outputs": [
    {
     "name": "stdout",
     "output_type": "stream",
     "text": [
      "Duplicados por Marca, Descripción y Precio: 0\n",
      "Empty DataFrame\n",
      "Columns: [Brand, Description, Price, Size, Volume, Classification, PurchasePrice, VendorNumber, VendorName]\n",
      "Index: []\n"
     ]
    }
   ],
   "source": [
    "# Detectar duplicados basados en columnas clave\n",
    "cols_clave = ['Brand', 'Description', 'Price']\n",
    "duplicados_especificos = data_p_compra.duplicated(subset=cols_clave)\n",
    "\n",
    "print(f\"Duplicados por Marca, Descripción y Precio: {duplicados_especificos.sum()}\")\n",
    "\n",
    "# Ver las filas duplicadas según este criterio\n",
    "print(data_p_compra[duplicados_especificos])"
   ]
  },
  {
   "cell_type": "code",
   "execution_count": 50,
   "id": "14af66ea",
   "metadata": {},
   "outputs": [
    {
     "name": "stdout",
     "output_type": "stream",
     "text": [
      "['750mL' '1000mL' '1750mL' '50mL' '375mL' '100mL 4 Pk' '50mL 5 Pk' '100mL'\n",
      " '200mL' '50mL 4 Pk' '50mL 3 Pk' '300mL' '200mL 4 Pk' '750mL 2 Pk'\n",
      " '250mL 4 Pk' '1500mL' '3000mL' '5000mL' '4000mL' '187mL 4 Pk' '150mL'\n",
      " '187mL' '500mL' '720mL' '650mL' '200mL 3 Pk' '187mL 3 Pk' '330mL' '250mL'\n",
      " '750mL + 3/' '18000mL' '180mL' '750mL + 4/' '6000mL' '1000mL 2 Pk'\n",
      " '750mL 12 P' '750mL 6 Pk' '20mL 5 Pk' '375mL 2 Pk' '20000mL' '50mL 12 Pk'\n",
      " '750mL 3 Pk' '375mL 3 Pk' '750mL + 1/' '200mL 5 Pk' '162.5mL' '400mL'\n",
      " '1100ml' '600mL' '19500mL' '560mL' '3750mL' '750mL  3' '1500ml' '9000mL']\n"
     ]
    }
   ],
   "source": [
    "print(data_p_compra['Size'].unique())"
   ]
  },
  {
   "cell_type": "code",
   "execution_count": 24,
   "id": "4f415da8",
   "metadata": {},
   "outputs": [
    {
     "name": "stdout",
     "output_type": "stream",
     "text": [
      "['750' '1000' '1750' '50' '375' '100' '200' '300' 'Unknown' '250' '1500'\n",
      " '3000' '5000' '4000' '187' '150' '500' '720' '650' '330' '18000' '180'\n",
      " '6000' '20' '20000' '162.5' '400' '1100' '600' '19500' '560' '3750'\n",
      " '9000']\n"
     ]
    }
   ],
   "source": [
    "print(data_p_compra['Volume'].unique())"
   ]
  },
  {
   "cell_type": "code",
   "execution_count": null,
   "id": "a82dee61",
   "metadata": {},
   "outputs": [],
   "source": [
    "# Convertir 'Volume' a valores numéricos (en mililitros), asignando NaN a 'Unknown'\n",
    "data_p_compra['Volume_ml'] = pd.to_numeric(data_p_compra['Volume'], errors='coerce')\n"
   ]
  },
  {
   "cell_type": "code",
   "execution_count": 34,
   "id": "49d545cb",
   "metadata": {},
   "outputs": [
    {
     "name": "stdout",
     "output_type": "stream",
     "text": [
      "4\n"
     ]
    }
   ],
   "source": [
    "print(data_p_compra['Volume_ml'].isnull().sum())  # Cuántos NaN hay"
   ]
  },
  {
   "cell_type": "markdown",
   "id": "f561d59d",
   "metadata": {},
   "source": [
    "Se decide eliminar 4 registros con valores faltantes de un total de 12,260 ya que representa solo un 0.03% del total del dataset, lo cual es estadísticamente insignificante y no tendrá un impacto relevante en el análisis general."
   ]
  },
  {
   "cell_type": "code",
   "execution_count": 52,
   "id": "cc1093d6",
   "metadata": {},
   "outputs": [
    {
     "name": "stdout",
     "output_type": "stream",
     "text": [
      "Total Registros: 12256, Total Columnas: 10\n"
     ]
    }
   ],
   "source": [
    "# Eliminar filas donde Volume_ml es NaN\n",
    "data_p_compra = data_p_compra.dropna(subset=['Volume_ml'])\n",
    "\n",
    "#Convertir la columna Volume_ml a entero\n",
    "data_p_compra['Volume_ml'] = data_p_compra['Volume_ml'].astype(int)\n",
    "\n",
    "#Imprimir el numero de registros para verificar cuantos quedaron \n",
    "print(f\"Total Registros: {data_p_compra.shape[0]}, Total Columnas: {data_p_compra.shape[1]}\")"
   ]
  },
  {
   "cell_type": "code",
   "execution_count": 43,
   "id": "88a48cf9",
   "metadata": {},
   "outputs": [
    {
     "name": "stdout",
     "output_type": "stream",
     "text": [
      "\n",
      "Columnas y tipos de datos:\n",
      "Brand: int64\n",
      "Description: object\n",
      "Price: float64\n",
      "Size: object\n",
      "Volume: object\n",
      "Classification: int64\n",
      "PurchasePrice: float64\n",
      "VendorNumber: int64\n",
      "VendorName: object\n",
      "Volume_ml: int64\n"
     ]
    }
   ],
   "source": [
    "print(\"\\nColumnas y tipos de datos:\")\n",
    "for col, dtype in data_p_compra.dtypes.items():\n",
    "    print(f\"{col}: {dtype}\")"
   ]
  },
  {
   "cell_type": "code",
   "execution_count": 45,
   "id": "464c15c6",
   "metadata": {},
   "outputs": [
    {
     "name": "stdout",
     "output_type": "stream",
     "text": [
      "[  750  1000  1750    50   375   100   200   300   250  1500  3000  5000\n",
      "  4000   187   150   500   720   650   330 18000   180  6000    20 20000\n",
      "   162   400  1100   600 19500   560  3750  9000]\n"
     ]
    }
   ],
   "source": [
    "print(data_p_compra['Volume_ml'].unique())"
   ]
  },
  {
   "cell_type": "code",
   "execution_count": 46,
   "id": "c494ea1e",
   "metadata": {},
   "outputs": [],
   "source": [
    "def detectar_outliers_iqr(columna):\n",
    "    Q1 = data_p_compra[columna].quantile(0.25)\n",
    "    Q3 = data_p_compra[columna].quantile(0.75)\n",
    "    IQR = Q3 - Q1\n",
    "    limite_inferior = Q1 - 1.5 * IQR\n",
    "    limite_superior = Q3 + 1.5 * IQR\n",
    "    outliers = data_p_compra[(data_p_compra[columna] < limite_inferior) | (data_p_compra[columna] > limite_superior)]\n",
    "    return outliers"
   ]
  },
  {
   "cell_type": "code",
   "execution_count": 47,
   "id": "96340406",
   "metadata": {},
   "outputs": [
    {
     "name": "stdout",
     "output_type": "stream",
     "text": [
      "Outliers en 'Price': 1275\n",
      "Outliers en 'PurchasePrice': 1241\n",
      "Outliers en 'Volume_ml': 2416\n"
     ]
    }
   ],
   "source": [
    "columnas_a_revisar = ['Price', 'PurchasePrice', 'Volume_ml']\n",
    "\n",
    "for col in columnas_a_revisar:\n",
    "    outliers = detectar_outliers_iqr(col)\n",
    "    print(f\"Outliers en '{col}': {len(outliers)}\")"
   ]
  },
  {
   "cell_type": "code",
   "execution_count": 49,
   "id": "63794aad",
   "metadata": {},
   "outputs": [
    {
     "data": {
      "image/png": "[encoded data removed]",
      "text/plain": [
       "<Figure size 1500x500 with 3 Axes>"
      ]
     },
     "metadata": {},
     "output_type": "display_data"
    }
   ],
   "source": [
    "plt.figure(figsize=(15, 5))\n",
    "\n",
    "plt.subplot(1, 3, 1)\n",
    "sns.boxplot(x=data_p_compra['Price'])\n",
    "plt.title('Outliers en Price')\n",
    "\n",
    "plt.subplot(1, 3, 2)\n",
    "sns.boxplot(x=data_p_compra['PurchasePrice'])\n",
    "plt.title('Outliers en PurchasePrice')\n",
    "\n",
    "plt.subplot(1, 3, 3)\n",
    "sns.boxplot(x=data_p_compra['Volume_ml'])\n",
    "plt.title('Outliers en Volume_ml')\n",
    "\n",
    "plt.tight_layout()\n",
    "plt.show()\n"
   ]
  }
 ],
 "metadata": {
  "kernelspec": {
   "display_name": "Python 3",
   "language": "python",
   "name": "python3"
  },
  "language_info": {
   "codemirror_mode": {
    "name": "ipython",
    "version": 3
   },
   "file_extension": ".py",
   "mimetype": "text/x-python",
   "name": "python",
   "nbconvert_exporter": "python",
   "pygments_lexer": "ipython3",
   "version": "3.13.1"
  }
 },
 "nbformat": 4,
 "nbformat_minor": 5
}
